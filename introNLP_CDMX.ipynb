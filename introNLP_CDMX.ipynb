{
  "nbformat": 4,
  "nbformat_minor": 0,
  "metadata": {
    "colab": {
      "name": "introNLP_CDMX.ipynb",
      "version": "0.3.2",
      "provenance": [],
      "include_colab_link": true
    },
    "language_info": {
      "codemirror_mode": {
        "name": "ipython",
        "version": 3
      },
      "file_extension": ".py",
      "mimetype": "text/x-python",
      "name": "python",
      "nbconvert_exporter": "python",
      "pygments_lexer": "ipython3",
      "version": "3.6.7"
    },
    "kernelspec": {
      "display_name": "Python 3",
      "language": "python",
      "name": "python3"
    }
  },
  "cells": [
    {
      "cell_type": "markdown",
      "metadata": {
        "id": "view-in-github",
        "colab_type": "text"
      },
      "source": [
        "<a href=\"https://colab.research.google.com/github/RJuro/UMA-NLP2019/blob/master/introNLP_CDMX.ipynb\" target=\"_parent\"><img src=\"https://colab.research.google.com/assets/colab-badge.svg\" alt=\"Open In Colab\"/></a>"
      ]
    },
    {
      "cell_type": "code",
      "metadata": {
        "id": "JsOJt8xY__xr",
        "colab_type": "code",
        "colab": {
          "base_uri": "https://localhost:8080/",
          "height": 659
        },
        "outputId": "d60d3efe-44d0-4bec-b5ca-202a474fc2a0"
      },
      "source": [
        "!pip install spanish_sentiment_analysis\n",
        "!pip install langid\n",
        "!pip install umap-learn\n"
      ],
      "execution_count": 1,
      "outputs": [
        {
          "output_type": "stream",
          "text": [
            "Collecting spanish_sentiment_analysis\n",
            "\u001b[?25l  Downloading https://files.pythonhosted.org/packages/9f/7b/f9864d17910f3b6c9ed7b3a7cda279a76dcf9bc92a9282536d90dc789650/spanish_sentiment_analysis-1.0.0-py3-none-any.whl (15.8MB)\n",
            "\u001b[K     |████████████████████████████████| 15.8MB 2.9MB/s \n",
            "\u001b[?25hCollecting marisa-trie (from spanish_sentiment_analysis)\n",
            "\u001b[?25l  Downloading https://files.pythonhosted.org/packages/20/95/d23071d0992dabcb61c948fb118a90683193befc88c23e745b050a29e7db/marisa-trie-0.7.5.tar.gz (270kB)\n",
            "\u001b[K     |████████████████████████████████| 276kB 43.6MB/s \n",
            "\u001b[?25hRequirement already satisfied: scipy in /usr/local/lib/python3.6/dist-packages (from spanish_sentiment_analysis) (1.3.0)\n",
            "Requirement already satisfied: nltk in /usr/local/lib/python3.6/dist-packages (from spanish_sentiment_analysis) (3.2.5)\n",
            "Requirement already satisfied: numpy in /usr/local/lib/python3.6/dist-packages (from spanish_sentiment_analysis) (1.16.4)\n",
            "Requirement already satisfied: sklearn in /usr/local/lib/python3.6/dist-packages (from spanish_sentiment_analysis) (0.0)\n",
            "Requirement already satisfied: six in /usr/local/lib/python3.6/dist-packages (from nltk->spanish_sentiment_analysis) (1.12.0)\n",
            "Requirement already satisfied: scikit-learn in /usr/local/lib/python3.6/dist-packages (from sklearn->spanish_sentiment_analysis) (0.21.2)\n",
            "Requirement already satisfied: joblib>=0.11 in /usr/local/lib/python3.6/dist-packages (from scikit-learn->sklearn->spanish_sentiment_analysis) (0.13.2)\n",
            "Building wheels for collected packages: marisa-trie\n",
            "  Building wheel for marisa-trie (setup.py) ... \u001b[?25l\u001b[?25hdone\n",
            "  Stored in directory: /root/.cache/pip/wheels/45/24/79/022624fc914f0e559fe8a1141aaff1f9df810905a13fc75d57\n",
            "Successfully built marisa-trie\n",
            "Installing collected packages: marisa-trie, spanish-sentiment-analysis\n",
            "Successfully installed marisa-trie-0.7.5 spanish-sentiment-analysis-1.0.0\n",
            "Collecting langid\n",
            "\u001b[?25l  Downloading https://files.pythonhosted.org/packages/ea/4c/0fb7d900d3b0b9c8703be316fbddffecdab23c64e1b46c7a83561d78bd43/langid-1.1.6.tar.gz (1.9MB)\n",
            "\u001b[K     |████████████████████████████████| 1.9MB 2.8MB/s \n",
            "\u001b[?25hRequirement already satisfied: numpy in /usr/local/lib/python3.6/dist-packages (from langid) (1.16.4)\n",
            "Building wheels for collected packages: langid\n",
            "  Building wheel for langid (setup.py) ... \u001b[?25l\u001b[?25hdone\n",
            "  Stored in directory: /root/.cache/pip/wheels/29/bc/61/50a93be85d1afe9436c3dc61f38da8ad7b637a38af4824e86e\n",
            "Successfully built langid\n",
            "Installing collected packages: langid\n",
            "Successfully installed langid-1.1.6\n",
            "Requirement already satisfied: umap-learn in /usr/local/lib/python3.6/dist-packages (0.3.9)\n",
            "Requirement already satisfied: numba>=0.37 in /usr/local/lib/python3.6/dist-packages (from umap-learn) (0.40.1)\n",
            "Requirement already satisfied: scipy>=0.19 in /usr/local/lib/python3.6/dist-packages (from umap-learn) (1.3.0)\n",
            "Requirement already satisfied: scikit-learn>=0.16 in /usr/local/lib/python3.6/dist-packages (from umap-learn) (0.21.2)\n",
            "Requirement already satisfied: numpy>=1.13 in /usr/local/lib/python3.6/dist-packages (from umap-learn) (1.16.4)\n",
            "Requirement already satisfied: llvmlite>=0.25.0dev0 in /usr/local/lib/python3.6/dist-packages (from numba>=0.37->umap-learn) (0.29.0)\n",
            "Requirement already satisfied: joblib>=0.11 in /usr/local/lib/python3.6/dist-packages (from scikit-learn>=0.16->umap-learn) (0.13.2)\n"
          ],
          "name": "stdout"
        }
      ]
    },
    {
      "cell_type": "markdown",
      "metadata": {
        "id": "5dPu5YWq__xu",
        "colab_type": "text"
      },
      "source": [
        "# Introduction to Natural Language Processing & Machine Learning for Social Science Research\n",
        "\n",
        "### Roman Jurowetzki, Assistant Professor, Aalborg University Denmark\n",
        "### 8/7 - 2019 UAM, CDMX\n",
        "\n",
        "- In this tutorial we will explore some relatively approachible techniques to utilize text as valuable data source in social science research. \n",
        "- The tutorial will use Python and several modern NLP and Machine Learning libraries to appraoch the problems\n",
        "- I will present 3 cases of typical applications that can be transferred to different reserach contexts.\n",
        "- We will be using a Jupyter Notebook as instruction and programming interface\n",
        "- The material will be available at http://github.com/RJuro/UAM2019 and you should be able to replicate everything that we do today"
      ]
    },
    {
      "cell_type": "markdown",
      "metadata": {
        "id": "xTGMYrV3__xv",
        "colab_type": "text"
      },
      "source": [
        "## Case 1: AirBnb in CDMX\n",
        "\n",
        "AirBnb is collecting large amounts of text data every time the platform asks hosts and guests to review each other. This information is essential to create trust and to allow transactions on the platform. \n",
        "\n",
        "The textual data is valuable as it countatins lots of information. We can for example ask:\n",
        "\n",
        "- why did some one like or dislike a place?\n",
        "- do people describe cheaper stays differently than those that are expensive?\n",
        "\n",
        "We will use data form [InsideAirbnb](http://insideairbnb.com/ \"Airbnb\"), an independant platform that tracks Airbnb's influence on urban communities \n",
        "\n",
        "We will be using some out-of-the-box modules rather than train our classifiers from the ground up."
      ]
    },
    {
      "cell_type": "code",
      "metadata": {
        "id": "DBpqfHKh__xw",
        "colab_type": "code",
        "colab": {}
      },
      "source": [
        "# import the pandas library for handling CSVs and table-type data \n",
        "# import numpy for some (simple) linear algebra\n",
        "import pandas as pd\n",
        "import numpy as np"
      ],
      "execution_count": 0,
      "outputs": []
    },
    {
      "cell_type": "code",
      "metadata": {
        "id": "4s8ulxdZ__xy",
        "colab_type": "code",
        "colab": {
          "base_uri": "https://localhost:8080/",
          "height": 227
        },
        "outputId": "8fcda106-f61f-4fe3-9c29-de3ef60477d4"
      },
      "source": [
        "# download and unzip the data that we are going to use\n",
        "!wget https://storage.googleapis.com/roman-general/data.zip"
      ],
      "execution_count": 17,
      "outputs": [
        {
          "output_type": "stream",
          "text": [
            "--2019-07-08 19:17:53--  https://storage.googleapis.com/roman-general/data.zip\n",
            "Resolving storage.googleapis.com (storage.googleapis.com)... 74.125.141.128, 2607:f8b0:400c:c06::80\n",
            "Connecting to storage.googleapis.com (storage.googleapis.com)|74.125.141.128|:443... connected.\n",
            "HTTP request sent, awaiting response... 200 OK\n",
            "Length: 61163094 (58M) [application/zip]\n",
            "Saving to: ‘data.zip.2’\n",
            "\n",
            "data.zip.2          100%[===================>]  58.33M  68.7MB/s    in 0.8s    \n",
            "\n",
            "2019-07-08 19:17:55 (68.7 MB/s) - ‘data.zip.2’ saved [61163094/61163094]\n",
            "\n"
          ],
          "name": "stdout"
        }
      ]
    },
    {
      "cell_type": "code",
      "metadata": {
        "id": "0_O6fmgVAYLP",
        "colab_type": "code",
        "colab": {
          "base_uri": "https://localhost:8080/",
          "height": 225
        },
        "outputId": "440fbe14-2e4c-407d-88fe-2eac92e44251"
      },
      "source": [
        "!unzip data.zip"
      ],
      "execution_count": 18,
      "outputs": [
        {
          "output_type": "stream",
          "text": [
            "Archive:  data.zip.2\n",
            "   creating: data/\n",
            "  inflating: data/upwork_aom_300k.csv  \n",
            "   creating: __MACOSX/\n",
            "   creating: __MACOSX/data/\n",
            "  inflating: __MACOSX/data/._upwork_aom_300k.csv  \n",
            "  inflating: data/reviews.csv        \n",
            "  inflating: __MACOSX/data/._reviews.csv  \n",
            "  inflating: data/spanish_revs.csv   \n",
            "  inflating: __MACOSX/data/._spanish_revs.csv  \n",
            "  inflating: data/listings.csv       \n",
            "  inflating: __MACOSX/data/._listings.csv  \n"
          ],
          "name": "stdout"
        }
      ]
    },
    {
      "cell_type": "code",
      "metadata": {
        "id": "a_ifomnQ__x0",
        "colab_type": "code",
        "colab": {
          "base_uri": "https://localhost:8080/",
          "height": 414
        },
        "outputId": "b587ca0e-f716-4be9-e39a-40e4e172cec4"
      },
      "source": [
        "# Open the reviews and reduce from 300k to random 10k rows\n",
        "\n",
        "reviews = pd.read_csv('reviews.csv')\n",
        "reviews = reviews.sample(5000)"
      ],
      "execution_count": 19,
      "outputs": [
        {
          "output_type": "error",
          "ename": "FileNotFoundError",
          "evalue": "ignored",
          "traceback": [
            "\u001b[0;31m---------------------------------------------------------------------------\u001b[0m",
            "\u001b[0;31mFileNotFoundError\u001b[0m                         Traceback (most recent call last)",
            "\u001b[0;32m<ipython-input-19-4d3eb9aeaf80>\u001b[0m in \u001b[0;36m<module>\u001b[0;34m()\u001b[0m\n\u001b[1;32m      1\u001b[0m \u001b[0;34m\u001b[0m\u001b[0m\n\u001b[0;32m----> 2\u001b[0;31m \u001b[0mreviews\u001b[0m \u001b[0;34m=\u001b[0m \u001b[0mpd\u001b[0m\u001b[0;34m.\u001b[0m\u001b[0mread_csv\u001b[0m\u001b[0;34m(\u001b[0m\u001b[0;34m'reviews.csv'\u001b[0m\u001b[0;34m)\u001b[0m\u001b[0;34m\u001b[0m\u001b[0;34m\u001b[0m\u001b[0m\n\u001b[0m\u001b[1;32m      3\u001b[0m \u001b[0mreviews\u001b[0m \u001b[0;34m=\u001b[0m \u001b[0mreviews\u001b[0m\u001b[0;34m.\u001b[0m\u001b[0msample\u001b[0m\u001b[0;34m(\u001b[0m\u001b[0;36m5000\u001b[0m\u001b[0;34m)\u001b[0m\u001b[0;34m\u001b[0m\u001b[0;34m\u001b[0m\u001b[0m\n",
            "\u001b[0;32m/usr/local/lib/python3.6/dist-packages/pandas/io/parsers.py\u001b[0m in \u001b[0;36mparser_f\u001b[0;34m(filepath_or_buffer, sep, delimiter, header, names, index_col, usecols, squeeze, prefix, mangle_dupe_cols, dtype, engine, converters, true_values, false_values, skipinitialspace, skiprows, skipfooter, nrows, na_values, keep_default_na, na_filter, verbose, skip_blank_lines, parse_dates, infer_datetime_format, keep_date_col, date_parser, dayfirst, iterator, chunksize, compression, thousands, decimal, lineterminator, quotechar, quoting, doublequote, escapechar, comment, encoding, dialect, tupleize_cols, error_bad_lines, warn_bad_lines, delim_whitespace, low_memory, memory_map, float_precision)\u001b[0m\n\u001b[1;32m    700\u001b[0m                     skip_blank_lines=skip_blank_lines)\n\u001b[1;32m    701\u001b[0m \u001b[0;34m\u001b[0m\u001b[0m\n\u001b[0;32m--> 702\u001b[0;31m         \u001b[0;32mreturn\u001b[0m \u001b[0m_read\u001b[0m\u001b[0;34m(\u001b[0m\u001b[0mfilepath_or_buffer\u001b[0m\u001b[0;34m,\u001b[0m \u001b[0mkwds\u001b[0m\u001b[0;34m)\u001b[0m\u001b[0;34m\u001b[0m\u001b[0;34m\u001b[0m\u001b[0m\n\u001b[0m\u001b[1;32m    703\u001b[0m \u001b[0;34m\u001b[0m\u001b[0m\n\u001b[1;32m    704\u001b[0m     \u001b[0mparser_f\u001b[0m\u001b[0;34m.\u001b[0m\u001b[0m__name__\u001b[0m \u001b[0;34m=\u001b[0m \u001b[0mname\u001b[0m\u001b[0;34m\u001b[0m\u001b[0;34m\u001b[0m\u001b[0m\n",
            "\u001b[0;32m/usr/local/lib/python3.6/dist-packages/pandas/io/parsers.py\u001b[0m in \u001b[0;36m_read\u001b[0;34m(filepath_or_buffer, kwds)\u001b[0m\n\u001b[1;32m    427\u001b[0m \u001b[0;34m\u001b[0m\u001b[0m\n\u001b[1;32m    428\u001b[0m     \u001b[0;31m# Create the parser.\u001b[0m\u001b[0;34m\u001b[0m\u001b[0;34m\u001b[0m\u001b[0;34m\u001b[0m\u001b[0m\n\u001b[0;32m--> 429\u001b[0;31m     \u001b[0mparser\u001b[0m \u001b[0;34m=\u001b[0m \u001b[0mTextFileReader\u001b[0m\u001b[0;34m(\u001b[0m\u001b[0mfilepath_or_buffer\u001b[0m\u001b[0;34m,\u001b[0m \u001b[0;34m**\u001b[0m\u001b[0mkwds\u001b[0m\u001b[0;34m)\u001b[0m\u001b[0;34m\u001b[0m\u001b[0;34m\u001b[0m\u001b[0m\n\u001b[0m\u001b[1;32m    430\u001b[0m \u001b[0;34m\u001b[0m\u001b[0m\n\u001b[1;32m    431\u001b[0m     \u001b[0;32mif\u001b[0m \u001b[0mchunksize\u001b[0m \u001b[0;32mor\u001b[0m \u001b[0miterator\u001b[0m\u001b[0;34m:\u001b[0m\u001b[0;34m\u001b[0m\u001b[0;34m\u001b[0m\u001b[0m\n",
            "\u001b[0;32m/usr/local/lib/python3.6/dist-packages/pandas/io/parsers.py\u001b[0m in \u001b[0;36m__init__\u001b[0;34m(self, f, engine, **kwds)\u001b[0m\n\u001b[1;32m    893\u001b[0m             \u001b[0mself\u001b[0m\u001b[0;34m.\u001b[0m\u001b[0moptions\u001b[0m\u001b[0;34m[\u001b[0m\u001b[0;34m'has_index_names'\u001b[0m\u001b[0;34m]\u001b[0m \u001b[0;34m=\u001b[0m \u001b[0mkwds\u001b[0m\u001b[0;34m[\u001b[0m\u001b[0;34m'has_index_names'\u001b[0m\u001b[0;34m]\u001b[0m\u001b[0;34m\u001b[0m\u001b[0;34m\u001b[0m\u001b[0m\n\u001b[1;32m    894\u001b[0m \u001b[0;34m\u001b[0m\u001b[0m\n\u001b[0;32m--> 895\u001b[0;31m         \u001b[0mself\u001b[0m\u001b[0;34m.\u001b[0m\u001b[0m_make_engine\u001b[0m\u001b[0;34m(\u001b[0m\u001b[0mself\u001b[0m\u001b[0;34m.\u001b[0m\u001b[0mengine\u001b[0m\u001b[0;34m)\u001b[0m\u001b[0;34m\u001b[0m\u001b[0;34m\u001b[0m\u001b[0m\n\u001b[0m\u001b[1;32m    896\u001b[0m \u001b[0;34m\u001b[0m\u001b[0m\n\u001b[1;32m    897\u001b[0m     \u001b[0;32mdef\u001b[0m \u001b[0mclose\u001b[0m\u001b[0;34m(\u001b[0m\u001b[0mself\u001b[0m\u001b[0;34m)\u001b[0m\u001b[0;34m:\u001b[0m\u001b[0;34m\u001b[0m\u001b[0;34m\u001b[0m\u001b[0m\n",
            "\u001b[0;32m/usr/local/lib/python3.6/dist-packages/pandas/io/parsers.py\u001b[0m in \u001b[0;36m_make_engine\u001b[0;34m(self, engine)\u001b[0m\n\u001b[1;32m   1120\u001b[0m     \u001b[0;32mdef\u001b[0m \u001b[0m_make_engine\u001b[0m\u001b[0;34m(\u001b[0m\u001b[0mself\u001b[0m\u001b[0;34m,\u001b[0m \u001b[0mengine\u001b[0m\u001b[0;34m=\u001b[0m\u001b[0;34m'c'\u001b[0m\u001b[0;34m)\u001b[0m\u001b[0;34m:\u001b[0m\u001b[0;34m\u001b[0m\u001b[0;34m\u001b[0m\u001b[0m\n\u001b[1;32m   1121\u001b[0m         \u001b[0;32mif\u001b[0m \u001b[0mengine\u001b[0m \u001b[0;34m==\u001b[0m \u001b[0;34m'c'\u001b[0m\u001b[0;34m:\u001b[0m\u001b[0;34m\u001b[0m\u001b[0;34m\u001b[0m\u001b[0m\n\u001b[0;32m-> 1122\u001b[0;31m             \u001b[0mself\u001b[0m\u001b[0;34m.\u001b[0m\u001b[0m_engine\u001b[0m \u001b[0;34m=\u001b[0m \u001b[0mCParserWrapper\u001b[0m\u001b[0;34m(\u001b[0m\u001b[0mself\u001b[0m\u001b[0;34m.\u001b[0m\u001b[0mf\u001b[0m\u001b[0;34m,\u001b[0m \u001b[0;34m**\u001b[0m\u001b[0mself\u001b[0m\u001b[0;34m.\u001b[0m\u001b[0moptions\u001b[0m\u001b[0;34m)\u001b[0m\u001b[0;34m\u001b[0m\u001b[0;34m\u001b[0m\u001b[0m\n\u001b[0m\u001b[1;32m   1123\u001b[0m         \u001b[0;32melse\u001b[0m\u001b[0;34m:\u001b[0m\u001b[0;34m\u001b[0m\u001b[0;34m\u001b[0m\u001b[0m\n\u001b[1;32m   1124\u001b[0m             \u001b[0;32mif\u001b[0m \u001b[0mengine\u001b[0m \u001b[0;34m==\u001b[0m \u001b[0;34m'python'\u001b[0m\u001b[0;34m:\u001b[0m\u001b[0;34m\u001b[0m\u001b[0;34m\u001b[0m\u001b[0m\n",
            "\u001b[0;32m/usr/local/lib/python3.6/dist-packages/pandas/io/parsers.py\u001b[0m in \u001b[0;36m__init__\u001b[0;34m(self, src, **kwds)\u001b[0m\n\u001b[1;32m   1851\u001b[0m         \u001b[0mkwds\u001b[0m\u001b[0;34m[\u001b[0m\u001b[0;34m'usecols'\u001b[0m\u001b[0;34m]\u001b[0m \u001b[0;34m=\u001b[0m \u001b[0mself\u001b[0m\u001b[0;34m.\u001b[0m\u001b[0musecols\u001b[0m\u001b[0;34m\u001b[0m\u001b[0;34m\u001b[0m\u001b[0m\n\u001b[1;32m   1852\u001b[0m \u001b[0;34m\u001b[0m\u001b[0m\n\u001b[0;32m-> 1853\u001b[0;31m         \u001b[0mself\u001b[0m\u001b[0;34m.\u001b[0m\u001b[0m_reader\u001b[0m \u001b[0;34m=\u001b[0m \u001b[0mparsers\u001b[0m\u001b[0;34m.\u001b[0m\u001b[0mTextReader\u001b[0m\u001b[0;34m(\u001b[0m\u001b[0msrc\u001b[0m\u001b[0;34m,\u001b[0m \u001b[0;34m**\u001b[0m\u001b[0mkwds\u001b[0m\u001b[0;34m)\u001b[0m\u001b[0;34m\u001b[0m\u001b[0;34m\u001b[0m\u001b[0m\n\u001b[0m\u001b[1;32m   1854\u001b[0m         \u001b[0mself\u001b[0m\u001b[0;34m.\u001b[0m\u001b[0munnamed_cols\u001b[0m \u001b[0;34m=\u001b[0m \u001b[0mself\u001b[0m\u001b[0;34m.\u001b[0m\u001b[0m_reader\u001b[0m\u001b[0;34m.\u001b[0m\u001b[0munnamed_cols\u001b[0m\u001b[0;34m\u001b[0m\u001b[0;34m\u001b[0m\u001b[0m\n\u001b[1;32m   1855\u001b[0m \u001b[0;34m\u001b[0m\u001b[0m\n",
            "\u001b[0;32mpandas/_libs/parsers.pyx\u001b[0m in \u001b[0;36mpandas._libs.parsers.TextReader.__cinit__\u001b[0;34m()\u001b[0m\n",
            "\u001b[0;32mpandas/_libs/parsers.pyx\u001b[0m in \u001b[0;36mpandas._libs.parsers.TextReader._setup_parser_source\u001b[0;34m()\u001b[0m\n",
            "\u001b[0;31mFileNotFoundError\u001b[0m: [Errno 2] File b'reviews.csv' does not exist: b'reviews.csv'"
          ]
        }
      ]
    },
    {
      "cell_type": "code",
      "metadata": {
        "id": "TS4bqBPi__x2",
        "colab_type": "code",
        "colab": {},
        "outputId": "0a8ccc02-7fb4-475c-ead6-8051cb1bdaaa"
      },
      "source": [
        "reviews.head()"
      ],
      "execution_count": 0,
      "outputs": [
        {
          "output_type": "execute_result",
          "data": {
            "text/html": [
              "<div>\n",
              "<style scoped>\n",
              "    .dataframe tbody tr th:only-of-type {\n",
              "        vertical-align: middle;\n",
              "    }\n",
              "\n",
              "    .dataframe tbody tr th {\n",
              "        vertical-align: top;\n",
              "    }\n",
              "\n",
              "    .dataframe thead th {\n",
              "        text-align: right;\n",
              "    }\n",
              "</style>\n",
              "<table border=\"1\" class=\"dataframe\">\n",
              "  <thead>\n",
              "    <tr style=\"text-align: right;\">\n",
              "      <th></th>\n",
              "      <th>listing_id</th>\n",
              "      <th>id</th>\n",
              "      <th>date</th>\n",
              "      <th>reviewer_id</th>\n",
              "      <th>reviewer_name</th>\n",
              "      <th>comments</th>\n",
              "    </tr>\n",
              "  </thead>\n",
              "  <tbody>\n",
              "    <tr>\n",
              "      <th>327161</th>\n",
              "      <td>27110325</td>\n",
              "      <td>439306139</td>\n",
              "      <td>2019-04-18</td>\n",
              "      <td>132183399</td>\n",
              "      <td>Scarlett</td>\n",
              "      <td>Tiene todo lo que necesitas para un quick stay...</td>\n",
              "    </tr>\n",
              "    <tr>\n",
              "      <th>182915</th>\n",
              "      <td>17384083</td>\n",
              "      <td>185073007</td>\n",
              "      <td>2017-08-20</td>\n",
              "      <td>24339744</td>\n",
              "      <td>Guadalupe</td>\n",
              "      <td>La casa de Malena y Gustavo es bastante cómoda...</td>\n",
              "    </tr>\n",
              "    <tr>\n",
              "      <th>20812</th>\n",
              "      <td>2297850</td>\n",
              "      <td>146370376</td>\n",
              "      <td>2017-04-22</td>\n",
              "      <td>125154616</td>\n",
              "      <td>Marianela</td>\n",
              "      <td>Francisco fue un host extraordinario,el aparta...</td>\n",
              "    </tr>\n",
              "    <tr>\n",
              "      <th>37959</th>\n",
              "      <td>4951061</td>\n",
              "      <td>127204394</td>\n",
              "      <td>2017-01-16</td>\n",
              "      <td>12392101</td>\n",
              "      <td>Daniele</td>\n",
              "      <td>Arturo's place is a quiet set of apartments se...</td>\n",
              "    </tr>\n",
              "    <tr>\n",
              "      <th>131012</th>\n",
              "      <td>14150077</td>\n",
              "      <td>108599432</td>\n",
              "      <td>2016-10-16</td>\n",
              "      <td>75078637</td>\n",
              "      <td>Leopoldo</td>\n",
              "      <td>Good place near terminal 1 in MEX. Very quiet.</td>\n",
              "    </tr>\n",
              "  </tbody>\n",
              "</table>\n",
              "</div>"
            ],
            "text/plain": [
              "        listing_id         id        date  reviewer_id reviewer_name  \\\n",
              "327161    27110325  439306139  2019-04-18    132183399      Scarlett   \n",
              "182915    17384083  185073007  2017-08-20     24339744     Guadalupe   \n",
              "20812      2297850  146370376  2017-04-22    125154616     Marianela   \n",
              "37959      4951061  127204394  2017-01-16     12392101       Daniele   \n",
              "131012    14150077  108599432  2016-10-16     75078637      Leopoldo   \n",
              "\n",
              "                                                 comments  \n",
              "327161  Tiene todo lo que necesitas para un quick stay...  \n",
              "182915  La casa de Malena y Gustavo es bastante cómoda...  \n",
              "20812   Francisco fue un host extraordinario,el aparta...  \n",
              "37959   Arturo's place is a quiet set of apartments se...  \n",
              "131012     Good place near terminal 1 in MEX. Very quiet.  "
            ]
          },
          "metadata": {
            "tags": []
          },
          "execution_count": 317
        }
      ]
    },
    {
      "cell_type": "markdown",
      "metadata": {
        "id": "FcCcI5mi__x5",
        "colab_type": "text"
      },
      "source": [
        "#### Language detection\n",
        "First we need to detect the language of the review, as we will only focus on the Spanish reviews\n",
        "\n",
        "The `langid` library is a good choice. It's easy to use and fast"
      ]
    },
    {
      "cell_type": "code",
      "metadata": {
        "id": "b1amPmxu__x5",
        "colab_type": "code",
        "colab": {}
      },
      "source": [
        "# import the library\n",
        "\n",
        "import langid"
      ],
      "execution_count": 0,
      "outputs": []
    },
    {
      "cell_type": "markdown",
      "metadata": {
        "id": "2It4TLm2__x7",
        "colab_type": "text"
      },
      "source": [
        "Text data is messy: Sometimes people just add 😉 or somewhint completely different. This is where the model gets into trouble and returns errors.\n",
        "To prevent that form happening, we will write a little function that turns exceptions into \"exp\"\n"
      ]
    },
    {
      "cell_type": "code",
      "metadata": {
        "id": "0A5AmRGA__x8",
        "colab_type": "code",
        "colab": {}
      },
      "source": [
        "#defining a little exception-handling function for the language detector\n",
        "\n",
        "def detect_lang(text):\n",
        "    try: \n",
        "        return langid.classify(text)[0]\n",
        "    except Exception:\n",
        "        return 'exp'"
      ],
      "execution_count": 0,
      "outputs": []
    },
    {
      "cell_type": "code",
      "metadata": {
        "id": "Cl85RKiC__x-",
        "colab_type": "code",
        "colab": {}
      },
      "source": [
        "# we apply the language detection function\n",
        "reviews['lang'] = reviews['comments'].apply(detect_lang)"
      ],
      "execution_count": 0,
      "outputs": []
    },
    {
      "cell_type": "code",
      "metadata": {
        "id": "RjsBH1V-__yA",
        "colab_type": "code",
        "colab": {}
      },
      "source": [
        "# now, we filter out the spanish reviews\n",
        "spanish_reviews = reviews[reviews['lang'] == 'es']"
      ],
      "execution_count": 0,
      "outputs": []
    },
    {
      "cell_type": "markdown",
      "metadata": {
        "id": "C12yQvlB__yF",
        "colab_type": "text"
      },
      "source": [
        "#### Sentiment analysis - easy version\n",
        "In this part of the tutorial we will be using a pre-trained Spanish sentiment analysis model from https://github.com/aylliote/senti-py to figure out how people feel about their stays"
      ]
    },
    {
      "cell_type": "code",
      "metadata": {
        "id": "aqlUOegW__yF",
        "colab_type": "code",
        "colab": {}
      },
      "source": [
        "# We import and instantiate the classifier\n",
        "\n",
        "from classifier import *\n",
        "clf = SentimentClassifier()"
      ],
      "execution_count": 0,
      "outputs": []
    },
    {
      "cell_type": "code",
      "metadata": {
        "id": "nGBwMmxg__yJ",
        "colab_type": "code",
        "colab": {},
        "outputId": "69393e16-63e3-40a7-d15a-e258eb08aadf"
      },
      "source": [
        "# Let's try it out\n",
        "x = \"Esta muy buena esa pelicula\"\n",
        "\n",
        "print(x + ' ==> %.5f' % clf.predict(x))"
      ],
      "execution_count": 0,
      "outputs": [
        {
          "output_type": "stream",
          "text": [
            "Esta muy buena esa pelicula ==> 0.93136\n"
          ],
          "name": "stdout"
        }
      ]
    },
    {
      "cell_type": "code",
      "metadata": {
        "id": "2Z2VXfW1__yO",
        "colab_type": "code",
        "colab": {},
        "outputId": "93880faf-c3aa-40c8-8400-abfffed53552"
      },
      "source": [
        "\n",
        "X = [\"Son malaaaaa onda esos vecinossss\", 'el BIFE estuvo EXCELENTE',\n",
        "     '!!!! Quien te pensas que sos ??Ahora andate!!y no te quiero ver mas..!',\n",
        "     'K askoooo']\n",
        "\n",
        "for e in X:\n",
        "    print(e + ' ==> %.5f' % clf.predict(e))"
      ],
      "execution_count": 0,
      "outputs": [
        {
          "output_type": "stream",
          "text": [
            "Son malaaaaa onda esos vecinossss ==> 0.22325\n",
            "el BIFE estuvo EXCELENTE ==> 0.91101\n",
            "!!!! Quien te pensas que sos ??Ahora andate!!y no te quiero ver mas..! ==> 0.08893\n",
            "K askoooo ==> 0.01420\n"
          ],
          "name": "stdout"
        }
      ]
    },
    {
      "cell_type": "markdown",
      "metadata": {
        "id": "2RbSjo8z__yR",
        "colab_type": "text"
      },
      "source": [
        "**speed issues**\n",
        "\n",
        "Preprocessing of the text and prediction takes some time, unfortunately. These are, after all, heavy processes.  We will use simple multiprocessing (using all cores of the CPU) to optimize performance "
      ]
    },
    {
      "cell_type": "code",
      "metadata": {
        "id": "zfbnImID__yS",
        "colab_type": "code",
        "colab": {}
      },
      "source": [
        "from multiprocessing import Pool"
      ],
      "execution_count": 0,
      "outputs": []
    },
    {
      "cell_type": "code",
      "metadata": {
        "id": "Zn9Zi_CH__yT",
        "colab_type": "code",
        "colab": {}
      },
      "source": [
        "p = Pool()"
      ],
      "execution_count": 0,
      "outputs": []
    },
    {
      "cell_type": "code",
      "metadata": {
        "id": "UK6ZwS5I__yV",
        "colab_type": "code",
        "colab": {},
        "outputId": "634637d7-daf1-4bf0-f286-adbded0db1f3"
      },
      "source": [
        "%time spanish_reviews['score'] = p.map(clf.predict, spanish_reviews['comments'])"
      ],
      "execution_count": 0,
      "outputs": [
        {
          "output_type": "stream",
          "text": [
            "CPU times: user 26.4 s, sys: 1.62 s, total: 28 s\n",
            "Wall time: 2min 5s\n"
          ],
          "name": "stdout"
        }
      ]
    },
    {
      "cell_type": "code",
      "metadata": {
        "id": "sDYK7Zmf__yX",
        "colab_type": "code",
        "colab": {},
        "outputId": "221f7dec-10f8-45a9-b437-f30ba2181144"
      },
      "source": [
        "for i in spanish_reviews.sort_values('score', ascending=True)['comments'][:20]:\n",
        "    print(i)\n",
        "    print('\\n')"
      ],
      "execution_count": 0,
      "outputs": [
        {
          "output_type": "stream",
          "text": [
            "I was contacted by the host through (Hidden by Airbnb) and asked what time I would arrive.  I advised her that we would get there around 545pm to 6pm.  Upon arrival a man was still mopping the floor. I couldn't even use the restroom because they were still cleaning.  I had to just leave my stuff and come back later. This should have been done before the 2pm checkin time, and definitely before 6pm.  The apartment and building was nice and historic with a good view from the room and roof.  However if don't like to be annoyed then I would look for another place.  The host contacted me too many times through (Hidden by Airbnb) .  The host should of contacted me through Airbnb, and asked first if I minded being contacted through (Hidden by Airbnb) .  The most irritating message was around 9m she asked me what time I would checkout.  This should matter if checkout is at 11am.  Then it all made sense when at (Phone number hidden by Airbnb) am a woman came and knocked on the door.  I told her to wait a minute since it was still before 11am and my wife was gathering her things.  Then the woman unlocked the door and opened it wide open anx just stood there.  My wife and I could have been undressed or something worse.  The host's message the night before made sense, they want you out as soon as possible.  Imagine if every time you rent on Airbnb or a hotel they are asking you the night before when you are going to leave before it it morning.  And to add more irritation they come and open your door wide open 5 minutes before checkout and just stand there watching you.  I shouldn't have been payed to stay there with the experience I had. My wife and I both felt like our privacy was invaded by the host and her employees.  My wife and I have stayed used Airbnb numerous other times, and this time has been the worse by far!\n",
            "\n",
            "Swap to English\n",
            "\n",
            "El anfitrión me contactó a través de (Hidden by Airbnb) y me preguntó a qué hora llegaría. Le aconsejé que llegaríamos entre las 545 y las 6 de la tarde. A su llegada, un hombre todavía estaba limpiando el suelo. Ni siquiera podía usar el baño porque todavía estaban limpiando. Tuve que dejar mis cosas y volver más tarde. Esto debería haberse hecho antes de las 2 pm hora de registro, y definitivamente antes de las 6 pm. El apartamento y el edificio eran bonitos e históricos, con una buena vista desde la habitación y el techo. Sin embargo, si no me gusta estar molesto, buscaría otro lugar. El anfitrión me contactó muchas veces a través de (Hidden by Airbnb) . El anfitrión me contactó a través de Airbnb y me preguntó primero si me importaba que me contactaran a través de (Hidden by Airbnb) . El mensaje más irritante fue alrededor de los 9 m. Me preguntó a qué hora me gustaría ir. Esto debería importar si la salida es a las 11 am. Entonces todo tuvo sentido cuando, a las (Phone number hidden by Airbnb) am, una mujer vino y llamó a la puerta. Le dije que esperara un minuto ya que aún era antes de las 11 am y mi esposa estaba recogiendo sus cosas. Luego la mujer abrió la puerta y la abrió de par en par, y se quedó allí. Mi esposa y yo podríamos haber estado desnudos o algo peor. El mensaje del anfitrión la noche anterior tenía sentido, quieren que salgas lo antes posible. Imagínese si cada vez que alquila en Airbnb o en un hotel le pregunten la noche anterior, cuando vaya a salir antes de la mañana. Y para agregar más irritación, vienen y abren la puerta completamente abierta 5 minutos antes de la salida y se quedan ahí mirándote. No debería haberme pagado para quedarme allí con la experiencia que tuve. Mi esposa y yo sentimos que nuestra intimidad fue invadida por el anfitrión y sus empleados. Mi esposa y yo hemos estado usando Airbnb muchas otras veces, ¡y esta vez ha sido la peor por mucho!\n",
            "\n",
            "\n",
            "Muy decepcionado de lo que parecía que iba a ser, y más por ver que por lo que vale una silla, ha puesto en riesgo la integridad física de una persona, al dejar una silla rota, simplemente ahí puesta, para que al llegar una persona a sentarse, se vaya de espaldas y pueda tener la escusa que yo la rompí y quiera que se le pague. También estuvimos 1 día entero sin agua caliente, cosa que ella sabía, y jamás lo dijo y ni contestó a nuestras llamadas. Ya por último, me sentí discriminado por ser extranjero. Que suerte todos los que han tenido una gran experiencia con ella, pero yo jamás la recomendaría.\n",
            "\n",
            "\n",
            "las sábanas y almohada apestaban a usado, sé que me cambiaste las fundas pero la verdad fue muy molesto para mí ver qué no me creíste cuando te  lo dije y que entraras al cuarto para olerlas en mi cara. \n",
            "la otra cosa que no me parece es que el baño no pude usarlo porque el inodoro se tapó .... todavía te lo mencioné y me dices que si tire el papel dentro, mis hábitos no sin tirar papel ahí y te lo mencioné , todavía así me dices después que tu hijo probablemente tiro algo dentro.... y te comprometiste a comprar algo para que se vaya el desecho y que mientras traias el líquido para destapar caños podiamos usar el baño compartido, el cual tuve que usar pero yo no pague para eso .... nunca trajiste el líquido ni apareciste para darme un solución. \n",
            "la ubicación es buena está cerca de todo lo que necesitábamos, el guardia de seguridad amable.\n",
            "\n",
            "\n",
            "El depto está muy descuidado y sucio, la alfombra y los sillones asquerosos y las toallas y sábanas sucias; además por lo mismo, había bichitos en la cama que por cierto estaba en mal estado también. \n",
            "\n",
            "Lo peor es que las persianas que tiene en la habitación son completamente transparentes por lo que entra toda la luz exterior y no se puede dormir, además de que no existe privacidad porque los deptos de enfrente pueden ver perfectamente al interior de la habitación por lo mismo de la transparencia de las persianas.\n",
            "\n",
            "En general la peor experiencia que he tenido en Airbnb y definitivamente no lo recomiendo ni regresaría. \n",
            "\n",
            "\n",
            "La ubicación está excelente, debe haber mejora en los muebles , dormir en el sofá cama fue un martirio, además de estar muy sucio y la ropa de cama con muchas \"bolitas' por el uso, revisar el boiler nunca hubo agua caliente\n",
            "\n",
            "\n",
            "Las fotos muestran el apartamento tal cual como es.\n",
            " El edificio es un poco viejo y está un poco descuidado.\n",
            "Lamentanlemente no tuvimos muy buena experiencia pues en la ciudad no había agua en la última semana y la zona del apartamento fue la más afectada. \n",
            "Cuando llegamos nos informaron que no había agua pero que en la mañana siguiente ya tendríamos. Nunca llegó  y nos tocó pedirle que cancelaran la  reservación.\n",
            "Nos hubiera gustado que nos informaran antes y así no tener que quedarnos esa noche sin agua.\n",
            "\n",
            "\n",
            "No me hospede ya que el lugar no era lo que esperaba y al no encontrar las llaves en el candado preferí no quedarme.\n",
            "\n",
            "\n",
            "We stayed at two of Alex's apartments in Roma Norte. Both were better than expected. Alex and his team are very attentive and promptly respond to any questions. We hope to visit again.\n",
            "\n",
            "Nos quedamos en dos de los departamentos de Alex ubicados en Roma Norte. Los dos espacios superaron nuestra expectative. Alex y su equipo respondieron con urgencia a todas nuestras preguntas. Esperamos regresar pronto\n",
            "\n",
            "\n",
            "Los señores Clara y Gerardo son muy responsables y atentos. En ningún momento me falto nada. La zona es muy tranquila y seguido pasan peseros a metro CU, taxqueña y copilco.\n",
            "\n",
            "\n",
            "el Dpto está en muy malas condiciones. Es muy viejo y los pisos al ser de madera y no tener buen mantenimiento hacen muchísimo ruido al menor movimiento. no hay luz en el comedor y la iluminación en general es muy escasa . dos días antes de salir encontramos heces de ratón en la mesa del comedor.  por lo visto no funciona el dispositivo para roedores que tiene conectado en un rincón.  Cuando llegamos al Dpto estábamos muy cansados y con maletas y sólo pensábamos en un baño de agua caliente pero \"oh sorpresa! no había caliente por Qué las pilas del calentador no funcionaban . Luis ofreció pagarnos por las pilas y nos dijo que debíamos comprar en la tienda del barrio  como si importara el costo!! necesitábamos un buen servicio tal como se ofrecía en la página.  no pudimos tomar el baño hasta el otro día.  los utensilios de  cocina dejan mucho que desear y no había jabón y sólo un rollo de papel. jamás volveremos a ese lugar. lo que funcionó fue la ubicación.  fue un asco!!\n",
            "\n",
            "\n",
            "Mi experiencia en general se ve plasmada en mis evaluaciones anteriores, fuera de lo incómodo que me resultó en un par de ocasiones escuchar al anfitrión teniendo sexo con una visita, todo lo demás fue aceptable, sugiero que cambien el edredón cada cierto tiempo, estuve casi 3 meses y nunca lo lavaron, del cambio de sábanas no tengo queja alguna, las cambiaban cada semana; de igual manera, que el anfitrión lave sus trastes, muchas veces los dejaba sucios y los lavaba yo; asimismo, que escuche su música en un tono más bajo cuando tenga huéspedes, a raíz de que le comenté creo que comenzó a escucharla con audífonos.\n",
            "\n",
            "\n",
            "Lugar muy bien situado y marco es muy reactive.\n",
            "\n",
            "Tanks for all\n",
            "\n",
            "\n",
            "Un buen lugar para (Website hidden by Airbnb) hospitalidad es buena... :)\n",
            "\n",
            "\n",
            "D (Phone number hidden by Airbnb) sss, excelente estadía, esta hermoso el depa, hermosas personas y la zona súper segura, Paola siempre súper buena onda y nos ayudó cuando nos perdimos, renten, renten, ¡se sentirán como en casa!, definitivamente volvemos ✈️\n",
            "\n",
            "\n",
            "Si tienes otras opciones, no te alojes aquí. La cama es como una piedra de dura. El apartamento huele a tabaco. La rendija de ventilación del baño estaba llena de mugre. No lo recomiendo\n",
            "\n",
            "\n",
            "Yo no tenía conocimiento de las zonas en CDMX así que les recomiendo investigar si esa zona es lo que buscan, el depa se encuentra a 4 cuadras caminando del zócalo, pero también se encuentra a 1 cuadra de Tepito, lo que implicó desviaciones en auto debido al tianguis y ni hablar de las precauciones a tomar por ese famoso barrio. El depa en lo particular es agradable.\n",
            "\n",
            "\n",
            "No mames, este es el mejor lugar del mundo.\n",
            "Oh bueno, de la cdmx.\n",
            "\n",
            "\n",
            "El departamento en general es nuevo y tiene mucho potencial, sin embargo hay muchos aspectos a mejorar por parte de la host, ya que tuvimos problemas a la llegada con el guardia del edificio el cual se porto sumamente grosero y no nos permitía el acceso, la persona que nos iba a entregar las llaves se retrasó varias horas que incluso nos hizo dudar de la veracidad del departamento, pues la host se encontraba fuera del país por lo que era súper difícil comunicarse con ella, otra cosa es que se nos entrego el depa bastante sucio, las sábanas estaban muy sucias y las instalaciones en general (baño,etc). Se nota que nadie de limpieza fue a asear el departamento después de que acababa de usar inclusive había comida aun, nosotros tuvimos que cambiar las sábanas por unas limpias que habían dejado en un sillón, no volvería a hospedarme, sin embargo creo que sí mejoran su atención a las personas que visitan el airbnb, la comunicación y sobre todo la limpieza que es súper importante cuando se renta un departamento podrían tener una buena evaluación.\n",
            "\n",
            "\n",
            "Bonito depa con excelente ubicación!\n",
            "\n",
            "\n",
            "La ubicación es excelente,  a 2 cuadras de plaza antara , la limpieza super bien, Julieta super atenta, el único detallito fue el internet pero no tardó ni 5 min en resolverlo, muchas gracias Julieta sin duda nos volvemos a quedar con ustedes otra vez\n",
            "\n",
            "\n"
          ],
          "name": "stdout"
        }
      ]
    },
    {
      "cell_type": "markdown",
      "metadata": {
        "id": "DR-MVhDh__ya",
        "colab_type": "text"
      },
      "source": [
        "#### Bringing in additional data for analysis\n",
        "Now we can use additional information that we have on the houses to actually use our predictions"
      ]
    },
    {
      "cell_type": "code",
      "metadata": {
        "id": "b32FS65D__yb",
        "colab_type": "code",
        "colab": {}
      },
      "source": [
        "# we open the listings data\n",
        "listings = pd.read_csv('listings.csv')"
      ],
      "execution_count": 0,
      "outputs": []
    },
    {
      "cell_type": "code",
      "metadata": {
        "id": "DnRi_XsO__yf",
        "colab_type": "code",
        "colab": {}
      },
      "source": [
        "# We can calculate the median scores for all rooms\n",
        "scores = pd.DataFrame(spanish_reviews.groupby('listing_id').median()['score'])"
      ],
      "execution_count": 0,
      "outputs": []
    },
    {
      "cell_type": "code",
      "metadata": {
        "id": "O93fCVdx__yl",
        "colab_type": "code",
        "colab": {}
      },
      "source": [
        "# We merge the listing data with our median reviews\n",
        "merged = pd.merge(listings, scores, how='inner', left_on='id', right_on='listing_id')"
      ],
      "execution_count": 0,
      "outputs": []
    },
    {
      "cell_type": "code",
      "metadata": {
        "id": "lyHDKsew__yo",
        "colab_type": "code",
        "colab": {},
        "outputId": "ad359709-5bbd-4aa2-d66f-ebf82b2de63f"
      },
      "source": [
        "merged.info()"
      ],
      "execution_count": 0,
      "outputs": [
        {
          "output_type": "stream",
          "text": [
            "<class 'pandas.core.frame.DataFrame'>\n",
            "Int64Index: 1936 entries, 0 to 1935\n",
            "Data columns (total 17 columns):\n",
            "id                                1936 non-null int64\n",
            "name                              1936 non-null object\n",
            "host_id                           1936 non-null int64\n",
            "host_name                         1934 non-null object\n",
            "neighbourhood_group               0 non-null float64\n",
            "neighbourhood                     1936 non-null object\n",
            "latitude                          1936 non-null float64\n",
            "longitude                         1936 non-null float64\n",
            "room_type                         1936 non-null object\n",
            "price                             1936 non-null int64\n",
            "minimum_nights                    1936 non-null int64\n",
            "number_of_reviews                 1936 non-null int64\n",
            "last_review                       1936 non-null object\n",
            "reviews_per_month                 1936 non-null float64\n",
            "calculated_host_listings_count    1936 non-null int64\n",
            "availability_365                  1936 non-null int64\n",
            "score                             1936 non-null float64\n",
            "dtypes: float64(5), int64(7), object(5)\n",
            "memory usage: 272.2+ KB\n"
          ],
          "name": "stdout"
        }
      ]
    },
    {
      "cell_type": "code",
      "metadata": {
        "id": "AEBNQ6Pj__yr",
        "colab_type": "code",
        "colab": {},
        "outputId": "6f1a90a6-51c6-4025-8cd0-7be614937de8"
      },
      "source": [
        "# Now we can for example explore median scores for the different parts of town\n",
        "\n",
        "merged.groupby('neighbourhood').median()['score'].sort_values()"
      ],
      "execution_count": 0,
      "outputs": [
        {
          "output_type": "execute_result",
          "data": {
            "text/plain": [
              "neighbourhood\n",
              "Venustiano Carranza       0.923726\n",
              "Iztapalapa                0.924480\n",
              "Iztacalco                 0.929949\n",
              "Xochimilco                0.935657\n",
              "Tlalpan                   0.946728\n",
              "Azcapotzalco              0.949425\n",
              "Álvaro Obregón            0.953008\n",
              "Miguel Hidalgo            0.953149\n",
              "Gustavo A. Madero         0.958961\n",
              "La Magdalena Contreras    0.961370\n",
              "Cuauhtémoc                0.961513\n",
              "Coyoacán                  0.961717\n",
              "Benito Juárez             0.966209\n",
              "Cuajimalpa de Morelos     0.975560\n",
              "Tláhuac                   0.992623\n",
              "Name: score, dtype: float64"
            ]
          },
          "metadata": {
            "tags": []
          },
          "execution_count": 340
        }
      ]
    },
    {
      "cell_type": "markdown",
      "metadata": {
        "id": "y2xHT7NE__yu",
        "colab_type": "text"
      },
      "source": [
        "## Case 2: Explaining text-predictions\n",
        "\n",
        "Machine learning models are often considered \"black-boxes\". Especially more complex models (e.g. XGboost, SVMs, Neural Networks) don't let us directly see what they learn and how they make decisions.\n",
        "In the past few years, the discussions on explainable AI have spurred lots of research in that area and today we have some ways to understand how machines decide (see this excellent book for details: https://christophm.github.io/interpretable-ml-book/)\n",
        "\n",
        "In this short case, we will use the data from the previous example to train up a model (pretending that the estimated scores are the ground trougth)\n",
        "\n",
        "Normally we would need human-labelled data but we pretend it's ok here."
      ]
    },
    {
      "cell_type": "code",
      "metadata": {
        "id": "bRWklR2j__yv",
        "colab_type": "code",
        "colab": {}
      },
      "source": [
        "# first, check the distribution of scores\n",
        "\n",
        "%matplotlib inline\n",
        "import seaborn as sns\n",
        "sns.set(color_codes=True)"
      ],
      "execution_count": 0,
      "outputs": []
    },
    {
      "cell_type": "code",
      "metadata": {
        "id": "AExeFruW__y2",
        "colab_type": "code",
        "colab": {},
        "outputId": "f5b26646-5a2e-44a8-b68f-34522f2e0ac2"
      },
      "source": [
        "sns.distplot(spanish_reviews['score'])"
      ],
      "execution_count": 0,
      "outputs": [
        {
          "output_type": "execute_result",
          "data": {
            "text/plain": [
              "<matplotlib.axes._subplots.AxesSubplot at 0x13eea56d8>"
            ]
          },
          "metadata": {
            "tags": []
          },
          "execution_count": 342
        },
        {
          "output_type": "display_data",
          "data": {
            "image/png": "[encoded data removed]",
            "text/plain": [
              "<Figure size 432x288 with 1 Axes>"
            ]
          },
          "metadata": {
            "tags": []
          }
        }
      ]
    },
    {
      "cell_type": "code",
      "metadata": {
        "id": "s6P0yoyT__y4",
        "colab_type": "code",
        "colab": {}
      },
      "source": [
        "# We can now say that everything over 0.2 is positive (which is a bad assumption...but ok)\n",
        "\n",
        "spanish_reviews['positive'] = spanish_reviews['score'] >= 0.2"
      ],
      "execution_count": 0,
      "outputs": []
    },
    {
      "cell_type": "code",
      "metadata": {
        "id": "M6L2ddCM__y6",
        "colab_type": "code",
        "colab": {},
        "outputId": "dad69465-61a7-4c46-9be1-f4d149a30f9e"
      },
      "source": [
        "spanish_reviews[spanish_reviews['score'] <= 0.2]['comments']"
      ],
      "execution_count": 0,
      "outputs": [
        {
          "output_type": "execute_result",
          "data": {
            "text/plain": [
              "131012       Good place near terminal 1 in MEX. Very quiet.\n",
              "219408    Las fotos muestran el apartamento tal cual com...\n",
              "63203     La ubicación y atención es excelente, consider...\n",
              "185735                 Bonito depa con excelente ubicación!\n",
              "250636    Muy limpio, super bien ubicado, zona muy tranq...\n",
              "237683    Si tienes otras opciones, no te alojes aquí. L...\n",
              "127896    Mi experiencia en general se ve plasmada en mi...\n",
              "104612    Previo a mi llegada pude sentirme bienvenida. ...\n",
              "76311     No me gusto, estaba sucio, no cuenta con todos...\n",
              "94842     Lugar muy bien situado y marco es muy reactive...\n",
              "191240    D (Phone number hidden by Airbnb) sss, excelen...\n",
              "41212     Excelente depa como estar en casa. Excelente u...\n",
              "296495    No pude haber encontrado un mejor alojamiento ...\n",
              "283784    No me hospede ya que el lugar no era lo que es...\n",
              "248065    El depto está muy descuidado y sucio, la alfom...\n",
              "336126    No mames, este es el mejor lugar del mundo.\\nO...\n",
              "293270    Me falta mucho mantenimiento ala casa me quedé...\n",
              "294540    La ubicación está excelente, debe haber mejora...\n",
              "26509     el Dpto está en muy malas condiciones. Es muy ...\n",
              "293909    El departamento en general es nuevo y tiene mu...\n",
              "124420             Perfecto el depa y super buena ubicación\n",
              "129548    Yo no tenía conocimiento de las zonas en CDMX ...\n",
              "60163     Excelente lugar y atención, súper seguro y lim...\n",
              "365767    El lugar está en excelente ubicación, la atenc...\n",
              "25252     Jessis was an amazing host. There was even a w...\n",
              "148859    Siempre me quedo en sus depas \\n\\nSon los mejores\n",
              "320907           Excelente ubicación e impecable el depa...\n",
              "152033    Un buen lugar para (Website hidden by Airbnb) ...\n",
              "172366    Departamento de lujo bien ubicado, con chapa e...\n",
              "179279    We stayed at two of Alex's apartments in Roma ...\n",
              "350655    I was contacted by the host through (Hidden by...\n",
              "202991    Lugar Pequeño y funcional. Cercano al shopping...\n",
              "332104    Muy decepcionado de lo que parecía que iba a s...\n",
              "130772    Los señores Clara y Gerardo son muy responsabl...\n",
              "163318    La ubicación es excelente,  a 2 cuadras de pla...\n",
              "201810    No discriminan a la gente y son amables todos....\n",
              "220187    El mejor airbnb de CDMX en verdad vale toda la...\n",
              "314403    Well located in a safe and well communicated a...\n",
              "214086    El departamento es en verdad increíble, muero ...\n",
              "35010     El lugar me gustó mucho, pasé unos días muy ag...\n",
              "336290    las sábanas y almohada apestaban a usado, sé q...\n",
              "Name: comments, dtype: object"
            ]
          },
          "metadata": {
            "tags": []
          },
          "execution_count": 362
        }
      ]
    },
    {
      "cell_type": "code",
      "metadata": {
        "id": "gMcICtyt__y8",
        "colab_type": "code",
        "colab": {},
        "outputId": "0bd2dae3-0af0-4f9e-e267-1f2382816167"
      },
      "source": [
        "# We import some tools to prepare our input text for machine learning tasks (from the ground up)\n",
        "\n",
        "import nltk\n",
        "nltk.download('punkt')\n",
        "nltk.download('stopwords')\n",
        "from nltk.tokenize import word_tokenize, sent_tokenize"
      ],
      "execution_count": 0,
      "outputs": [
        {
          "output_type": "stream",
          "text": [
            "[nltk_data] Downloading package punkt to /Users/roman/nltk_data...\n",
            "[nltk_data]   Package punkt is already up-to-date!\n",
            "[nltk_data] Downloading package stopwords to /Users/roman/nltk_data...\n",
            "[nltk_data]   Package stopwords is already up-to-date!\n"
          ],
          "name": "stdout"
        }
      ]
    },
    {
      "cell_type": "markdown",
      "metadata": {
        "id": "dd16QCJl__y_",
        "colab_type": "text"
      },
      "source": [
        "\n",
        "\n",
        "The most simple way to represent text is by using a so called **bag-of-words** approach. Here we simply count up words in phrases to represent and build a table of phrases (rows) and words (columns)\n",
        "\n",
        "![bow](https://raw.githubusercontent.com/DanAnastasyev/DeepNLP-Course/master/Week%2001/Images/BOW.png)\n",
        "\n",
        "In python we can do something like that"
      ]
    },
    {
      "cell_type": "code",
      "metadata": {
        "id": "s-6T-Yes__y_",
        "colab_type": "code",
        "colab": {},
        "outputId": "8291d71e-fbc8-4d0d-9ff4-88af34c32702"
      },
      "source": [
        "# Creating a bag of words model\n",
        "\n",
        "from sklearn.feature_extraction.text import CountVectorizer\n",
        "\n",
        "vectorizer = CountVectorizer()\n",
        "\n",
        "dummy_data = ['tengo una mala experiencia',\n",
        "              'tengo una excelente experiencia']\n",
        "\n",
        "dummy_matrix = vectorizer.fit_transform(dummy_data)\n",
        "\n",
        "\n",
        "pd.DataFrame(data = dummy_matrix.toarray(), columns = vectorizer.get_feature_names())"
      ],
      "execution_count": 0,
      "outputs": [
        {
          "output_type": "execute_result",
          "data": {
            "text/html": [
              "<div>\n",
              "<style scoped>\n",
              "    .dataframe tbody tr th:only-of-type {\n",
              "        vertical-align: middle;\n",
              "    }\n",
              "\n",
              "    .dataframe tbody tr th {\n",
              "        vertical-align: top;\n",
              "    }\n",
              "\n",
              "    .dataframe thead th {\n",
              "        text-align: right;\n",
              "    }\n",
              "</style>\n",
              "<table border=\"1\" class=\"dataframe\">\n",
              "  <thead>\n",
              "    <tr style=\"text-align: right;\">\n",
              "      <th></th>\n",
              "      <th>excelente</th>\n",
              "      <th>experiencia</th>\n",
              "      <th>mala</th>\n",
              "      <th>tengo</th>\n",
              "      <th>una</th>\n",
              "    </tr>\n",
              "  </thead>\n",
              "  <tbody>\n",
              "    <tr>\n",
              "      <th>0</th>\n",
              "      <td>0</td>\n",
              "      <td>1</td>\n",
              "      <td>1</td>\n",
              "      <td>1</td>\n",
              "      <td>1</td>\n",
              "    </tr>\n",
              "    <tr>\n",
              "      <th>1</th>\n",
              "      <td>1</td>\n",
              "      <td>1</td>\n",
              "      <td>0</td>\n",
              "      <td>1</td>\n",
              "      <td>1</td>\n",
              "    </tr>\n",
              "  </tbody>\n",
              "</table>\n",
              "</div>"
            ],
            "text/plain": [
              "   excelente  experiencia  mala  tengo  una\n",
              "0          0            1     1      1    1\n",
              "1          1            1     0      1    1"
            ]
          },
          "metadata": {
            "tags": []
          },
          "execution_count": 364
        }
      ]
    },
    {
      "cell_type": "code",
      "metadata": {
        "id": "J6Kat5OZ__zC",
        "colab_type": "code",
        "colab": {}
      },
      "source": [
        "# we will apply this approach to our reviews. But before that we will split up the sample into a training set and a test-set\n",
        "from sklearn.model_selection import train_test_split\n",
        "\n",
        "train, test = train_test_split(spanish_reviews, test_size=0.2)"
      ],
      "execution_count": 0,
      "outputs": []
    },
    {
      "cell_type": "code",
      "metadata": {
        "id": "HVUnnKq5__zD",
        "colab_type": "code",
        "colab": {},
        "outputId": "fddb6504-7162-413c-f54d-7aee03a35298"
      },
      "source": [
        "from sklearn.linear_model import LogisticRegression\n",
        "\n",
        "dummy_labels = [0, 1]\n",
        "\n",
        "classifier = LogisticRegression()\n",
        "\n",
        "model = Pipeline([\n",
        "    ('vectorizer', vectorizer),\n",
        "    ('classifier', classifier)\n",
        "])\n",
        "\n",
        "model.fit(dummy_data, dummy_labels)\n",
        "\n",
        "\n",
        "pd.DataFrame(data = classifier.coef_, columns = vectorizer.get_feature_names())"
      ],
      "execution_count": 0,
      "outputs": [
        {
          "output_type": "execute_result",
          "data": {
            "text/html": [
              "<div>\n",
              "<style scoped>\n",
              "    .dataframe tbody tr th:only-of-type {\n",
              "        vertical-align: middle;\n",
              "    }\n",
              "\n",
              "    .dataframe tbody tr th {\n",
              "        vertical-align: top;\n",
              "    }\n",
              "\n",
              "    .dataframe thead th {\n",
              "        text-align: right;\n",
              "    }\n",
              "</style>\n",
              "<table border=\"1\" class=\"dataframe\">\n",
              "  <thead>\n",
              "    <tr style=\"text-align: right;\">\n",
              "      <th></th>\n",
              "      <th>excelente</th>\n",
              "      <th>experiencia</th>\n",
              "      <th>mala</th>\n",
              "      <th>tengo</th>\n",
              "      <th>una</th>\n",
              "    </tr>\n",
              "  </thead>\n",
              "  <tbody>\n",
              "    <tr>\n",
              "      <th>0</th>\n",
              "      <td>0.401058</td>\n",
              "      <td>0.0</td>\n",
              "      <td>-0.401058</td>\n",
              "      <td>0.0</td>\n",
              "      <td>0.0</td>\n",
              "    </tr>\n",
              "  </tbody>\n",
              "</table>\n",
              "</div>"
            ],
            "text/plain": [
              "   excelente  experiencia      mala  tengo  una\n",
              "0   0.401058          0.0 -0.401058    0.0  0.0"
            ]
          },
          "metadata": {
            "tags": []
          },
          "execution_count": 366
        }
      ]
    },
    {
      "cell_type": "code",
      "metadata": {
        "id": "64kAkIoM__zH",
        "colab_type": "code",
        "colab": {},
        "outputId": "11392318-fc65-424f-c1c9-e5433fe47f83"
      },
      "source": [
        "# Let's run a regression on our reviews using the \"positive\" column as a dependant\n",
        "\n",
        "model.fit(train['comments'], train['positive'])"
      ],
      "execution_count": 0,
      "outputs": [
        {
          "output_type": "execute_result",
          "data": {
            "text/plain": [
              "Pipeline(memory=None,\n",
              "     steps=[('vectorizer', CountVectorizer(analyzer='word', binary=False, decode_error='strict',\n",
              "        dtype=<class 'numpy.int64'>, encoding='utf-8', input='content',\n",
              "        lowercase=True, max_df=1.0, max_features=None, min_df=1,\n",
              "        ngram_range=(1, 1), preprocessor=None, stop_words=None,\n",
              "       ...penalty='l2', random_state=None, solver='warn',\n",
              "          tol=0.0001, verbose=0, warm_start=False))])"
            ]
          },
          "metadata": {
            "tags": []
          },
          "execution_count": 367
        }
      ]
    },
    {
      "cell_type": "code",
      "metadata": {
        "id": "h8xEFsJc__zJ",
        "colab_type": "code",
        "colab": {},
        "outputId": "8bc83c09-98f0-4f33-9663-8ad83713dd7c"
      },
      "source": [
        "# we can also evaluate the performance\n",
        "\n",
        "from sklearn.metrics import accuracy_score\n",
        "\n",
        "def eval_model(model, test_df):\n",
        "    preds = model.predict(test['comments'])\n",
        "    print('Test accuracy = {:.2%}'.format(accuracy_score(test['positive'], preds)))\n",
        "    \n",
        "eval_model(model, test)"
      ],
      "execution_count": 0,
      "outputs": [
        {
          "output_type": "stream",
          "text": [
            "Test accuracy = 98.33%\n"
          ],
          "name": "stdout"
        }
      ]
    },
    {
      "cell_type": "code",
      "metadata": {
        "id": "VzvUDp3o__zN",
        "colab_type": "code",
        "colab": {},
        "outputId": "be5a0969-a6df-4916-8c18-61d0ba37ceff"
      },
      "source": [
        "# Does it really work?\n",
        "\n",
        "from sklearn.metrics import classification_report\n",
        "\n",
        "y_pred = model.predict(test['comments'])\n",
        "y_true = test['positive']\n",
        "\n",
        "print(classification_report(y_true, y_pred))"
      ],
      "execution_count": 0,
      "outputs": [
        {
          "output_type": "stream",
          "text": [
            "              precision    recall  f1-score   support\n",
            "\n",
            "       False       0.00      0.00      0.00         7\n",
            "        True       0.99      1.00      0.99       471\n",
            "\n",
            "   micro avg       0.98      0.98      0.98       478\n",
            "   macro avg       0.49      0.50      0.50       478\n",
            "weighted avg       0.97      0.98      0.98       478\n",
            "\n"
          ],
          "name": "stdout"
        }
      ]
    },
    {
      "cell_type": "code",
      "metadata": {
        "id": "YpppQX-___zR",
        "colab_type": "code",
        "colab": {},
        "outputId": "5ffa4166-b10d-4677-93cd-c215cd9b5605"
      },
      "source": [
        "# How about individual predictions?\n",
        "# We can import the eli5 library that helps us visualising the trained models and results\n",
        "\n",
        "import eli5\n",
        "eli5.show_weights(classifier, vec=vectorizer, top=30)"
      ],
      "execution_count": 0,
      "outputs": [
        {
          "output_type": "execute_result",
          "data": {
            "text/html": [
              "\n",
              "    <style>\n",
              "    table.eli5-weights tr:hover {\n",
              "        filter: brightness(85%);\n",
              "    }\n",
              "</style>\n",
              "\n",
              "\n",
              "\n",
              "    \n",
              "\n",
              "    \n",
              "\n",
              "    \n",
              "\n",
              "    \n",
              "\n",
              "    \n",
              "\n",
              "    \n",
              "\n",
              "\n",
              "    \n",
              "\n",
              "    \n",
              "\n",
              "    \n",
              "\n",
              "    \n",
              "        \n",
              "\n",
              "    \n",
              "\n",
              "        \n",
              "            \n",
              "                \n",
              "                \n",
              "    \n",
              "        <p style=\"margin-bottom: 0.5em; margin-top: 0em\">\n",
              "            <b>\n",
              "    \n",
              "        y=True\n",
              "    \n",
              "</b>\n",
              "\n",
              "top features\n",
              "        </p>\n",
              "    \n",
              "    <table class=\"eli5-weights\"\n",
              "           style=\"border-collapse: collapse; border: none; margin-top: 0em; table-layout: auto; margin-bottom: 2em;\">\n",
              "        <thead>\n",
              "        <tr style=\"border: none;\">\n",
              "            \n",
              "                <th style=\"padding: 0 1em 0 0.5em; text-align: right; border: none;\" title=\"Feature weights. Note that weights do not account for feature value scales, so if feature values have different scales, features with highest weights might not be the most important.\">\n",
              "                    Weight<sup>?</sup>\n",
              "                </th>\n",
              "            \n",
              "            <th style=\"padding: 0 0.5em 0 0.5em; text-align: left; border: none;\">Feature</th>\n",
              "            \n",
              "        </tr>\n",
              "        </thead>\n",
              "        <tbody>\n",
              "        \n",
              "            <tr style=\"background-color: hsl(120, 100.00%, 80.00%); border: none;\">\n",
              "    <td style=\"padding: 0 1em 0 0.5em; text-align: right; border: none;\">\n",
              "        +3.051\n",
              "    </td>\n",
              "    <td style=\"padding: 0 0.5em 0 0.5em; text-align: left; border: none;\">\n",
              "        &lt;BIAS&gt;\n",
              "    </td>\n",
              "    \n",
              "</tr>\n",
              "        \n",
              "            <tr style=\"background-color: hsl(120, 100.00%, 90.02%); border: none;\">\n",
              "    <td style=\"padding: 0 1em 0 0.5em; text-align: right; border: none;\">\n",
              "        +1.130\n",
              "    </td>\n",
              "    <td style=\"padding: 0 0.5em 0 0.5em; text-align: left; border: none;\">\n",
              "        muy\n",
              "    </td>\n",
              "    \n",
              "</tr>\n",
              "        \n",
              "            <tr style=\"background-color: hsl(120, 100.00%, 90.50%); border: none;\">\n",
              "    <td style=\"padding: 0 1em 0 0.5em; text-align: right; border: none;\">\n",
              "        +1.053\n",
              "    </td>\n",
              "    <td style=\"padding: 0 0.5em 0 0.5em; text-align: left; border: none;\">\n",
              "        todo\n",
              "    </td>\n",
              "    \n",
              "</tr>\n",
              "        \n",
              "            <tr style=\"background-color: hsl(120, 100.00%, 93.41%); border: none;\">\n",
              "    <td style=\"padding: 0 1em 0 0.5em; text-align: right; border: none;\">\n",
              "        +0.625\n",
              "    </td>\n",
              "    <td style=\"padding: 0 0.5em 0 0.5em; text-align: left; border: none;\">\n",
              "        recomendable\n",
              "    </td>\n",
              "    \n",
              "</tr>\n",
              "        \n",
              "            <tr style=\"background-color: hsl(120, 100.00%, 93.63%); border: none;\">\n",
              "    <td style=\"padding: 0 1em 0 0.5em; text-align: right; border: none;\">\n",
              "        +0.595\n",
              "    </td>\n",
              "    <td style=\"padding: 0 0.5em 0 0.5em; text-align: left; border: none;\">\n",
              "        una\n",
              "    </td>\n",
              "    \n",
              "</tr>\n",
              "        \n",
              "            <tr style=\"background-color: hsl(120, 100.00%, 93.66%); border: none;\">\n",
              "    <td style=\"padding: 0 1em 0 0.5em; text-align: right; border: none;\">\n",
              "        +0.591\n",
              "    </td>\n",
              "    <td style=\"padding: 0 0.5em 0 0.5em; text-align: left; border: none;\">\n",
              "        gracias\n",
              "    </td>\n",
              "    \n",
              "</tr>\n",
              "        \n",
              "            <tr style=\"background-color: hsl(120, 100.00%, 93.68%); border: none;\">\n",
              "    <td style=\"padding: 0 1em 0 0.5em; text-align: right; border: none;\">\n",
              "        +0.588\n",
              "    </td>\n",
              "    <td style=\"padding: 0 0.5em 0 0.5em; text-align: left; border: none;\">\n",
              "        cómodo\n",
              "    </td>\n",
              "    \n",
              "</tr>\n",
              "        \n",
              "            <tr style=\"background-color: hsl(120, 100.00%, 93.92%); border: none;\">\n",
              "    <td style=\"padding: 0 1em 0 0.5em; text-align: right; border: none;\">\n",
              "        +0.557\n",
              "    </td>\n",
              "    <td style=\"padding: 0 0.5em 0 0.5em; text-align: left; border: none;\">\n",
              "        para\n",
              "    </td>\n",
              "    \n",
              "</tr>\n",
              "        \n",
              "            <tr style=\"background-color: hsl(120, 100.00%, 94.24%); border: none;\">\n",
              "    <td style=\"padding: 0 1em 0 0.5em; text-align: right; border: none;\">\n",
              "        +0.515\n",
              "    </td>\n",
              "    <td style=\"padding: 0 0.5em 0 0.5em; text-align: left; border: none;\">\n",
              "        esta\n",
              "    </td>\n",
              "    \n",
              "</tr>\n",
              "        \n",
              "        \n",
              "            <tr style=\"background-color: hsl(120, 100.00%, 94.24%); border: none;\">\n",
              "                <td colspan=\"2\" style=\"padding: 0 0.5em 0 0.5em; text-align: center; border: none; white-space: nowrap;\">\n",
              "                    <i>&hellip; 4453 more positive &hellip;</i>\n",
              "                </td>\n",
              "            </tr>\n",
              "        \n",
              "\n",
              "        \n",
              "            <tr style=\"background-color: hsl(0, 100.00%, 94.29%); border: none;\">\n",
              "                <td colspan=\"2\" style=\"padding: 0 0.5em 0 0.5em; text-align: center; border: none; white-space: nowrap;\">\n",
              "                    <i>&hellip; 666 more negative &hellip;</i>\n",
              "                </td>\n",
              "            </tr>\n",
              "        \n",
              "        \n",
              "            <tr style=\"background-color: hsl(0, 100.00%, 94.29%); border: none;\">\n",
              "    <td style=\"padding: 0 1em 0 0.5em; text-align: right; border: none;\">\n",
              "        -0.509\n",
              "    </td>\n",
              "    <td style=\"padding: 0 0.5em 0 0.5em; text-align: left; border: none;\">\n",
              "        julieta\n",
              "    </td>\n",
              "    \n",
              "</tr>\n",
              "        \n",
              "            <tr style=\"background-color: hsl(0, 100.00%, 94.15%); border: none;\">\n",
              "    <td style=\"padding: 0 1em 0 0.5em; text-align: right; border: none;\">\n",
              "        -0.527\n",
              "    </td>\n",
              "    <td style=\"padding: 0 0.5em 0 0.5em; text-align: left; border: none;\">\n",
              "        quedo\n",
              "    </td>\n",
              "    \n",
              "</tr>\n",
              "        \n",
              "            <tr style=\"background-color: hsl(0, 100.00%, 94.06%); border: none;\">\n",
              "    <td style=\"padding: 0 1em 0 0.5em; text-align: right; border: none;\">\n",
              "        -0.538\n",
              "    </td>\n",
              "    <td style=\"padding: 0 0.5em 0 0.5em; text-align: left; border: none;\">\n",
              "        depas\n",
              "    </td>\n",
              "    \n",
              "</tr>\n",
              "        \n",
              "            <tr style=\"background-color: hsl(0, 100.00%, 93.84%); border: none;\">\n",
              "    <td style=\"padding: 0 1em 0 0.5em; text-align: right; border: none;\">\n",
              "        -0.567\n",
              "    </td>\n",
              "    <td style=\"padding: 0 0.5em 0 0.5em; text-align: left; border: none;\">\n",
              "        estar\n",
              "    </td>\n",
              "    \n",
              "</tr>\n",
              "        \n",
              "            <tr style=\"background-color: hsl(0, 100.00%, 93.62%); border: none;\">\n",
              "    <td style=\"padding: 0 1em 0 0.5em; text-align: right; border: none;\">\n",
              "        -0.597\n",
              "    </td>\n",
              "    <td style=\"padding: 0 0.5em 0 0.5em; text-align: left; border: none;\">\n",
              "        website\n",
              "    </td>\n",
              "    \n",
              "</tr>\n",
              "        \n",
              "            <tr style=\"background-color: hsl(0, 100.00%, 93.54%); border: none;\">\n",
              "    <td style=\"padding: 0 1em 0 0.5em; text-align: right; border: none;\">\n",
              "        -0.607\n",
              "    </td>\n",
              "    <td style=\"padding: 0 0.5em 0 0.5em; text-align: left; border: none;\">\n",
              "        son\n",
              "    </td>\n",
              "    \n",
              "</tr>\n",
              "        \n",
              "            <tr style=\"background-color: hsl(0, 100.00%, 92.96%); border: none;\">\n",
              "    <td style=\"padding: 0 1em 0 0.5em; text-align: right; border: none;\">\n",
              "        -0.687\n",
              "    </td>\n",
              "    <td style=\"padding: 0 0.5em 0 0.5em; text-align: left; border: none;\">\n",
              "        lujo\n",
              "    </td>\n",
              "    \n",
              "</tr>\n",
              "        \n",
              "            <tr style=\"background-color: hsl(0, 100.00%, 92.82%); border: none;\">\n",
              "    <td style=\"padding: 0 1em 0 0.5em; text-align: right; border: none;\">\n",
              "        -0.706\n",
              "    </td>\n",
              "    <td style=\"padding: 0 0.5em 0 0.5em; text-align: left; border: none;\">\n",
              "        for\n",
              "    </td>\n",
              "    \n",
              "</tr>\n",
              "        \n",
              "            <tr style=\"background-color: hsl(0, 100.00%, 92.81%); border: none;\">\n",
              "    <td style=\"padding: 0 1em 0 0.5em; text-align: right; border: none;\">\n",
              "        -0.708\n",
              "    </td>\n",
              "    <td style=\"padding: 0 0.5em 0 0.5em; text-align: left; border: none;\">\n",
              "        cama\n",
              "    </td>\n",
              "    \n",
              "</tr>\n",
              "        \n",
              "            <tr style=\"background-color: hsl(0, 100.00%, 92.67%); border: none;\">\n",
              "    <td style=\"padding: 0 1em 0 0.5em; text-align: right; border: none;\">\n",
              "        -0.727\n",
              "    </td>\n",
              "    <td style=\"padding: 0 0.5em 0 0.5em; text-align: left; border: none;\">\n",
              "        situado\n",
              "    </td>\n",
              "    \n",
              "</tr>\n",
              "        \n",
              "            <tr style=\"background-color: hsl(0, 100.00%, 92.52%); border: none;\">\n",
              "    <td style=\"padding: 0 1em 0 0.5em; text-align: right; border: none;\">\n",
              "        -0.749\n",
              "    </td>\n",
              "    <td style=\"padding: 0 0.5em 0 0.5em; text-align: left; border: none;\">\n",
              "        chapa\n",
              "    </td>\n",
              "    \n",
              "</tr>\n",
              "        \n",
              "            <tr style=\"background-color: hsl(0, 100.00%, 92.46%); border: none;\">\n",
              "    <td style=\"padding: 0 1em 0 0.5em; text-align: right; border: none;\">\n",
              "        -0.757\n",
              "    </td>\n",
              "    <td style=\"padding: 0 0.5em 0 0.5em; text-align: left; border: none;\">\n",
              "        marco\n",
              "    </td>\n",
              "    \n",
              "</tr>\n",
              "        \n",
              "            <tr style=\"background-color: hsl(0, 100.00%, 92.41%); border: none;\">\n",
              "    <td style=\"padding: 0 1em 0 0.5em; text-align: right; border: none;\">\n",
              "        -0.765\n",
              "    </td>\n",
              "    <td style=\"padding: 0 0.5em 0 0.5em; text-align: left; border: none;\">\n",
              "        all\n",
              "    </td>\n",
              "    \n",
              "</tr>\n",
              "        \n",
              "            <tr style=\"background-color: hsl(0, 100.00%, 92.37%); border: none;\">\n",
              "    <td style=\"padding: 0 1em 0 0.5em; text-align: right; border: none;\">\n",
              "        -0.770\n",
              "    </td>\n",
              "    <td style=\"padding: 0 0.5em 0 0.5em; text-align: left; border: none;\">\n",
              "        tanks\n",
              "    </td>\n",
              "    \n",
              "</tr>\n",
              "        \n",
              "            <tr style=\"background-color: hsl(0, 100.00%, 92.37%); border: none;\">\n",
              "    <td style=\"padding: 0 1em 0 0.5em; text-align: right; border: none;\">\n",
              "        -0.770\n",
              "    </td>\n",
              "    <td style=\"padding: 0 0.5em 0 0.5em; text-align: left; border: none;\">\n",
              "        reactive\n",
              "    </td>\n",
              "    \n",
              "</tr>\n",
              "        \n",
              "            <tr style=\"background-color: hsl(0, 100.00%, 91.07%); border: none;\">\n",
              "    <td style=\"padding: 0 1em 0 0.5em; text-align: right; border: none;\">\n",
              "        -0.964\n",
              "    </td>\n",
              "    <td style=\"padding: 0 0.5em 0 0.5em; text-align: left; border: none;\">\n",
              "        electrónica\n",
              "    </td>\n",
              "    \n",
              "</tr>\n",
              "        \n",
              "            <tr style=\"background-color: hsl(0, 100.00%, 90.73%); border: none;\">\n",
              "    <td style=\"padding: 0 1em 0 0.5em; text-align: right; border: none;\">\n",
              "        -1.017\n",
              "    </td>\n",
              "    <td style=\"padding: 0 0.5em 0 0.5em; text-align: left; border: none;\">\n",
              "        by\n",
              "    </td>\n",
              "    \n",
              "</tr>\n",
              "        \n",
              "            <tr style=\"background-color: hsl(0, 100.00%, 90.73%); border: none;\">\n",
              "    <td style=\"padding: 0 1em 0 0.5em; text-align: right; border: none;\">\n",
              "        -1.017\n",
              "    </td>\n",
              "    <td style=\"padding: 0 0.5em 0 0.5em; text-align: left; border: none;\">\n",
              "        hidden\n",
              "    </td>\n",
              "    \n",
              "</tr>\n",
              "        \n",
              "            <tr style=\"background-color: hsl(0, 100.00%, 89.87%); border: none;\">\n",
              "    <td style=\"padding: 0 1em 0 0.5em; text-align: right; border: none;\">\n",
              "        -1.155\n",
              "    </td>\n",
              "    <td style=\"padding: 0 0.5em 0 0.5em; text-align: left; border: none;\">\n",
              "        no\n",
              "    </td>\n",
              "    \n",
              "</tr>\n",
              "        \n",
              "            <tr style=\"background-color: hsl(0, 100.00%, 89.31%); border: none;\">\n",
              "    <td style=\"padding: 0 1em 0 0.5em; text-align: right; border: none;\">\n",
              "        -1.247\n",
              "    </td>\n",
              "    <td style=\"padding: 0 0.5em 0 0.5em; text-align: left; border: none;\">\n",
              "        airbnb\n",
              "    </td>\n",
              "    \n",
              "</tr>\n",
              "        \n",
              "            <tr style=\"background-color: hsl(0, 100.00%, 85.44%); border: none;\">\n",
              "    <td style=\"padding: 0 1em 0 0.5em; text-align: right; border: none;\">\n",
              "        -1.938\n",
              "    </td>\n",
              "    <td style=\"padding: 0 0.5em 0 0.5em; text-align: left; border: none;\">\n",
              "        depa\n",
              "    </td>\n",
              "    \n",
              "</tr>\n",
              "        \n",
              "\n",
              "        </tbody>\n",
              "    </table>\n",
              "\n",
              "            \n",
              "        \n",
              "\n",
              "        \n",
              "\n",
              "\n",
              "\n",
              "    \n",
              "\n",
              "    \n",
              "\n",
              "    \n",
              "\n",
              "    \n",
              "\n",
              "\n",
              "    \n",
              "\n",
              "    \n",
              "\n",
              "    \n",
              "\n",
              "    \n",
              "\n",
              "    \n",
              "\n",
              "    \n",
              "\n",
              "\n",
              "    \n",
              "\n",
              "    \n",
              "\n",
              "    \n",
              "\n",
              "    \n",
              "\n",
              "    \n",
              "\n",
              "    \n",
              "\n",
              "\n",
              "\n"
            ],
            "text/plain": [
              "<IPython.core.display.HTML object>"
            ]
          },
          "metadata": {
            "tags": []
          },
          "execution_count": 377
        }
      ]
    },
    {
      "cell_type": "code",
      "metadata": {
        "id": "vz3QYZAG__zV",
        "colab_type": "code",
        "colab": {},
        "outputId": "7f942a86-4d08-4b55-e97a-6d6ac6a3f3ef"
      },
      "source": [
        "# Let's check some outcomes\n",
        "\n",
        "\n",
        "print('Positive' if test['positive'].iloc[1] else 'Negative')\n",
        "\n",
        "eli5.show_prediction(classifier, test['comments'].iloc[1], vec=vectorizer, \n",
        "                     targets=['positive'], target_names=['negative', 'positive'])"
      ],
      "execution_count": 0,
      "outputs": [
        {
          "output_type": "stream",
          "text": [
            "Positive\n"
          ],
          "name": "stdout"
        },
        {
          "output_type": "execute_result",
          "data": {
            "text/html": [
              "\n",
              "    <style>\n",
              "    table.eli5-weights tr:hover {\n",
              "        filter: brightness(85%);\n",
              "    }\n",
              "</style>\n",
              "\n",
              "\n",
              "\n",
              "    \n",
              "\n",
              "    \n",
              "\n",
              "    \n",
              "\n",
              "    \n",
              "\n",
              "    \n",
              "\n",
              "    \n",
              "\n",
              "\n",
              "    \n",
              "\n",
              "    \n",
              "\n",
              "    \n",
              "\n",
              "    \n",
              "        \n",
              "\n",
              "    \n",
              "\n",
              "        \n",
              "\n",
              "        \n",
              "    \n",
              "        \n",
              "        \n",
              "    \n",
              "        <p style=\"margin-bottom: 0.5em; margin-top: 0em\">\n",
              "            <b>\n",
              "    \n",
              "        y=positive\n",
              "    \n",
              "</b>\n",
              "\n",
              "    \n",
              "    (probability <b>1.000</b>, score <b>7.866</b>)\n",
              "\n",
              "top features\n",
              "        </p>\n",
              "    \n",
              "    <table class=\"eli5-weights\"\n",
              "           style=\"border-collapse: collapse; border: none; margin-top: 0em; table-layout: auto; margin-bottom: 2em;\">\n",
              "        <thead>\n",
              "        <tr style=\"border: none;\">\n",
              "            \n",
              "                <th style=\"padding: 0 1em 0 0.5em; text-align: right; border: none;\" title=\"Feature contribution already accounts for the feature value (for linear models, contribution = weight * feature value), and the sum of feature contributions is equal to the score or, for some classifiers, to the probability. Feature values are shown if &quot;show_feature_values&quot; is True.\">\n",
              "                    Contribution<sup>?</sup>\n",
              "                </th>\n",
              "            \n",
              "            <th style=\"padding: 0 0.5em 0 0.5em; text-align: left; border: none;\">Feature</th>\n",
              "            \n",
              "        </tr>\n",
              "        </thead>\n",
              "        <tbody>\n",
              "        \n",
              "            <tr style=\"background-color: hsl(120, 100.00%, 80.00%); border: none;\">\n",
              "    <td style=\"padding: 0 1em 0 0.5em; text-align: right; border: none;\">\n",
              "        +4.815\n",
              "    </td>\n",
              "    <td style=\"padding: 0 0.5em 0 0.5em; text-align: left; border: none;\">\n",
              "        Highlighted in text (sum)\n",
              "    </td>\n",
              "    \n",
              "</tr>\n",
              "        \n",
              "            <tr style=\"background-color: hsl(120, 100.00%, 85.47%); border: none;\">\n",
              "    <td style=\"padding: 0 1em 0 0.5em; text-align: right; border: none;\">\n",
              "        +3.051\n",
              "    </td>\n",
              "    <td style=\"padding: 0 0.5em 0 0.5em; text-align: left; border: none;\">\n",
              "        &lt;BIAS&gt;\n",
              "    </td>\n",
              "    \n",
              "</tr>\n",
              "        \n",
              "        \n",
              "\n",
              "        \n",
              "        \n",
              "\n",
              "        </tbody>\n",
              "    </table>\n",
              "\n",
              "    \n",
              "\n",
              "\n",
              "\n",
              "    <p style=\"margin-bottom: 2.5em; margin-top:-0.5em;\">\n",
              "        <span style=\"background-color: hsl(120, 100.00%, 82.72%); opacity: 0.86\" title=\"0.341\">excelente</span><span style=\"opacity: 0.80\"> </span><span style=\"background-color: hsl(120, 100.00%, 92.25%); opacity: 0.82\" title=\"0.108\">anfitriona</span><span style=\"opacity: 0.80\">, </span><span style=\"background-color: hsl(120, 100.00%, 60.00%); opacity: 1.00\" title=\"1.130\">muy</span><span style=\"opacity: 0.80\"> </span><span style=\"background-color: hsl(120, 100.00%, 95.08%); opacity: 0.81\" title=\"0.057\">atenta</span><span style=\"opacity: 0.80\"> y </span><span style=\"background-color: hsl(120, 100.00%, 86.73%); opacity: 0.84\" title=\"0.234\">siempre</span><span style=\"opacity: 0.80\"> </span><span style=\"background-color: hsl(120, 100.00%, 84.69%); opacity: 0.85\" title=\"0.287\">al</span><span style=\"opacity: 0.80\"> </span><span style=\"background-color: hsl(120, 100.00%, 85.87%); opacity: 0.85\" title=\"0.256\">pendiente</span><span style=\"opacity: 0.80\">, </span><span style=\"background-color: hsl(120, 100.00%, 89.89%); opacity: 0.83\" title=\"0.159\">la</span><span style=\"opacity: 0.80\"> </span><span style=\"background-color: hsl(0, 100.00%, 97.24%); opacity: 0.80\" title=\"-0.025\">ubicación</span><span style=\"opacity: 0.80\"> y </span><span style=\"background-color: hsl(0, 100.00%, 86.51%); opacity: 0.84\" title=\"-0.239\">el</span><span style=\"opacity: 0.80\"> </span><span style=\"background-color: hsl(120, 100.00%, 82.86%); opacity: 0.86\" title=\"0.337\">lugar</span><span style=\"opacity: 0.80\"> </span><span style=\"background-color: hsl(120, 100.00%, 80.13%); opacity: 0.87\" title=\"0.416\">excelentes</span><span style=\"opacity: 0.80\">!! </span><span style=\"background-color: hsl(120, 100.00%, 60.00%); opacity: 1.00\" title=\"1.130\">muy</span><span style=\"opacity: 0.80\"> </span><span style=\"background-color: hsl(120, 100.00%, 73.57%); opacity: 0.91\" title=\"0.625\">recomendable</span>\n",
              "    </p>\n",
              "\n",
              "\n",
              "    \n",
              "\n",
              "    \n",
              "\n",
              "    \n",
              "\n",
              "    \n",
              "\n",
              "\n",
              "    \n",
              "\n",
              "    \n",
              "\n",
              "    \n",
              "\n",
              "    \n",
              "\n",
              "    \n",
              "\n",
              "    \n",
              "\n",
              "\n",
              "    \n",
              "\n",
              "    \n",
              "\n",
              "    \n",
              "\n",
              "    \n",
              "\n",
              "    \n",
              "\n",
              "    \n",
              "\n",
              "\n",
              "\n"
            ],
            "text/plain": [
              "<IPython.core.display.HTML object>"
            ]
          },
          "metadata": {
            "tags": []
          },
          "execution_count": 379
        }
      ]
    },
    {
      "cell_type": "code",
      "metadata": {
        "id": "vkv60D-1__zX",
        "colab_type": "code",
        "colab": {},
        "outputId": "92023fcf-68a9-4ce1-f692-9c6887de7985"
      },
      "source": [
        "test[test.positive == 0]"
      ],
      "execution_count": 0,
      "outputs": [
        {
          "output_type": "execute_result",
          "data": {
            "text/html": [
              "<div>\n",
              "<style scoped>\n",
              "    .dataframe tbody tr th:only-of-type {\n",
              "        vertical-align: middle;\n",
              "    }\n",
              "\n",
              "    .dataframe tbody tr th {\n",
              "        vertical-align: top;\n",
              "    }\n",
              "\n",
              "    .dataframe thead th {\n",
              "        text-align: right;\n",
              "    }\n",
              "</style>\n",
              "<table border=\"1\" class=\"dataframe\">\n",
              "  <thead>\n",
              "    <tr style=\"text-align: right;\">\n",
              "      <th></th>\n",
              "      <th>listing_id</th>\n",
              "      <th>id</th>\n",
              "      <th>date</th>\n",
              "      <th>reviewer_id</th>\n",
              "      <th>reviewer_name</th>\n",
              "      <th>comments</th>\n",
              "      <th>lang</th>\n",
              "      <th>comments_short</th>\n",
              "      <th>score</th>\n",
              "      <th>positive</th>\n",
              "    </tr>\n",
              "  </thead>\n",
              "  <tbody>\n",
              "    <tr>\n",
              "      <th>314403</th>\n",
              "      <td>25458441</td>\n",
              "      <td>361808216</td>\n",
              "      <td>2018-12-24</td>\n",
              "      <td>203975250</td>\n",
              "      <td>Jannika</td>\n",
              "      <td>Well located in a safe and well communicated a...</td>\n",
              "      <td>es</td>\n",
              "      <td>Well located in a safe and well communicated a...</td>\n",
              "      <td>0.085443</td>\n",
              "      <td>False</td>\n",
              "    </tr>\n",
              "    <tr>\n",
              "      <th>250636</th>\n",
              "      <td>21424924</td>\n",
              "      <td>304033781</td>\n",
              "      <td>2018-08-08</td>\n",
              "      <td>115332805</td>\n",
              "      <td>Vincent</td>\n",
              "      <td>Muy limpio, super bien ubicado, zona muy tranq...</td>\n",
              "      <td>es</td>\n",
              "      <td>Muy limpio, super bien ubicado, zona muy tranq...</td>\n",
              "      <td>0.199757</td>\n",
              "      <td>False</td>\n",
              "    </tr>\n",
              "    <tr>\n",
              "      <th>202991</th>\n",
              "      <td>18474173</td>\n",
              "      <td>300218970</td>\n",
              "      <td>2018-08-01</td>\n",
              "      <td>196669139</td>\n",
              "      <td>Gustavo Adolfo</td>\n",
              "      <td>Lugar Pequeño y funcional. Cercano al shopping...</td>\n",
              "      <td>es</td>\n",
              "      <td>Lugar Pequeño y funcional. Cercano al shopping...</td>\n",
              "      <td>0.135095</td>\n",
              "      <td>False</td>\n",
              "    </tr>\n",
              "    <tr>\n",
              "      <th>63203</th>\n",
              "      <td>7712515</td>\n",
              "      <td>130705708</td>\n",
              "      <td>2017-02-07</td>\n",
              "      <td>112018837</td>\n",
              "      <td>Alejandro</td>\n",
              "      <td>La ubicación y atención es excelente, consider...</td>\n",
              "      <td>es</td>\n",
              "      <td>La ubicación y atención es excelente, consider...</td>\n",
              "      <td>0.195850</td>\n",
              "      <td>False</td>\n",
              "    </tr>\n",
              "    <tr>\n",
              "      <th>214086</th>\n",
              "      <td>19176531</td>\n",
              "      <td>227406657</td>\n",
              "      <td>2018-01-14</td>\n",
              "      <td>153564230</td>\n",
              "      <td>Georgina</td>\n",
              "      <td>El departamento es en verdad increíble, muero ...</td>\n",
              "      <td>es</td>\n",
              "      <td>El departamento es en verdad increíble, muero ...</td>\n",
              "      <td>0.129376</td>\n",
              "      <td>False</td>\n",
              "    </tr>\n",
              "    <tr>\n",
              "      <th>76311</th>\n",
              "      <td>9156139</td>\n",
              "      <td>409732585</td>\n",
              "      <td>2019-02-08</td>\n",
              "      <td>240939174</td>\n",
              "      <td>Guadalupe</td>\n",
              "      <td>No me gusto, estaba sucio, no cuenta con todos...</td>\n",
              "      <td>es</td>\n",
              "      <td>No me gusto, estaba sucio, no cuenta con todos...</td>\n",
              "      <td>0.126925</td>\n",
              "      <td>False</td>\n",
              "    </tr>\n",
              "    <tr>\n",
              "      <th>332104</th>\n",
              "      <td>27603259</td>\n",
              "      <td>338799746</td>\n",
              "      <td>2018-10-20</td>\n",
              "      <td>146947737</td>\n",
              "      <td>Miguel</td>\n",
              "      <td>Muy decepcionado de lo que parecía que iba a s...</td>\n",
              "      <td>es</td>\n",
              "      <td>Muy decepcionado de lo que parecía que iba a s...</td>\n",
              "      <td>0.000425</td>\n",
              "      <td>False</td>\n",
              "    </tr>\n",
              "  </tbody>\n",
              "</table>\n",
              "</div>"
            ],
            "text/plain": [
              "        listing_id         id        date  reviewer_id   reviewer_name  \\\n",
              "314403    25458441  361808216  2018-12-24    203975250         Jannika   \n",
              "250636    21424924  304033781  2018-08-08    115332805         Vincent   \n",
              "202991    18474173  300218970  2018-08-01    196669139  Gustavo Adolfo   \n",
              "63203      7712515  130705708  2017-02-07    112018837       Alejandro   \n",
              "214086    19176531  227406657  2018-01-14    153564230        Georgina   \n",
              "76311      9156139  409732585  2019-02-08    240939174       Guadalupe   \n",
              "332104    27603259  338799746  2018-10-20    146947737          Miguel   \n",
              "\n",
              "                                                 comments lang  \\\n",
              "314403  Well located in a safe and well communicated a...   es   \n",
              "250636  Muy limpio, super bien ubicado, zona muy tranq...   es   \n",
              "202991  Lugar Pequeño y funcional. Cercano al shopping...   es   \n",
              "63203   La ubicación y atención es excelente, consider...   es   \n",
              "214086  El departamento es en verdad increíble, muero ...   es   \n",
              "76311   No me gusto, estaba sucio, no cuenta con todos...   es   \n",
              "332104  Muy decepcionado de lo que parecía que iba a s...   es   \n",
              "\n",
              "                                           comments_short     score  positive  \n",
              "314403  Well located in a safe and well communicated a...  0.085443     False  \n",
              "250636  Muy limpio, super bien ubicado, zona muy tranq...  0.199757     False  \n",
              "202991  Lugar Pequeño y funcional. Cercano al shopping...  0.135095     False  \n",
              "63203   La ubicación y atención es excelente, consider...  0.195850     False  \n",
              "214086  El departamento es en verdad increíble, muero ...  0.129376     False  \n",
              "76311   No me gusto, estaba sucio, no cuenta con todos...  0.126925     False  \n",
              "332104  Muy decepcionado de lo que parecía que iba a s...  0.000425     False  "
            ]
          },
          "metadata": {
            "tags": []
          },
          "execution_count": 380
        }
      ]
    },
    {
      "cell_type": "code",
      "metadata": {
        "id": "uWb14CCD__zZ",
        "colab_type": "code",
        "colab": {},
        "outputId": "4ed6431c-311b-4331-f77f-222c2ba63b0d"
      },
      "source": [
        "print('Positive' if test[test.positive == 0]['positive'].iloc[5] else 'Negative')\n",
        "\n",
        "eli5.show_prediction(classifier, test[test.positive == 0]['comments'].iloc[5], vec=vectorizer, \n",
        "                     targets=['positive'], target_names=['negative', 'positive'])"
      ],
      "execution_count": 0,
      "outputs": [
        {
          "output_type": "stream",
          "text": [
            "Negative\n"
          ],
          "name": "stdout"
        },
        {
          "output_type": "execute_result",
          "data": {
            "text/html": [
              "\n",
              "    <style>\n",
              "    table.eli5-weights tr:hover {\n",
              "        filter: brightness(85%);\n",
              "    }\n",
              "</style>\n",
              "\n",
              "\n",
              "\n",
              "    \n",
              "\n",
              "    \n",
              "\n",
              "    \n",
              "\n",
              "    \n",
              "\n",
              "    \n",
              "\n",
              "    \n",
              "\n",
              "\n",
              "    \n",
              "\n",
              "    \n",
              "\n",
              "    \n",
              "\n",
              "    \n",
              "        \n",
              "\n",
              "    \n",
              "\n",
              "        \n",
              "\n",
              "        \n",
              "    \n",
              "        \n",
              "        \n",
              "    \n",
              "        <p style=\"margin-bottom: 0.5em; margin-top: 0em\">\n",
              "            <b>\n",
              "    \n",
              "        y=positive\n",
              "    \n",
              "</b>\n",
              "\n",
              "    \n",
              "    (probability <b>0.764</b>, score <b>1.173</b>)\n",
              "\n",
              "top features\n",
              "        </p>\n",
              "    \n",
              "    <table class=\"eli5-weights\"\n",
              "           style=\"border-collapse: collapse; border: none; margin-top: 0em; table-layout: auto; margin-bottom: 2em;\">\n",
              "        <thead>\n",
              "        <tr style=\"border: none;\">\n",
              "            \n",
              "                <th style=\"padding: 0 1em 0 0.5em; text-align: right; border: none;\" title=\"Feature contribution already accounts for the feature value (for linear models, contribution = weight * feature value), and the sum of feature contributions is equal to the score or, for some classifiers, to the probability. Feature values are shown if &quot;show_feature_values&quot; is True.\">\n",
              "                    Contribution<sup>?</sup>\n",
              "                </th>\n",
              "            \n",
              "            <th style=\"padding: 0 0.5em 0 0.5em; text-align: left; border: none;\">Feature</th>\n",
              "            \n",
              "        </tr>\n",
              "        </thead>\n",
              "        <tbody>\n",
              "        \n",
              "            <tr style=\"background-color: hsl(120, 100.00%, 80.00%); border: none;\">\n",
              "    <td style=\"padding: 0 1em 0 0.5em; text-align: right; border: none;\">\n",
              "        +3.051\n",
              "    </td>\n",
              "    <td style=\"padding: 0 0.5em 0 0.5em; text-align: left; border: none;\">\n",
              "        &lt;BIAS&gt;\n",
              "    </td>\n",
              "    \n",
              "</tr>\n",
              "        \n",
              "        \n",
              "\n",
              "        \n",
              "        \n",
              "            <tr style=\"background-color: hsl(0, 100.00%, 85.76%); border: none;\">\n",
              "    <td style=\"padding: 0 1em 0 0.5em; text-align: right; border: none;\">\n",
              "        -1.878\n",
              "    </td>\n",
              "    <td style=\"padding: 0 0.5em 0 0.5em; text-align: left; border: none;\">\n",
              "        Highlighted in text (sum)\n",
              "    </td>\n",
              "    \n",
              "</tr>\n",
              "        \n",
              "\n",
              "        </tbody>\n",
              "    </table>\n",
              "\n",
              "    \n",
              "\n",
              "\n",
              "\n",
              "    <p style=\"margin-bottom: 2.5em; margin-top:-0.5em;\">\n",
              "        <span style=\"background-color: hsl(0, 100.00%, 60.00%); opacity: 1.00\" title=\"-1.155\">no</span><span style=\"opacity: 0.80\"> </span><span style=\"background-color: hsl(0, 100.00%, 82.99%); opacity: 0.86\" title=\"-0.340\">me</span><span style=\"opacity: 0.80\"> </span><span style=\"background-color: hsl(120, 100.00%, 89.95%); opacity: 0.83\" title=\"0.161\">gusto</span><span style=\"opacity: 0.80\">, </span><span style=\"background-color: hsl(0, 100.00%, 92.27%); opacity: 0.82\" title=\"-0.110\">estaba</span><span style=\"opacity: 0.80\"> </span><span style=\"background-color: hsl(0, 100.00%, 86.48%); opacity: 0.84\" title=\"-0.245\">sucio</span><span style=\"opacity: 0.80\">, </span><span style=\"background-color: hsl(0, 100.00%, 60.00%); opacity: 1.00\" title=\"-1.155\">no</span><span style=\"opacity: 0.80\"> </span><span style=\"background-color: hsl(120, 100.00%, 93.64%); opacity: 0.81\" title=\"0.083\">cuenta</span><span style=\"opacity: 0.80\"> </span><span style=\"background-color: hsl(120, 100.00%, 96.99%); opacity: 0.80\" title=\"0.029\">con</span><span style=\"opacity: 0.80\"> </span><span style=\"background-color: hsl(0, 100.00%, 94.90%); opacity: 0.81\" title=\"-0.061\">todos</span><span style=\"opacity: 0.80\"> </span><span style=\"background-color: hsl(120, 100.00%, 99.74%); opacity: 0.80\" title=\"0.001\">los</span><span style=\"opacity: 0.80\"> </span><span style=\"background-color: hsl(120, 100.00%, 81.35%); opacity: 0.87\" title=\"0.388\">servicios</span><span style=\"opacity: 0.80\"> </span><span style=\"background-color: hsl(120, 100.00%, 99.18%); opacity: 0.80\" title=\"0.005\">necesarios</span><span style=\"opacity: 0.80\">, </span><span style=\"background-color: hsl(120, 100.00%, 77.26%); opacity: 0.89\" title=\"0.515\">esta</span><span style=\"opacity: 0.80\"> </span><span style=\"background-color: hsl(120, 100.00%, 98.96%); opacity: 0.80\" title=\"0.006\">antiguo</span>\n",
              "    </p>\n",
              "\n",
              "\n",
              "    \n",
              "\n",
              "    \n",
              "\n",
              "    \n",
              "\n",
              "    \n",
              "\n",
              "\n",
              "    \n",
              "\n",
              "    \n",
              "\n",
              "    \n",
              "\n",
              "    \n",
              "\n",
              "    \n",
              "\n",
              "    \n",
              "\n",
              "\n",
              "    \n",
              "\n",
              "    \n",
              "\n",
              "    \n",
              "\n",
              "    \n",
              "\n",
              "    \n",
              "\n",
              "    \n",
              "\n",
              "\n",
              "\n"
            ],
            "text/plain": [
              "<IPython.core.display.HTML object>"
            ]
          },
          "metadata": {
            "tags": []
          },
          "execution_count": 382
        }
      ]
    },
    {
      "cell_type": "markdown",
      "metadata": {
        "id": "_t4JhXj5__zc",
        "colab_type": "text"
      },
      "source": [
        "## Short intro to Word Vectors\n",
        "\n",
        "![](http://ruder.io/content/images/size/w1000/2017/10/semantic_change.png)\n",
        "\n",
        "Word embeddings became big around 2013 and are linked to [this paper](https://arxiv.org/abs/1301.3781) with the beautiful title \n",
        "*Efficient Estimation of Word Representations in Vector Space* by Tomas Mokolov et al. coming out of Google. This was the foundation of Word2Vec.\n",
        "\n",
        "The idea behind it is easiest summarized by the following quote: \n",
        "\n",
        "\n",
        "> *You shall know a word by the company it keeps (Firth, J. R. 1957:11)*\n",
        "\n",
        "Let me start with a fascinating example of word embeddings in practice. Below, you can see a figure from the paper: \n",
        "*Dynamic Word Embeddings for Evolving Semantic Discovery*. Here (in simple terms) the researchers estimated word vectors for from textual inputs in different time-frames. They picked out some terms and person that obviously changed *their company* over the years. Then they look at the relative position of these terms compared to terms that did not change much (anchors). If you are interested in this kind of research, check out [this blog](https://blog.acolyer.org/2018/02/22/dynamic-word-embeddings-for-evolving-semantic-discovery/) that describes the paper briefly or the [original paper](https://arxiv.org/abs/1703.00607).\n",
        "\n",
        "![alt text](https://s3-ap-south-1.amazonaws.com/av-blog-media/wp-content/uploads/2017/06/06062705/Word-Vectors.png)\n",
        "\n",
        "Word embeddings allow us to create term representations that \"learn\" meaning from semantic and syntactic features. These models take a sequence of sentences as an input and scan for all individual terms that appear in the whole corpus and all their occurrences. Such contextual learning seems to be able to pick up non-trivial conceptual details and it is this class of models that today enable technologies such as chatbots, machine translation and much more.\n",
        "\n",
        "The early word embedding models were Word2Vec and [GloVe](https://nlp.stanford.edu/projects/glove/).\n",
        "In December 2017 Facebook presented [fastText](https://fasttext.cc/) (by the way - by 2017 Tomas Mikolov was working for Facebook and is one of the authors of the [paper](https://arxiv.org/abs/1607.04606) that introduces the research behind fastText). This model extends the idea of Word2Vec, enriching these vectors by information from sub-word elements. What does that mean? Words are not only defined by surrounding words but in addition also by the various syllables that make up the word. Why should that be a good idea? Well, now words such as *apple* and *apples* do not only get similar vectors due to them often sharing context but also because they are composed of the same sub-word elements. This comes in particularly handy when we are dealing with language that have a rich morphology such as Turkish or Russian.  This is also great when working with web-text, which is often messy and misspelt.\n",
        "\n",
        "The current state-of-the-art (April 2018!) is ELMo (Embeddings from Language Models) that further tackles the problem of contextuality and particularly polysemy, i.e. same term means something else in a different context. \n",
        "\n",
        "You can read more about the ins and outs of the current state of embedding models [here](https://medium.com/huggingface/universal-word-sentence-embeddings-ce48ddc8fc3a).\n",
        "\n",
        "Now the good news: You will find pre-trained vectors from all mentioned models online. They will do great in most cases. However, when working with specific tasks: Some obscure languages and/or specific technical jargon (finance talk), it is nice to know how to train such word-vectors.\n",
        "\n",
        "In this tutorial and on M3 we will not go further than fastText (2017-state-of-the-art should be good enough for us – sorry). You are more than welcome to use other, more sophisticated, embeddings.\n",
        "\n",
        "\n",
        "In this tutorial we will train three embedding models:\n",
        "\n",
        "- Word2Vec on text8 - a sample of English Wikipedia\n",
        "- Word2Vec on the hate speech and toxic comments data\n",
        "- fastText on the toxic comments data\n",
        "\n",
        "Once trained, we will store the models"
      ]
    },
    {
      "cell_type": "code",
      "metadata": {
        "id": "wYjcYnik__zc",
        "colab_type": "code",
        "colab": {}
      },
      "source": [
        "# we will train a spanish word-model using gensim and based on all spanish reviews\n",
        "\n",
        "from gensim.models import Word2Vec"
      ],
      "execution_count": 0,
      "outputs": []
    },
    {
      "cell_type": "code",
      "metadata": {
        "id": "oVwILZd7__zf",
        "colab_type": "code",
        "colab": {},
        "outputId": "5ca71f45-4b58-495d-f029-9922412e88b1"
      },
      "source": [
        "# Some tools that we need to prepare our data for training\n",
        "\n",
        "import nltk\n",
        "nltk.download('punkt')\n",
        "nltk.download('stopwords')\n",
        "from nltk.tokenize import word_tokenize, sent_tokenize"
      ],
      "execution_count": 0,
      "outputs": [
        {
          "output_type": "stream",
          "text": [
            "[nltk_data] Downloading package punkt to /Users/roman/nltk_data...\n",
            "[nltk_data]   Package punkt is already up-to-date!\n",
            "[nltk_data] Downloading package stopwords to /Users/roman/nltk_data...\n",
            "[nltk_data]   Package stopwords is already up-to-date!\n"
          ],
          "name": "stdout"
        }
      ]
    },
    {
      "cell_type": "code",
      "metadata": {
        "id": "Di1VI8vc__zj",
        "colab_type": "code",
        "colab": {}
      },
      "source": [
        "# load up the review (I ran the language classificaiton on 300k reviews on strong machine so we don't have to wait now)\n",
        "\n",
        "spanish_reviews = pd.read_csv('spanish_revs.csv')"
      ],
      "execution_count": 0,
      "outputs": []
    },
    {
      "cell_type": "code",
      "metadata": {
        "id": "Gplh269p__zn",
        "colab_type": "code",
        "colab": {},
        "outputId": "c514344d-b1b2-45d4-dad3-55a3b5ad9400"
      },
      "source": [
        "spanish_reviews['comments']"
      ],
      "execution_count": 0,
      "outputs": [
        {
          "output_type": "execute_result",
          "data": {
            "text/plain": [
              "0         Excelente ubicación, excelente hospitalidad de...\n",
              "1         Una casa maravillosa! Ubicada en un barrio tra...\n",
              "2         Sin duda la mejor opción para hospedarse en la...\n",
              "3         La habitación es tal cual se describe, amplia,...\n",
              "4         Excelente lugar para estar cerca de todo. Fáci...\n",
              "5         Lugar muy seguro y cómodo. Roberto nos hizo se...\n",
              "6         el cuarto no tiene seguro cualquiera de la cas...\n",
              "7         Estuvimos muy contentos en el depto. Está muy ...\n",
              "8         Excelente debut en airbnb: Lo que vi es lo que...\n",
              "9         El departamento es exactamente como aparece en...\n",
              "10        El departamento está en perfectas condiciones ...\n",
              "11        El departamento es alegre y está bien equipado...\n",
              "12        El estudio esta lindo.  La ubicación es inmejo...\n",
              "13        Encontré un espacio hermoso!lleno de luz,tranq...\n",
              "14        Estar en Coyoacan llena de magia el viaje. Tri...\n",
              "15        Nuestra estancia en México fue excelente. A un...\n",
              "16        Ubicación genial y apartamento bueno con todo ...\n",
              "17        Trisha fue muy atenta desde la recepción que m...\n",
              "18        El departamento está muy bien ubicado en el ma...\n",
              "19        El departamento es muy cómodo, luminoso y con ...\n",
              "20         Excelente ubicación para vivir museos y Coyoacán\n",
              "21        El departamento de Trisha es muy cómodo y está...\n",
              "22        impecable lugar. Por lo demás la ubicación y e...\n",
              "23        Excelente experiencia, la casa está muy bien u...\n",
              "24        Exelente experiencia!!!  Estoy segura que  vol...\n",
              "25        Nos han recibido desde el primer momento con t...\n",
              "26        La casa es mejor que en las fotos. La zona es ...\n",
              "27        Fue una excelente experiencia, las casa es bas...\n",
              "28                                       Excelente servicio\n",
              "29        Creo que el habernos hospedado en esta casa fu...\n",
              "                                ...                        \n",
              "177083    La ubicación es increíble, el alojamiento es m...\n",
              "177084    Regina es una host increíble.\\nSiempre hubo am...\n",
              "177085    Recomiendo este alojamiento de gran gusto! Rea...\n",
              "177086    Un espacio excelentemente ubicado, cómodo y co...\n",
              "177087     ¡ Excelente servicio ! Anfitriones y casa súper \n",
              "177088    Muy bien ubicado, no tiene wifi pero se compen...\n",
              "177089    La descripción de la habitación es engañosa co...\n",
              "177090    Excelente hospitalidad, ubicación!! Altamente ...\n",
              "177091                                      Todo excelente.\n",
              "177092    Esta increíble!\\nLa ubicación está céntrica y ...\n",
              "177093    Una habitación amplia, iluminada y limpia , su...\n",
              "177094                                 Muy bien alojamiento\n",
              "177095    Esta muy bonito el departamento, muy céntrico,...\n",
              "177096                                Cómodo y bien ubicado\n",
              "177097    Muy amable Barbara , muy limpio todo , te resp...\n",
              "177098    Super recomendada muy amables, super servicio ...\n",
              "177099                       No recomiendo hospedarse aquí.\n",
              "177100    Aba es una excelente host, el departamento est...\n",
              "177101    No tuve el gusto de conocer a Ana. Valentín qu...\n",
              "177102    El lugar está padrísimo, a 3 cuadras de reform...\n",
              "177103    Benjamin es muy amable y amigable, la habitaci...\n",
              "177104    Tal cual lo describen, el espacio esta increíb...\n",
              "177105    Súper recomendable! La atención fue excelente ...\n",
              "177106    Excelente servicio y hospitalidad, buena comun...\n",
              "177107    Alejandra y su familia son muy amables. Estuvi...\n",
              "177108    Laura fue sumamente comprensiva en apoyarme co...\n",
              "177109           Lugar acogedor y con personas muy gentiles\n",
              "177110    Excelentes anfitriones! La habitación está est...\n",
              "177111    Super cómoda mi estancia ese fin de semana, mu...\n",
              "177112    El lugar es muy agradable. Cuenta con todos lo...\n",
              "Name: comments, Length: 177113, dtype: object"
            ]
          },
          "metadata": {
            "tags": []
          },
          "execution_count": 386
        }
      ]
    },
    {
      "cell_type": "code",
      "metadata": {
        "id": "oyx_PHK-__zs",
        "colab_type": "code",
        "colab": {}
      },
      "source": [
        "#first we create a list of reviews\n",
        "\n",
        "texts = list(spanish_reviews.comments)"
      ],
      "execution_count": 0,
      "outputs": []
    },
    {
      "cell_type": "code",
      "metadata": {
        "id": "wWg-AytH__zz",
        "colab_type": "code",
        "colab": {}
      },
      "source": [
        "# we split the reviews up in sentences\n",
        "\n",
        "sents = []\n",
        "for text in texts:\n",
        "  sents.extend(sent_tokenize(text))"
      ],
      "execution_count": 0,
      "outputs": []
    },
    {
      "cell_type": "code",
      "metadata": {
        "id": "28b8GbFR__z1",
        "colab_type": "code",
        "colab": {},
        "outputId": "d045728f-b1b2-4261-c88f-550504b192fb"
      },
      "source": [
        "# how many?\n",
        "\n",
        "len(sents)"
      ],
      "execution_count": 0,
      "outputs": [
        {
          "output_type": "execute_result",
          "data": {
            "text/plain": [
              "428578"
            ]
          },
          "metadata": {
            "tags": []
          },
          "execution_count": 389
        }
      ]
    },
    {
      "cell_type": "code",
      "metadata": {
        "id": "msdV6raa__z3",
        "colab_type": "code",
        "colab": {}
      },
      "source": [
        "# here we create tokenized sentenses - sentences will be now lists of individual words (or tokens)\n",
        "\n",
        "tokenized_texts = [word_tokenize(text) for text in sents]\n",
        "tokenized_texts = list(map(lambda x: [y.lower() for y in x], tokenized_texts))"
      ],
      "execution_count": 0,
      "outputs": []
    },
    {
      "cell_type": "code",
      "metadata": {
        "id": "ShF_ati-__z4",
        "colab_type": "code",
        "colab": {},
        "outputId": "69ccc4a8-2184-4f3a-b3f6-c6212c217138"
      },
      "source": [
        "tokenized_texts[:5]"
      ],
      "execution_count": 0,
      "outputs": [
        {
          "output_type": "execute_result",
          "data": {
            "text/plain": [
              "[['excelente',\n",
              "  'ubicación',\n",
              "  ',',\n",
              "  'excelente',\n",
              "  'hospitalidad',\n",
              "  'de',\n",
              "  'parte',\n",
              "  'de',\n",
              "  'nat',\n",
              "  'y',\n",
              "  'un',\n",
              "  'lugar',\n",
              "  'bello',\n",
              "  'en',\n",
              "  'el',\n",
              "  'corazón',\n",
              "  'de',\n",
              "  'la',\n",
              "  'roma',\n",
              "  '.'],\n",
              " ['todo',\n",
              "  'lo',\n",
              "  'que',\n",
              "  'se',\n",
              "  'ocupa',\n",
              "  'para',\n",
              "  'una',\n",
              "  'estadía',\n",
              "  'en',\n",
              "  'df',\n",
              "  '.'],\n",
              " ['gracias', 'nat', '!', '!'],\n",
              " ['!'],\n",
              " ['una', 'casa', 'maravillosa', '!']]"
            ]
          },
          "metadata": {
            "tags": []
          },
          "execution_count": 391
        }
      ]
    },
    {
      "cell_type": "code",
      "metadata": {
        "id": "rXOCjo7k__z-",
        "colab_type": "code",
        "colab": {}
      },
      "source": [
        "# We import logging to get informative outputs from Gensim training\n",
        "\n",
        "import logging\n",
        "logging.basicConfig(format='%(asctime)s : %(levelname)s : %(message)s', level=logging.INFO)"
      ],
      "execution_count": 0,
      "outputs": []
    },
    {
      "cell_type": "code",
      "metadata": {
        "id": "3wLOtm80__z_",
        "colab_type": "code",
        "colab": {},
        "outputId": "4b04b562-e26a-48f6-ef8b-4c941f4aa09f"
      },
      "source": [
        "# this is how we train the model\n",
        "\n",
        "model = Word2Vec(tokenized_texts, \n",
        "                 size=64,      # embedding vector size\n",
        "                 min_count=5,  # consider words that occured at least 10 times\n",
        "                 window=8\n",
        "                ).wv  # define context as a 5-word window around the target word"
      ],
      "execution_count": 0,
      "outputs": [
        {
          "output_type": "stream",
          "text": [
            "2019-07-08 13:35:02,249 : INFO : collecting all words and their counts\n",
            "2019-07-08 13:35:02,253 : INFO : PROGRESS: at sentence #0, processed 0 words, keeping 0 word types\n",
            "2019-07-08 13:35:02,302 : INFO : PROGRESS: at sentence #10000, processed 144378 words, keeping 8254 word types\n",
            "2019-07-08 13:35:02,341 : INFO : PROGRESS: at sentence #20000, processed 286578 words, keeping 11892 word types\n",
            "2019-07-08 13:35:02,380 : INFO : PROGRESS: at sentence #30000, processed 423752 words, keeping 14563 word types\n",
            "2019-07-08 13:35:02,413 : INFO : PROGRESS: at sentence #40000, processed 565885 words, keeping 16783 word types\n",
            "2019-07-08 13:35:02,450 : INFO : PROGRESS: at sentence #50000, processed 708697 words, keeping 18782 word types\n",
            "2019-07-08 13:35:02,485 : INFO : PROGRESS: at sentence #60000, processed 850504 words, keeping 20495 word types\n",
            "2019-07-08 13:35:02,520 : INFO : PROGRESS: at sentence #70000, processed 987408 words, keeping 21878 word types\n",
            "2019-07-08 13:35:02,558 : INFO : PROGRESS: at sentence #80000, processed 1129244 words, keeping 23252 word types\n",
            "2019-07-08 13:35:02,594 : INFO : PROGRESS: at sentence #90000, processed 1264913 words, keeping 24490 word types\n",
            "2019-07-08 13:35:02,627 : INFO : PROGRESS: at sentence #100000, processed 1401362 words, keeping 25724 word types\n",
            "2019-07-08 13:35:02,662 : INFO : PROGRESS: at sentence #110000, processed 1538128 words, keeping 26820 word types\n",
            "2019-07-08 13:35:02,698 : INFO : PROGRESS: at sentence #120000, processed 1674040 words, keeping 27900 word types\n",
            "2019-07-08 13:35:02,728 : INFO : PROGRESS: at sentence #130000, processed 1810295 words, keeping 29104 word types\n",
            "2019-07-08 13:35:02,768 : INFO : PROGRESS: at sentence #140000, processed 1949326 words, keeping 30151 word types\n",
            "2019-07-08 13:35:02,806 : INFO : PROGRESS: at sentence #150000, processed 2083781 words, keeping 31045 word types\n",
            "2019-07-08 13:35:02,840 : INFO : PROGRESS: at sentence #160000, processed 2220605 words, keeping 32048 word types\n",
            "2019-07-08 13:35:02,870 : INFO : PROGRESS: at sentence #170000, processed 2354256 words, keeping 32946 word types\n",
            "2019-07-08 13:35:02,912 : INFO : PROGRESS: at sentence #180000, processed 2491254 words, keeping 33869 word types\n",
            "2019-07-08 13:35:02,966 : INFO : PROGRESS: at sentence #190000, processed 2629338 words, keeping 34779 word types\n",
            "2019-07-08 13:35:03,026 : INFO : PROGRESS: at sentence #200000, processed 2768014 words, keeping 35689 word types\n",
            "2019-07-08 13:35:03,092 : INFO : PROGRESS: at sentence #210000, processed 2900153 words, keeping 36520 word types\n",
            "2019-07-08 13:35:03,136 : INFO : PROGRESS: at sentence #220000, processed 3037137 words, keeping 37334 word types\n",
            "2019-07-08 13:35:03,183 : INFO : PROGRESS: at sentence #230000, processed 3175112 words, keeping 38160 word types\n",
            "2019-07-08 13:35:03,235 : INFO : PROGRESS: at sentence #240000, processed 3311608 words, keeping 38886 word types\n",
            "2019-07-08 13:35:03,280 : INFO : PROGRESS: at sentence #250000, processed 3444342 words, keeping 39613 word types\n",
            "2019-07-08 13:35:03,329 : INFO : PROGRESS: at sentence #260000, processed 3580822 words, keeping 40404 word types\n",
            "2019-07-08 13:35:03,366 : INFO : PROGRESS: at sentence #270000, processed 3713642 words, keeping 41097 word types\n",
            "2019-07-08 13:35:03,403 : INFO : PROGRESS: at sentence #280000, processed 3845265 words, keeping 41731 word types\n",
            "2019-07-08 13:35:03,438 : INFO : PROGRESS: at sentence #290000, processed 3976874 words, keeping 42339 word types\n",
            "2019-07-08 13:35:03,474 : INFO : PROGRESS: at sentence #300000, processed 4112479 words, keeping 43022 word types\n",
            "2019-07-08 13:35:03,508 : INFO : PROGRESS: at sentence #310000, processed 4244657 words, keeping 43602 word types\n",
            "2019-07-08 13:35:03,546 : INFO : PROGRESS: at sentence #320000, processed 4377495 words, keeping 44241 word types\n",
            "2019-07-08 13:35:03,583 : INFO : PROGRESS: at sentence #330000, processed 4506080 words, keeping 44843 word types\n",
            "2019-07-08 13:35:03,614 : INFO : PROGRESS: at sentence #340000, processed 4639550 words, keeping 45491 word types\n",
            "2019-07-08 13:35:03,648 : INFO : PROGRESS: at sentence #350000, processed 4773353 words, keeping 46187 word types\n",
            "2019-07-08 13:35:03,682 : INFO : PROGRESS: at sentence #360000, processed 4904470 words, keeping 46755 word types\n",
            "2019-07-08 13:35:03,724 : INFO : PROGRESS: at sentence #370000, processed 5034010 words, keeping 47239 word types\n",
            "2019-07-08 13:35:03,754 : INFO : PROGRESS: at sentence #380000, processed 5170221 words, keeping 47810 word types\n",
            "2019-07-08 13:35:03,802 : INFO : PROGRESS: at sentence #390000, processed 5300261 words, keeping 48355 word types\n",
            "2019-07-08 13:35:03,840 : INFO : PROGRESS: at sentence #400000, processed 5432071 words, keeping 48942 word types\n",
            "2019-07-08 13:35:03,883 : INFO : PROGRESS: at sentence #410000, processed 5566865 words, keeping 49574 word types\n",
            "2019-07-08 13:35:03,921 : INFO : PROGRESS: at sentence #420000, processed 5701098 words, keeping 50204 word types\n",
            "2019-07-08 13:35:03,957 : INFO : collected 50653 word types from a corpus of 5814656 raw words and 428578 sentences\n",
            "2019-07-08 13:35:03,959 : INFO : Loading a fresh vocabulary\n",
            "2019-07-08 13:35:04,017 : INFO : min_count=5 retains 14407 unique words (28% of original 50653, drops 36246)\n",
            "2019-07-08 13:35:04,018 : INFO : min_count=5 leaves 5760196 word corpus (99% of original 5814656, drops 54460)\n",
            "2019-07-08 13:35:04,074 : INFO : deleting the raw counts dictionary of 50653 items\n",
            "2019-07-08 13:35:04,076 : INFO : sample=0.001 downsamples 54 most-common words\n",
            "2019-07-08 13:35:04,078 : INFO : downsampling leaves estimated 3650789 word corpus (63.4% of prior 5760196)\n",
            "2019-07-08 13:35:04,134 : INFO : estimated required memory for 14407 words and 64 dimensions: 14579884 bytes\n",
            "2019-07-08 13:35:04,135 : INFO : resetting layer weights\n",
            "2019-07-08 13:35:04,294 : INFO : training model with 3 workers on 14407 vocabulary and 64 features, using sg=0 hs=0 sample=0.001 negative=5 window=8\n",
            "2019-07-08 13:35:05,307 : INFO : EPOCH 1 - PROGRESS: at 35.92% examples, 1343151 words/s, in_qsize 5, out_qsize 0\n",
            "2019-07-08 13:35:06,308 : INFO : EPOCH 1 - PROGRESS: at 69.54% examples, 1280841 words/s, in_qsize 5, out_qsize 0\n",
            "2019-07-08 13:35:07,309 : INFO : EPOCH 1 - PROGRESS: at 91.98% examples, 1117642 words/s, in_qsize 5, out_qsize 0\n",
            "2019-07-08 13:35:07,573 : INFO : worker thread finished; awaiting finish of 2 more threads\n",
            "2019-07-08 13:35:07,579 : INFO : worker thread finished; awaiting finish of 1 more threads\n",
            "2019-07-08 13:35:07,584 : INFO : worker thread finished; awaiting finish of 0 more threads\n",
            "2019-07-08 13:35:07,585 : INFO : EPOCH - 1 : training on 5814656 raw words (3651092 effective words) took 3.3s, 1111419 effective words/s\n",
            "2019-07-08 13:35:08,606 : INFO : EPOCH 2 - PROGRESS: at 29.45% examples, 1111900 words/s, in_qsize 5, out_qsize 0\n",
            "2019-07-08 13:35:09,606 : INFO : EPOCH 2 - PROGRESS: at 62.53% examples, 1160970 words/s, in_qsize 5, out_qsize 0\n",
            "2019-07-08 13:35:10,594 : INFO : worker thread finished; awaiting finish of 2 more threads\n",
            "2019-07-08 13:35:10,599 : INFO : worker thread finished; awaiting finish of 1 more threads\n",
            "2019-07-08 13:35:10,602 : INFO : worker thread finished; awaiting finish of 0 more threads\n",
            "2019-07-08 13:35:10,603 : INFO : EPOCH - 2 : training on 5814656 raw words (3650975 effective words) took 3.0s, 1218200 effective words/s\n",
            "2019-07-08 13:35:11,639 : INFO : EPOCH 3 - PROGRESS: at 37.11% examples, 1395916 words/s, in_qsize 5, out_qsize 0\n",
            "2019-07-08 13:35:12,644 : INFO : EPOCH 3 - PROGRESS: at 74.81% examples, 1376029 words/s, in_qsize 6, out_qsize 0\n",
            "2019-07-08 13:35:13,306 : INFO : worker thread finished; awaiting finish of 2 more threads\n",
            "2019-07-08 13:35:13,312 : INFO : worker thread finished; awaiting finish of 1 more threads\n",
            "2019-07-08 13:35:13,318 : INFO : worker thread finished; awaiting finish of 0 more threads\n",
            "2019-07-08 13:35:13,320 : INFO : EPOCH - 3 : training on 5814656 raw words (3651529 effective words) took 2.7s, 1362017 effective words/s\n",
            "2019-07-08 13:35:14,333 : INFO : EPOCH 4 - PROGRESS: at 23.95% examples, 911576 words/s, in_qsize 6, out_qsize 0\n",
            "2019-07-08 13:35:15,334 : INFO : EPOCH 4 - PROGRESS: at 52.67% examples, 983010 words/s, in_qsize 5, out_qsize 0\n",
            "2019-07-08 13:35:16,340 : INFO : EPOCH 4 - PROGRESS: at 86.34% examples, 1052240 words/s, in_qsize 5, out_qsize 0\n",
            "2019-07-08 13:35:16,757 : INFO : worker thread finished; awaiting finish of 2 more threads\n",
            "2019-07-08 13:35:16,758 : INFO : worker thread finished; awaiting finish of 1 more threads\n",
            "2019-07-08 13:35:16,765 : INFO : worker thread finished; awaiting finish of 0 more threads\n",
            "2019-07-08 13:35:16,766 : INFO : EPOCH - 4 : training on 5814656 raw words (3650991 effective words) took 3.4s, 1063439 effective words/s\n",
            "2019-07-08 13:35:17,776 : INFO : EPOCH 5 - PROGRESS: at 28.24% examples, 1067767 words/s, in_qsize 5, out_qsize 0\n",
            "2019-07-08 13:35:18,778 : INFO : EPOCH 5 - PROGRESS: at 60.41% examples, 1122061 words/s, in_qsize 5, out_qsize 0\n",
            "2019-07-08 13:35:19,782 : INFO : EPOCH 5 - PROGRESS: at 97.86% examples, 1188838 words/s, in_qsize 5, out_qsize 0\n",
            "2019-07-08 13:35:19,840 : INFO : worker thread finished; awaiting finish of 2 more threads\n",
            "2019-07-08 13:35:19,844 : INFO : worker thread finished; awaiting finish of 1 more threads\n",
            "2019-07-08 13:35:19,849 : INFO : worker thread finished; awaiting finish of 0 more threads\n",
            "2019-07-08 13:35:19,850 : INFO : EPOCH - 5 : training on 5814656 raw words (3650723 effective words) took 3.1s, 1187138 effective words/s\n",
            "2019-07-08 13:35:19,850 : INFO : training on a 29073280 raw words (18255310 effective words) took 15.6s, 1173555 effective words/s\n"
          ],
          "name": "stderr"
        }
      ]
    },
    {
      "cell_type": "markdown",
      "metadata": {
        "id": "aK96YCTL__0B",
        "colab_type": "text"
      },
      "source": [
        "With the trained model, we now can do some interesting exercises:"
      ]
    },
    {
      "cell_type": "code",
      "metadata": {
        "id": "lpqAYK8d__0C",
        "colab_type": "code",
        "colab": {},
        "outputId": "eef6e53b-fbe3-47ad-8487-1184babadf49"
      },
      "source": [
        "# e.g. look up synonyms \n",
        "\n",
        "model.most_similar('perfecto')"
      ],
      "execution_count": 0,
      "outputs": [
        {
          "output_type": "stream",
          "text": [
            "2019-07-08 13:36:45,062 : INFO : precomputing L2-norms of word weight vectors\n"
          ],
          "name": "stderr"
        },
        {
          "output_type": "execute_result",
          "data": {
            "text/plain": [
              "[('ideal', 0.7419265508651733),\n",
              " ('estupendo', 0.709842324256897),\n",
              " ('genial', 0.7050050497055054),\n",
              " ('adecuado', 0.6937951445579529),\n",
              " ('buenísimo', 0.6768954992294312),\n",
              " ('fantástico', 0.6314971446990967),\n",
              " ('fabuloso', 0.607237696647644),\n",
              " ('maravilloso', 0.6030228137969971),\n",
              " ('increíble', 0.5922060608863831),\n",
              " ('óptimo', 0.5830678939819336)]"
            ]
          },
          "metadata": {
            "tags": []
          },
          "execution_count": 395
        }
      ]
    },
    {
      "cell_type": "code",
      "metadata": {
        "id": "CTeJD4Rx__0F",
        "colab_type": "code",
        "colab": {},
        "outputId": "b3373665-7c4d-4115-f983-cc2e805cee34"
      },
      "source": [
        "model.most_similar('incomodo')"
      ],
      "execution_count": 0,
      "outputs": [
        {
          "output_type": "execute_result",
          "data": {
            "text/plain": [
              "[('incómodo', 0.9428448677062988),\n",
              " ('molesto', 0.8239287734031677),\n",
              " ('caluroso', 0.8208277821540833),\n",
              " ('raro', 0.7887123823165894),\n",
              " ('extraño', 0.7639491558074951),\n",
              " ('duro', 0.7594910264015198),\n",
              " ('incomoda', 0.7593235969543457),\n",
              " ('complicado', 0.753383994102478),\n",
              " ('incómoda', 0.7531988620758057),\n",
              " ('quizá', 0.747157096862793)]"
            ]
          },
          "metadata": {
            "tags": []
          },
          "execution_count": 396
        }
      ]
    },
    {
      "cell_type": "code",
      "metadata": {
        "id": "VzktoVNz__0G",
        "colab_type": "code",
        "colab": {},
        "outputId": "6adaee84-44bd-402d-a9f9-2d66ca051bdc"
      },
      "source": [
        "model.most_similar(positive=['casa', 'coyoacán'], negative=['polanco'])"
      ],
      "execution_count": 0,
      "outputs": [
        {
          "output_type": "execute_result",
          "data": {
            "text/plain": [
              "[('casita', 0.6588730812072754),\n",
              " ('cabaña', 0.6278103590011597),\n",
              " ('familia', 0.5791410803794861),\n",
              " ('hogar', 0.5740470886230469),\n",
              " ('propiedad', 0.5645014047622681),\n",
              " ('mascota', 0.5471508502960205),\n",
              " ('compañia', 0.541767418384552),\n",
              " ('perrita', 0.5407606363296509),\n",
              " ('gatita', 0.525831937789917),\n",
              " ('vecindad', 0.5192152261734009)]"
            ]
          },
          "metadata": {
            "tags": []
          },
          "execution_count": 397
        }
      ]
    },
    {
      "cell_type": "code",
      "metadata": {
        "id": "r9_wSgm5__0J",
        "colab_type": "code",
        "colab": {},
        "outputId": "bf9c9dae-11cc-4485-8555-edc64bcd4e34"
      },
      "source": [
        "# we can print some of the often seen terms\n",
        "words = sorted(model.vocab.keys(), \n",
        "               key=lambda word: model.vocab[word].count,\n",
        "               reverse=True)[:1000]\n",
        "\n",
        "print(words[::100])"
      ],
      "execution_count": 0,
      "outputs": [
        {
          "output_type": "stream",
          "text": [
            "[',', ':', 'barrio', 'comodidad', 'i', 'pudimos', 'grandes', 'volveria', 'city', 'estamos']\n"
          ],
          "name": "stdout"
        }
      ]
    },
    {
      "cell_type": "code",
      "metadata": {
        "id": "IZfh047I__0M",
        "colab_type": "code",
        "colab": {}
      },
      "source": [
        "# the model can also return our word-vectors\n",
        "\n",
        "word_vectors = model.vectors[[model.vocab[word].index for word in words]]"
      ],
      "execution_count": 0,
      "outputs": []
    },
    {
      "cell_type": "code",
      "metadata": {
        "id": "AgacOfCZ__0N",
        "colab_type": "code",
        "colab": {}
      },
      "source": [
        "# A function to visualize the vectors (not easy at all)\n",
        "\n",
        "import bokeh.models as bm, bokeh.plotting as pl\n",
        "from bokeh.io import output_notebook\n",
        "\n",
        "def draw_vectors(x, y, radius=10, alpha=0.25, color='blue',\n",
        "                 width=600, height=400, show=True, **kwargs):\n",
        "    \"\"\" draws an interactive plot for data points with auxilirary info on hover \"\"\"\n",
        "    output_notebook()\n",
        "    \n",
        "    if isinstance(color, str): \n",
        "        color = [color] * len(x)\n",
        "    data_source = bm.ColumnDataSource({ 'x' : x, 'y' : y, 'color': color, **kwargs })\n",
        "\n",
        "    fig = pl.figure(active_scroll='wheel_zoom', width=width, height=height)\n",
        "    fig.scatter('x', 'y', size=radius, color='color', alpha=alpha, source=data_source)\n",
        "\n",
        "    fig.add_tools(bm.HoverTool(tooltips=[(key, \"@\" + key) for key in kwargs.keys()]))\n",
        "    if show: \n",
        "        pl.show(fig)\n",
        "    return fig"
      ],
      "execution_count": 0,
      "outputs": []
    },
    {
      "cell_type": "code",
      "metadata": {
        "id": "hLSElJjU__0O",
        "colab_type": "code",
        "colab": {}
      },
      "source": [
        "# we can project the word vectors into 2dimensinoal space using the new UMAP library\n",
        "import umap\n",
        "\n",
        "def get_umap_projection(word_vectors):\n",
        "    vecs = umap.UMAP(n_neighbors=15, metric='cosine').fit_transform(word_vectors)\n",
        "    return vecs"
      ],
      "execution_count": 0,
      "outputs": []
    },
    {
      "cell_type": "code",
      "metadata": {
        "id": "JaHkGmat__0Q",
        "colab_type": "code",
        "colab": {},
        "outputId": "54eb3872-7d56-4273-c08d-38353bb8f9cf"
      },
      "source": [
        "word_umap = get_umap_projection(word_vectors[:1000])\n",
        "draw_vectors(word_umap[:, 0], word_umap[:, 1], color='blue', token=words)"
      ],
      "execution_count": 0,
      "outputs": [
        {
          "output_type": "display_data",
          "data": {
            "text/html": [
              "\n",
              "    <div class=\"bk-root\">\n",
              "        <a href=\"https://bokeh.pydata.org\" target=\"_blank\" class=\"bk-logo bk-logo-small bk-logo-notebook\"></a>\n",
              "        <span id=\"1111\">Loading BokehJS ...</span>\n",
              "    </div>"
            ]
          },
          "metadata": {
            "tags": []
          }
        },
        {
          "output_type": "display_data",
          "data": {
            "application/javascript": [
              "\n",
              "(function(root) {\n",
              "  function now() {\n",
              "    return new Date();\n",
              "  }\n",
              "\n",
              "  var force = true;\n",
              "\n",
              "  if (typeof (root._bokeh_onload_callbacks) === \"undefined\" || force === true) {\n",
              "    root._bokeh_onload_callbacks = [];\n",
              "    root._bokeh_is_loading = undefined;\n",
              "  }\n",
              "\n",
              "  var JS_MIME_TYPE = 'application/javascript';\n",
              "  var HTML_MIME_TYPE = 'text/html';\n",
              "  var EXEC_MIME_TYPE = 'application/vnd.bokehjs_exec.v0+json';\n",
              "  var CLASS_NAME = 'output_bokeh rendered_html';\n",
              "\n",
              "  /**\n",
              "   * Render data to the DOM node\n",
              "   */\n",
              "  function render(props, node) {\n",
              "    var script = document.createElement(\"script\");\n",
              "    node.appendChild(script);\n",
              "  }\n",
              "\n",
              "  /**\n",
              "   * Handle when an output is cleared or removed\n",
              "   */\n",
              "  function handleClearOutput(event, handle) {\n",
              "    var cell = handle.cell;\n",
              "\n",
              "    var id = cell.output_area._bokeh_element_id;\n",
              "    var server_id = cell.output_area._bokeh_server_id;\n",
              "    // Clean up Bokeh references\n",
              "    if (id != null && id in Bokeh.index) {\n",
              "      Bokeh.index[id].model.document.clear();\n",
              "      delete Bokeh.index[id];\n",
              "    }\n",
              "\n",
              "    if (server_id !== undefined) {\n",
              "      // Clean up Bokeh references\n",
              "      var cmd = \"from bokeh.io.state import curstate; print(curstate().uuid_to_server['\" + server_id + \"'].get_sessions()[0].document.roots[0]._id)\";\n",
              "      cell.notebook.kernel.execute(cmd, {\n",
              "        iopub: {\n",
              "          output: function(msg) {\n",
              "            var id = msg.content.text.trim();\n",
              "            if (id in Bokeh.index) {\n",
              "              Bokeh.index[id].model.document.clear();\n",
              "              delete Bokeh.index[id];\n",
              "            }\n",
              "          }\n",
              "        }\n",
              "      });\n",
              "      // Destroy server and session\n",
              "      var cmd = \"import bokeh.io.notebook as ion; ion.destroy_server('\" + server_id + \"')\";\n",
              "      cell.notebook.kernel.execute(cmd);\n",
              "    }\n",
              "  }\n",
              "\n",
              "  /**\n",
              "   * Handle when a new output is added\n",
              "   */\n",
              "  function handleAddOutput(event, handle) {\n",
              "    var output_area = handle.output_area;\n",
              "    var output = handle.output;\n",
              "\n",
              "    // limit handleAddOutput to display_data with EXEC_MIME_TYPE content only\n",
              "    if ((output.output_type != \"display_data\") || (!output.data.hasOwnProperty(EXEC_MIME_TYPE))) {\n",
              "      return\n",
              "    }\n",
              "\n",
              "    var toinsert = output_area.element.find(\".\" + CLASS_NAME.split(' ')[0]);\n",
              "\n",
              "    if (output.metadata[EXEC_MIME_TYPE][\"id\"] !== undefined) {\n",
              "      toinsert[toinsert.length - 1].firstChild.textContent = output.data[JS_MIME_TYPE];\n",
              "      // store reference to embed id on output_area\n",
              "      output_area._bokeh_element_id = output.metadata[EXEC_MIME_TYPE][\"id\"];\n",
              "    }\n",
              "    if (output.metadata[EXEC_MIME_TYPE][\"server_id\"] !== undefined) {\n",
              "      var bk_div = document.createElement(\"div\");\n",
              "      bk_div.innerHTML = output.data[HTML_MIME_TYPE];\n",
              "      var script_attrs = bk_div.children[0].attributes;\n",
              "      for (var i = 0; i < script_attrs.length; i++) {\n",
              "        toinsert[toinsert.length - 1].firstChild.setAttribute(script_attrs[i].name, script_attrs[i].value);\n",
              "      }\n",
              "      // store reference to server id on output_area\n",
              "      output_area._bokeh_server_id = output.metadata[EXEC_MIME_TYPE][\"server_id\"];\n",
              "    }\n",
              "  }\n",
              "\n",
              "  function register_renderer(events, OutputArea) {\n",
              "\n",
              "    function append_mime(data, metadata, element) {\n",
              "      // create a DOM node to render to\n",
              "      var toinsert = this.create_output_subarea(\n",
              "        metadata,\n",
              "        CLASS_NAME,\n",
              "        EXEC_MIME_TYPE\n",
              "      );\n",
              "      this.keyboard_manager.register_events(toinsert);\n",
              "      // Render to node\n",
              "      var props = {data: data, metadata: metadata[EXEC_MIME_TYPE]};\n",
              "      render(props, toinsert[toinsert.length - 1]);\n",
              "      element.append(toinsert);\n",
              "      return toinsert\n",
              "    }\n",
              "\n",
              "    /* Handle when an output is cleared or removed */\n",
              "    events.on('clear_output.CodeCell', handleClearOutput);\n",
              "    events.on('delete.Cell', handleClearOutput);\n",
              "\n",
              "    /* Handle when a new output is added */\n",
              "    events.on('output_added.OutputArea', handleAddOutput);\n",
              "\n",
              "    /**\n",
              "     * Register the mime type and append_mime function with output_area\n",
              "     */\n",
              "    OutputArea.prototype.register_mime_type(EXEC_MIME_TYPE, append_mime, {\n",
              "      /* Is output safe? */\n",
              "      safe: true,\n",
              "      /* Index of renderer in `output_area.display_order` */\n",
              "      index: 0\n",
              "    });\n",
              "  }\n",
              "\n",
              "  // register the mime type if in Jupyter Notebook environment and previously unregistered\n",
              "  if (root.Jupyter !== undefined) {\n",
              "    var events = require('base/js/events');\n",
              "    var OutputArea = require('notebook/js/outputarea').OutputArea;\n",
              "\n",
              "    if (OutputArea.prototype.mime_types().indexOf(EXEC_MIME_TYPE) == -1) {\n",
              "      register_renderer(events, OutputArea);\n",
              "    }\n",
              "  }\n",
              "\n",
              "  \n",
              "  if (typeof (root._bokeh_timeout) === \"undefined\" || force === true) {\n",
              "    root._bokeh_timeout = Date.now() + 5000;\n",
              "    root._bokeh_failed_load = false;\n",
              "  }\n",
              "\n",
              "  var NB_LOAD_WARNING = {'data': {'text/html':\n",
              "     \"<div style='background-color: #fdd'>\\n\"+\n",
              "     \"<p>\\n\"+\n",
              "     \"BokehJS does not appear to have successfully loaded. If loading BokehJS from CDN, this \\n\"+\n",
              "     \"may be due to a slow or bad network connection. Possible fixes:\\n\"+\n",
              "     \"</p>\\n\"+\n",
              "     \"<ul>\\n\"+\n",
              "     \"<li>re-rerun `output_notebook()` to attempt to load from CDN again, or</li>\\n\"+\n",
              "     \"<li>use INLINE resources instead, as so:</li>\\n\"+\n",
              "     \"</ul>\\n\"+\n",
              "     \"<code>\\n\"+\n",
              "     \"from bokeh.resources import INLINE\\n\"+\n",
              "     \"output_notebook(resources=INLINE)\\n\"+\n",
              "     \"</code>\\n\"+\n",
              "     \"</div>\"}};\n",
              "\n",
              "  function display_loaded() {\n",
              "    var el = document.getElementById(\"1111\");\n",
              "    if (el != null) {\n",
              "      el.textContent = \"BokehJS is loading...\";\n",
              "    }\n",
              "    if (root.Bokeh !== undefined) {\n",
              "      if (el != null) {\n",
              "        el.textContent = \"BokehJS \" + root.Bokeh.version + \" successfully loaded.\";\n",
              "      }\n",
              "    } else if (Date.now() < root._bokeh_timeout) {\n",
              "      setTimeout(display_loaded, 100)\n",
              "    }\n",
              "  }\n",
              "\n",
              "\n",
              "  function run_callbacks() {\n",
              "    try {\n",
              "      root._bokeh_onload_callbacks.forEach(function(callback) { callback() });\n",
              "    }\n",
              "    finally {\n",
              "      delete root._bokeh_onload_callbacks\n",
              "    }\n",
              "    console.info(\"Bokeh: all callbacks have finished\");\n",
              "  }\n",
              "\n",
              "  function load_libs(js_urls, callback) {\n",
              "    root._bokeh_onload_callbacks.push(callback);\n",
              "    if (root._bokeh_is_loading > 0) {\n",
              "      console.log(\"Bokeh: BokehJS is being loaded, scheduling callback at\", now());\n",
              "      return null;\n",
              "    }\n",
              "    if (js_urls == null || js_urls.length === 0) {\n",
              "      run_callbacks();\n",
              "      return null;\n",
              "    }\n",
              "    console.log(\"Bokeh: BokehJS not loaded, scheduling load and callback at\", now());\n",
              "    root._bokeh_is_loading = js_urls.length;\n",
              "    for (var i = 0; i < js_urls.length; i++) {\n",
              "      var url = js_urls[i];\n",
              "      var s = document.createElement('script');\n",
              "      s.src = url;\n",
              "      s.async = false;\n",
              "      s.onreadystatechange = s.onload = function() {\n",
              "        root._bokeh_is_loading--;\n",
              "        if (root._bokeh_is_loading === 0) {\n",
              "          console.log(\"Bokeh: all BokehJS libraries loaded\");\n",
              "          run_callbacks()\n",
              "        }\n",
              "      };\n",
              "      s.onerror = function() {\n",
              "        console.warn(\"failed to load library \" + url);\n",
              "      };\n",
              "      console.log(\"Bokeh: injecting script tag for BokehJS library: \", url);\n",
              "      document.getElementsByTagName(\"head\")[0].appendChild(s);\n",
              "    }\n",
              "  };var element = document.getElementById(\"1111\");\n",
              "  if (element == null) {\n",
              "    console.log(\"Bokeh: ERROR: autoload.js configured with elementid '1111' but no matching script tag was found. \")\n",
              "    return false;\n",
              "  }\n",
              "\n",
              "  var js_urls = [\"https://cdn.pydata.org/bokeh/release/bokeh-1.0.0.min.js\", \"https://cdn.pydata.org/bokeh/release/bokeh-widgets-1.0.0.min.js\", \"https://cdn.pydata.org/bokeh/release/bokeh-tables-1.0.0.min.js\", \"https://cdn.pydata.org/bokeh/release/bokeh-gl-1.0.0.min.js\"];\n",
              "\n",
              "  var inline_js = [\n",
              "    function(Bokeh) {\n",
              "      Bokeh.set_log_level(\"info\");\n",
              "    },\n",
              "    \n",
              "    function(Bokeh) {\n",
              "      \n",
              "    },\n",
              "    function(Bokeh) {\n",
              "      console.log(\"Bokeh: injecting CSS: https://cdn.pydata.org/bokeh/release/bokeh-1.0.0.min.css\");\n",
              "      Bokeh.embed.inject_css(\"https://cdn.pydata.org/bokeh/release/bokeh-1.0.0.min.css\");\n",
              "      console.log(\"Bokeh: injecting CSS: https://cdn.pydata.org/bokeh/release/bokeh-widgets-1.0.0.min.css\");\n",
              "      Bokeh.embed.inject_css(\"https://cdn.pydata.org/bokeh/release/bokeh-widgets-1.0.0.min.css\");\n",
              "      console.log(\"Bokeh: injecting CSS: https://cdn.pydata.org/bokeh/release/bokeh-tables-1.0.0.min.css\");\n",
              "      Bokeh.embed.inject_css(\"https://cdn.pydata.org/bokeh/release/bokeh-tables-1.0.0.min.css\");\n",
              "    }\n",
              "  ];\n",
              "\n",
              "  function run_inline_js() {\n",
              "    \n",
              "    if ((root.Bokeh !== undefined) || (force === true)) {\n",
              "      for (var i = 0; i < inline_js.length; i++) {\n",
              "        inline_js[i].call(root, root.Bokeh);\n",
              "      }if (force === true) {\n",
              "        display_loaded();\n",
              "      }} else if (Date.now() < root._bokeh_timeout) {\n",
              "      setTimeout(run_inline_js, 100);\n",
              "    } else if (!root._bokeh_failed_load) {\n",
              "      console.log(\"Bokeh: BokehJS failed to load within specified timeout.\");\n",
              "      root._bokeh_failed_load = true;\n",
              "    } else if (force !== true) {\n",
              "      var cell = $(document.getElementById(\"1111\")).parents('.cell').data().cell;\n",
              "      cell.output_area.append_execute_result(NB_LOAD_WARNING)\n",
              "    }\n",
              "\n",
              "  }\n",
              "\n",
              "  if (root._bokeh_is_loading === 0) {\n",
              "    console.log(\"Bokeh: BokehJS loaded, going straight to plotting\");\n",
              "    run_inline_js();\n",
              "  } else {\n",
              "    load_libs(js_urls, function() {\n",
              "      console.log(\"Bokeh: BokehJS plotting callback run at\", now());\n",
              "      run_inline_js();\n",
              "    });\n",
              "  }\n",
              "}(window));"
            ],
            "application/vnd.bokehjs_load.v0+json": "\n(function(root) {\n  function now() {\n    return new Date();\n  }\n\n  var force = true;\n\n  if (typeof (root._bokeh_onload_callbacks) === \"undefined\" || force === true) {\n    root._bokeh_onload_callbacks = [];\n    root._bokeh_is_loading = undefined;\n  }\n\n  \n\n  \n  if (typeof (root._bokeh_timeout) === \"undefined\" || force === true) {\n    root._bokeh_timeout = Date.now() + 5000;\n    root._bokeh_failed_load = false;\n  }\n\n  var NB_LOAD_WARNING = {'data': {'text/html':\n     \"<div style='background-color: #fdd'>\\n\"+\n     \"<p>\\n\"+\n     \"BokehJS does not appear to have successfully loaded. If loading BokehJS from CDN, this \\n\"+\n     \"may be due to a slow or bad network connection. Possible fixes:\\n\"+\n     \"</p>\\n\"+\n     \"<ul>\\n\"+\n     \"<li>re-rerun `output_notebook()` to attempt to load from CDN again, or</li>\\n\"+\n     \"<li>use INLINE resources instead, as so:</li>\\n\"+\n     \"</ul>\\n\"+\n     \"<code>\\n\"+\n     \"from bokeh.resources import INLINE\\n\"+\n     \"output_notebook(resources=INLINE)\\n\"+\n     \"</code>\\n\"+\n     \"</div>\"}};\n\n  function display_loaded() {\n    var el = document.getElementById(\"1111\");\n    if (el != null) {\n      el.textContent = \"BokehJS is loading...\";\n    }\n    if (root.Bokeh !== undefined) {\n      if (el != null) {\n        el.textContent = \"BokehJS \" + root.Bokeh.version + \" successfully loaded.\";\n      }\n    } else if (Date.now() < root._bokeh_timeout) {\n      setTimeout(display_loaded, 100)\n    }\n  }\n\n\n  function run_callbacks() {\n    try {\n      root._bokeh_onload_callbacks.forEach(function(callback) { callback() });\n    }\n    finally {\n      delete root._bokeh_onload_callbacks\n    }\n    console.info(\"Bokeh: all callbacks have finished\");\n  }\n\n  function load_libs(js_urls, callback) {\n    root._bokeh_onload_callbacks.push(callback);\n    if (root._bokeh_is_loading > 0) {\n      console.log(\"Bokeh: BokehJS is being loaded, scheduling callback at\", now());\n      return null;\n    }\n    if (js_urls == null || js_urls.length === 0) {\n      run_callbacks();\n      return null;\n    }\n    console.log(\"Bokeh: BokehJS not loaded, scheduling load and callback at\", now());\n    root._bokeh_is_loading = js_urls.length;\n    for (var i = 0; i < js_urls.length; i++) {\n      var url = js_urls[i];\n      var s = document.createElement('script');\n      s.src = url;\n      s.async = false;\n      s.onreadystatechange = s.onload = function() {\n        root._bokeh_is_loading--;\n        if (root._bokeh_is_loading === 0) {\n          console.log(\"Bokeh: all BokehJS libraries loaded\");\n          run_callbacks()\n        }\n      };\n      s.onerror = function() {\n        console.warn(\"failed to load library \" + url);\n      };\n      console.log(\"Bokeh: injecting script tag for BokehJS library: \", url);\n      document.getElementsByTagName(\"head\")[0].appendChild(s);\n    }\n  };var element = document.getElementById(\"1111\");\n  if (element == null) {\n    console.log(\"Bokeh: ERROR: autoload.js configured with elementid '1111' but no matching script tag was found. \")\n    return false;\n  }\n\n  var js_urls = [\"https://cdn.pydata.org/bokeh/release/bokeh-1.0.0.min.js\", \"https://cdn.pydata.org/bokeh/release/bokeh-widgets-1.0.0.min.js\", \"https://cdn.pydata.org/bokeh/release/bokeh-tables-1.0.0.min.js\", \"https://cdn.pydata.org/bokeh/release/bokeh-gl-1.0.0.min.js\"];\n\n  var inline_js = [\n    function(Bokeh) {\n      Bokeh.set_log_level(\"info\");\n    },\n    \n    function(Bokeh) {\n      \n    },\n    function(Bokeh) {\n      console.log(\"Bokeh: injecting CSS: https://cdn.pydata.org/bokeh/release/bokeh-1.0.0.min.css\");\n      Bokeh.embed.inject_css(\"https://cdn.pydata.org/bokeh/release/bokeh-1.0.0.min.css\");\n      console.log(\"Bokeh: injecting CSS: https://cdn.pydata.org/bokeh/release/bokeh-widgets-1.0.0.min.css\");\n      Bokeh.embed.inject_css(\"https://cdn.pydata.org/bokeh/release/bokeh-widgets-1.0.0.min.css\");\n      console.log(\"Bokeh: injecting CSS: https://cdn.pydata.org/bokeh/release/bokeh-tables-1.0.0.min.css\");\n      Bokeh.embed.inject_css(\"https://cdn.pydata.org/bokeh/release/bokeh-tables-1.0.0.min.css\");\n    }\n  ];\n\n  function run_inline_js() {\n    \n    if ((root.Bokeh !== undefined) || (force === true)) {\n      for (var i = 0; i < inline_js.length; i++) {\n        inline_js[i].call(root, root.Bokeh);\n      }if (force === true) {\n        display_loaded();\n      }} else if (Date.now() < root._bokeh_timeout) {\n      setTimeout(run_inline_js, 100);\n    } else if (!root._bokeh_failed_load) {\n      console.log(\"Bokeh: BokehJS failed to load within specified timeout.\");\n      root._bokeh_failed_load = true;\n    } else if (force !== true) {\n      var cell = $(document.getElementById(\"1111\")).parents('.cell').data().cell;\n      cell.output_area.append_execute_result(NB_LOAD_WARNING)\n    }\n\n  }\n\n  if (root._bokeh_is_loading === 0) {\n    console.log(\"Bokeh: BokehJS loaded, going straight to plotting\");\n    run_inline_js();\n  } else {\n    load_libs(js_urls, function() {\n      console.log(\"Bokeh: BokehJS plotting callback run at\", now());\n      run_inline_js();\n    });\n  }\n}(window));"
          },
          "metadata": {
            "tags": []
          }
        },
        {
          "output_type": "display_data",
          "data": {
            "text/html": [
              "\n",
              "\n",
              "\n",
              "\n",
              "\n",
              "\n",
              "  <div class=\"bk-root\" id=\"6a8c53dd-bf6d-4114-83a4-befd36c1d023\"></div>\n"
            ]
          },
          "metadata": {
            "tags": []
          }
        },
        {
          "output_type": "display_data",
          "data": {
            "application/javascript": [
              "(function(root) {\n",
              "  function embed_document(root) {\n",
              "    \n",
              "  var docs_json = {\"0b685cea-a570-4616-8ed1-def9d23eb857\":{\"roots\":{\"references\":[{\"attributes\":{\"below\":[{\"id\":\"1122\",\"type\":\"LinearAxis\"}],\"left\":[{\"id\":\"1127\",\"type\":\"LinearAxis\"}],\"plot_height\":400,\"renderers\":[{\"id\":\"1122\",\"type\":\"LinearAxis\"},{\"id\":\"1126\",\"type\":\"Grid\"},{\"id\":\"1127\",\"type\":\"LinearAxis\"},{\"id\":\"1131\",\"type\":\"Grid\"},{\"id\":\"1140\",\"type\":\"BoxAnnotation\"},{\"id\":\"1150\",\"type\":\"GlyphRenderer\"}],\"title\":{\"id\":\"1163\",\"type\":\"Title\"},\"toolbar\":{\"id\":\"1138\",\"type\":\"Toolbar\"},\"x_range\":{\"id\":\"1114\",\"type\":\"DataRange1d\"},\"x_scale\":{\"id\":\"1118\",\"type\":\"LinearScale\"},\"y_range\":{\"id\":\"1116\",\"type\":\"DataRange1d\"},\"y_scale\":{\"id\":\"1120\",\"type\":\"LinearScale\"}},\"id\":\"1113\",\"subtype\":\"Figure\",\"type\":\"Plot\"},{\"attributes\":{\"callback\":null,\"data\":{\"color\":[\"blue\",\"blue\",\"blue\",\"blue\",\"blue\",\"blue\",\"blue\",\"blue\",\"blue\",\"blue\",\"blue\",\"blue\",\"blue\",\"blue\",\"blue\",\"blue\",\"blue\",\"blue\",\"blue\",\"blue\",\"blue\",\"blue\",\"blue\",\"blue\",\"blue\",\"blue\",\"blue\",\"blue\",\"blue\",\"blue\",\"blue\",\"blue\",\"blue\",\"blue\",\"blue\",\"blue\",\"blue\",\"blue\",\"blue\",\"blue\",\"blue\",\"blue\",\"blue\",\"blue\",\"blue\",\"blue\",\"blue\",\"blue\",\"blue\",\"blue\",\"blue\",\"blue\",\"blue\",\"blue\",\"blue\",\"blue\",\"blue\",\"blue\",\"blue\",\"blue\",\"blue\",\"blue\",\"blue\",\"blue\",\"blue\",\"blue\",\"blue\",\"blue\",\"blue\",\"blue\",\"blue\",\"blue\",\"blue\",\"blue\",\"blue\",\"blue\",\"blue\",\"blue\",\"blue\",\"blue\",\"blue\",\"blue\",\"blue\",\"blue\",\"blue\",\"blue\",\"blue\",\"blue\",\"blue\",\"blue\",\"blue\",\"blue\",\"blue\",\"blue\",\"blue\",\"blue\",\"blue\",\"blue\",\"blue\",\"blue\",\"blue\",\"blue\",\"blue\",\"blue\",\"blue\",\"blue\",\"blue\",\"blue\",\"blue\",\"blue\",\"blue\",\"blue\",\"blue\",\"blue\",\"blue\",\"blue\",\"blue\",\"blue\",\"blue\",\"blue\",\"blue\",\"blue\",\"blue\",\"blue\",\"blue\",\"blue\",\"blue\",\"blue\",\"blue\",\"blue\",\"blue\",\"blue\",\"blue\",\"blue\",\"blue\",\"blue\",\"blue\",\"blue\",\"blue\",\"blue\",\"blue\",\"blue\",\"blue\",\"blue\",\"blue\",\"blue\",\"blue\",\"blue\",\"blue\",\"blue\",\"blue\",\"blue\",\"blue\",\"blue\",\"blue\",\"blue\",\"blue\",\"blue\",\"blue\",\"blue\",\"blue\",\"blue\",\"blue\",\"blue\",\"blue\",\"blue\",\"blue\",\"blue\",\"blue\",\"blue\",\"blue\",\"blue\",\"blue\",\"blue\",\"blue\",\"blue\",\"blue\",\"blue\",\"blue\",\"blue\",\"blue\",\"blue\",\"blue\",\"blue\",\"blue\",\"blue\",\"blue\",\"blue\",\"blue\",\"blue\",\"blue\",\"blue\",\"blue\",\"blue\",\"blue\",\"blue\",\"blue\",\"blue\",\"blue\",\"blue\",\"blue\",\"blue\",\"blue\",\"blue\",\"blue\",\"blue\",\"blue\",\"blue\",\"blue\",\"blue\",\"blue\",\"blue\",\"blue\",\"blue\",\"blue\",\"blue\",\"blue\",\"blue\",\"blue\",\"blue\",\"blue\",\"blue\",\"blue\",\"blue\",\"blue\",\"blue\",\"blue\",\"blue\",\"blue\",\"blue\",\"blue\",\"blue\",\"blue\",\"blue\",\"blue\",\"blue\",\"blue\",\"blue\",\"blue\",\"blue\",\"blue\",\"blue\",\"blue\",\"blue\",\"blue\",\"blue\",\"blue\",\"blue\",\"blue\",\"blue\",\"blue\",\"blue\",\"blue\",\"blue\",\"blue\",\"blue\",\"blue\",\"blue\",\"blue\",\"blue\",\"blue\",\"blue\",\"blue\",\"blue\",\"blue\",\"blue\",\"blue\",\"blue\",\"blue\",\"blue\",\"blue\",\"blue\",\"blue\",\"blue\",\"blue\",\"blue\",\"blue\",\"blue\",\"blue\",\"blue\",\"blue\",\"blue\",\"blue\",\"blue\",\"blue\",\"blue\",\"blue\",\"blue\",\"blue\",\"blue\",\"blue\",\"blue\",\"blue\",\"blue\",\"blue\",\"blue\",\"blue\",\"blue\",\"blue\",\"blue\",\"blue\",\"blue\",\"blue\",\"blue\",\"blue\",\"blue\",\"blue\",\"blue\",\"blue\",\"blue\",\"blue\",\"blue\",\"blue\",\"blue\",\"blue\",\"blue\",\"blue\",\"blue\",\"blue\",\"blue\",\"blue\",\"blue\",\"blue\",\"blue\",\"blue\",\"blue\",\"blue\",\"blue\",\"blue\",\"blue\",\"blue\",\"blue\",\"blue\",\"blue\",\"blue\",\"blue\",\"blue\",\"blue\",\"blue\",\"blue\",\"blue\",\"blue\",\"blue\",\"blue\",\"blue\",\"blue\",\"blue\",\"blue\",\"blue\",\"blue\",\"blue\",\"blue\",\"blue\",\"blue\",\"blue\",\"blue\",\"blue\",\"blue\",\"blue\",\"blue\",\"blue\",\"blue\",\"blue\",\"blue\",\"blue\",\"blue\",\"blue\",\"blue\",\"blue\",\"blue\",\"blue\",\"blue\",\"blue\",\"blue\",\"blue\",\"blue\",\"blue\",\"blue\",\"blue\",\"blue\",\"blue\",\"blue\",\"blue\",\"blue\",\"blue\",\"blue\",\"blue\",\"blue\",\"blue\",\"blue\",\"blue\",\"blue\",\"blue\",\"blue\",\"blue\",\"blue\",\"blue\",\"blue\",\"blue\",\"blue\",\"blue\",\"blue\",\"blue\",\"blue\",\"blue\",\"blue\",\"blue\",\"blue\",\"blue\",\"blue\",\"blue\",\"blue\",\"blue\",\"blue\",\"blue\",\"blue\",\"blue\",\"blue\",\"blue\",\"blue\",\"blue\",\"blue\",\"blue\",\"blue\",\"blue\",\"blue\",\"blue\",\"blue\",\"blue\",\"blue\",\"blue\",\"blue\",\"blue\",\"blue\",\"blue\",\"blue\",\"blue\",\"blue\",\"blue\",\"blue\",\"blue\",\"blue\",\"blue\",\"blue\",\"blue\",\"blue\",\"blue\",\"blue\",\"blue\",\"blue\",\"blue\",\"blue\",\"blue\",\"blue\",\"blue\",\"blue\",\"blue\",\"blue\",\"blue\",\"blue\",\"blue\",\"blue\",\"blue\",\"blue\",\"blue\",\"blue\",\"blue\",\"blue\",\"blue\",\"blue\",\"blue\",\"blue\",\"blue\",\"blue\",\"blue\",\"blue\",\"blue\",\"blue\",\"blue\",\"blue\",\"blue\",\"blue\",\"blue\",\"blue\",\"blue\",\"blue\",\"blue\",\"blue\",\"blue\",\"blue\",\"blue\",\"blue\",\"blue\",\"blue\",\"blue\",\"blue\",\"blue\",\"blue\",\"blue\",\"blue\",\"blue\",\"blue\",\"blue\",\"blue\",\"blue\",\"blue\",\"blue\",\"blue\",\"blue\",\"blue\",\"blue\",\"blue\",\"blue\",\"blue\",\"blue\",\"blue\",\"blue\",\"blue\",\"blue\",\"blue\",\"blue\",\"blue\",\"blue\",\"blue\",\"blue\",\"blue\",\"blue\",\"blue\",\"blue\",\"blue\",\"blue\",\"blue\",\"blue\",\"blue\",\"blue\",\"blue\",\"blue\",\"blue\",\"blue\",\"blue\",\"blue\",\"blue\",\"blue\",\"blue\",\"blue\",\"blue\",\"blue\",\"blue\",\"blue\",\"blue\",\"blue\",\"blue\",\"blue\",\"blue\",\"blue\",\"blue\",\"blue\",\"blue\",\"blue\",\"blue\",\"blue\",\"blue\",\"blue\",\"blue\",\"blue\",\"blue\",\"blue\",\"blue\",\"blue\",\"blue\",\"blue\",\"blue\",\"blue\",\"blue\",\"blue\",\"blue\",\"blue\",\"blue\",\"blue\",\"blue\",\"blue\",\"blue\",\"blue\",\"blue\",\"blue\",\"blue\",\"blue\",\"blue\",\"blue\",\"blue\",\"blue\",\"blue\",\"blue\",\"blue\",\"blue\",\"blue\",\"blue\",\"blue\",\"blue\",\"blue\",\"blue\",\"blue\",\"blue\",\"blue\",\"blue\",\"blue\",\"blue\",\"blue\",\"blue\",\"blue\",\"blue\",\"blue\",\"blue\",\"blue\",\"blue\",\"blue\",\"blue\",\"blue\",\"blue\",\"blue\",\"blue\",\"blue\",\"blue\",\"blue\",\"blue\",\"blue\",\"blue\",\"blue\",\"blue\",\"blue\",\"blue\",\"blue\",\"blue\",\"blue\",\"blue\",\"blue\",\"blue\",\"blue\",\"blue\",\"blue\",\"blue\",\"blue\",\"blue\",\"blue\",\"blue\",\"blue\",\"blue\",\"blue\",\"blue\",\"blue\",\"blue\",\"blue\",\"blue\",\"blue\",\"blue\",\"blue\",\"blue\",\"blue\",\"blue\",\"blue\",\"blue\",\"blue\",\"blue\",\"blue\",\"blue\",\"blue\",\"blue\",\"blue\",\"blue\",\"blue\",\"blue\",\"blue\",\"blue\",\"blue\",\"blue\",\"blue\",\"blue\",\"blue\",\"blue\",\"blue\",\"blue\",\"blue\",\"blue\",\"blue\",\"blue\",\"blue\",\"blue\",\"blue\",\"blue\",\"blue\",\"blue\",\"blue\",\"blue\",\"blue\",\"blue\",\"blue\",\"blue\",\"blue\",\"blue\",\"blue\",\"blue\",\"blue\",\"blue\",\"blue\",\"blue\",\"blue\",\"blue\",\"blue\",\"blue\",\"blue\",\"blue\",\"blue\",\"blue\",\"blue\",\"blue\",\"blue\",\"blue\",\"blue\",\"blue\",\"blue\",\"blue\",\"blue\",\"blue\",\"blue\",\"blue\",\"blue\",\"blue\",\"blue\",\"blue\",\"blue\",\"blue\",\"blue\",\"blue\",\"blue\",\"blue\",\"blue\",\"blue\",\"blue\",\"blue\",\"blue\",\"blue\",\"blue\",\"blue\",\"blue\",\"blue\",\"blue\",\"blue\",\"blue\",\"blue\",\"blue\",\"blue\",\"blue\",\"blue\",\"blue\",\"blue\",\"blue\",\"blue\",\"blue\",\"blue\",\"blue\",\"blue\",\"blue\",\"blue\",\"blue\",\"blue\",\"blue\",\"blue\",\"blue\",\"blue\",\"blue\",\"blue\",\"blue\",\"blue\",\"blue\",\"blue\",\"blue\",\"blue\",\"blue\",\"blue\",\"blue\",\"blue\",\"blue\",\"blue\",\"blue\",\"blue\",\"blue\",\"blue\",\"blue\",\"blue\",\"blue\",\"blue\",\"blue\",\"blue\",\"blue\",\"blue\",\"blue\",\"blue\",\"blue\",\"blue\",\"blue\",\"blue\",\"blue\",\"blue\",\"blue\",\"blue\",\"blue\",\"blue\",\"blue\",\"blue\",\"blue\",\"blue\",\"blue\",\"blue\",\"blue\",\"blue\",\"blue\",\"blue\",\"blue\",\"blue\",\"blue\",\"blue\",\"blue\",\"blue\",\"blue\",\"blue\",\"blue\",\"blue\",\"blue\",\"blue\",\"blue\",\"blue\",\"blue\",\"blue\",\"blue\",\"blue\",\"blue\",\"blue\",\"blue\",\"blue\",\"blue\",\"blue\",\"blue\",\"blue\",\"blue\",\"blue\",\"blue\",\"blue\",\"blue\",\"blue\",\"blue\",\"blue\",\"blue\",\"blue\",\"blue\",\"blue\",\"blue\",\"blue\",\"blue\",\"blue\",\"blue\",\"blue\",\"blue\",\"blue\",\"blue\",\"blue\",\"blue\",\"blue\",\"blue\",\"blue\",\"blue\",\"blue\",\"blue\",\"blue\",\"blue\",\"blue\",\"blue\",\"blue\",\"blue\",\"blue\",\"blue\",\"blue\",\"blue\",\"blue\",\"blue\",\"blue\",\"blue\",\"blue\",\"blue\",\"blue\",\"blue\",\"blue\",\"blue\",\"blue\",\"blue\",\"blue\",\"blue\",\"blue\",\"blue\",\"blue\",\"blue\",\"blue\",\"blue\",\"blue\",\"blue\",\"blue\",\"blue\",\"blue\",\"blue\",\"blue\",\"blue\",\"blue\",\"blue\",\"blue\",\"blue\",\"blue\",\"blue\",\"blue\",\"blue\",\"blue\",\"blue\",\"blue\",\"blue\",\"blue\",\"blue\",\"blue\",\"blue\",\"blue\",\"blue\",\"blue\",\"blue\",\"blue\",\"blue\",\"blue\",\"blue\",\"blue\",\"blue\",\"blue\",\"blue\",\"blue\",\"blue\",\"blue\",\"blue\",\"blue\",\"blue\",\"blue\",\"blue\",\"blue\",\"blue\",\"blue\",\"blue\",\"blue\",\"blue\",\"blue\",\"blue\",\"blue\",\"blue\",\"blue\",\"blue\",\"blue\",\"blue\",\"blue\",\"blue\",\"blue\",\"blue\",\"blue\",\"blue\",\"blue\",\"blue\",\"blue\",\"blue\",\"blue\",\"blue\",\"blue\",\"blue\",\"blue\",\"blue\",\"blue\",\"blue\",\"blue\",\"blue\",\"blue\",\"blue\",\"blue\",\"blue\",\"blue\",\"blue\",\"blue\",\"blue\",\"blue\",\"blue\",\"blue\",\"blue\",\"blue\",\"blue\",\"blue\",\"blue\",\"blue\",\"blue\",\"blue\",\"blue\"],\"token\":[\",\",\".\",\"y\",\"muy\",\"de\",\"la\",\"el\",\"es\",\"en\",\"que\",\"a\",\"!\",\"excelente\",\"con\",\"lugar\",\"un\",\"para\",\"todo\",\"una\",\"lo\",\"ubicaci\\u00f3n\",\"departamento\",\"bien\",\"las\",\"buena\",\"los\",\"por\",\"del\",\"se\",\"limpio\",\"est\\u00e1\",\"no\",\"cerca\",\"al\",\"fue\",\"me\",\"nos\",\"como\",\"siempre\",\"casa\",\"c\\u00f3modo\",\"sin\",\"s\\u00faper\",\"amable\",\"zona\",\"recomendable\",\"ubicado\",\"tiene\",\"su\",\"estancia\",\"gracias\",\"super\",\"atenci\\u00f3n\",\"esta\",\"recomiendo\",\"si\",\"agradable\",\"pero\",\"ciudad\",\"buen\",\"mi\",\"seguro\",\"son\",\"duda\",\"anfitri\\u00f3n\",\"bonito\",\"apartamento\",\")\",\"mejor\",\"hay\",\"recomendado\",\"te\",\"mucho\",\"estuvo\",\"pendiente\",\"atento\",\"metro\",\"atenta\",\"habitaci\\u00f3n\",\"m\\u00e1s\",\"espacio\",\"anfitriona\",\"comunicaci\\u00f3n\",\"100\",\"%\",\"o\",\"todos\",\"restaurantes\",\"tranquilo\",\"fotos\",\"lugares\",\"gran\",\"amables\",\"(\",\"anfitriones\",\"necesario\",\"muchas\",\"acogedor\",\"este\",\"alojamiento\",\":\",\"incre\\u00edble\",\"cuenta\",\"...\",\"edificio\",\"c\\u00f3moda\",\"segura\",\"experiencia\",\"centro\",\"perfecto\",\"ya\",\"adem\\u00e1s\",\"volver\\u00eda\",\"lindo\",\"nuestra\",\"servicio\",\"servicios\",\"persona\",\"cualquier\",\"limpieza\",\"hospitalidad\",\"depa\",\"tal\",\"cdmx\",\"momento\",\"m\\u00e9xico\",\"inmejorable\",\"personas\",\"amplio\",\"tranquila\",\"ampliamente\",\"cual\",\"atentos\",\"opci\\u00f3n\",\"definitivamente\",\"llegar\",\"seguridad\",\"c\\u00e9ntrico\",\"gusto\",\"desde\",\"bastante\",\"todas\",\"host\",\"excelentes\",\"estad\\u00eda\",\"estar\",\"muchos\",\"solo\",\"transporte\",\"poco\",\"tu\",\"tambi\\u00e9n\",\"parte\",\"donde\",\"detalles\",\"accesible\",\"f\\u00e1cil\",\"ba\\u00f1o\",\"perfecta\",\"unos\",\"ubicacion\",\"cama\",\"noche\",\"the\",\"trato\",\"and\",\"sentir\",\"cuarto\",\";\",\"impecable\",\"llegada\",\"sus\",\"dos\",\"caminando\",\"acceso\",\"tiempo\",\"familia\",\"estaba\",\"vez\",\"genial\",\"descansar\",\"mis\",\"ideal\",\"ah\\u00ed\",\"vista\",\"comer\",\"aeropuerto\",\"cuando\",\"fueron\",\"agua\",\"puede\",\"nosotros\",\"hasta\",\"totalmente\",\"mucha\",\"sobre\",\"problema\",\"ir\",\"airbnb\",\"cocina\",\"barrio\",\"pasar\",\"bonita\",\"comodo\",\"encuentra\",\"hace\",\"conocer\",\"d\\u00eda\",\"tuvimos\",\"algo\",\"d\\u00edas\",\"precio\",\"puedes\",\"limpia\",\"e\",\"hermoso\",\"cuadras\",\"hacer\",\"le\",\"nuevo\",\"uno\",\"yo\",\"tener\",\"dudas\",\"nuestras\",\"as\\u00ed\",\"ruido\",\"minutos\",\"general\",\"ella\",\"mas\",\"linda\",\"peque\\u00f1o\",\"nada\",\"durante\",\"realmente\",\"viaje\",\"aunque\",\"decoraci\\u00f3n\",\"hospedarse\",\"estilo\",\"confortable\",\"tiendas\",\"necesidades\",\"equipado\",\"pronto\",\"ser\",\"tienes\",\"ve\",\"bueno\",\"tanto\",\"buenos\",\"visitar\",\"porque\",\"est\\u00e1n\",\"volver\",\"to\",\"bares\",\"mejores\",\"calle\",\"encant\\u00f3\",\"r\\u00e1pido\",\"verdad\",\"\\u00fanico\",\"toda\",\"in\",\"detalle\",\"igual\",\"estaci\\u00f3n\",\"era\",\"eso\",\"amabilidad\",\"unas\",\"primera\",\"queda\",\"buenas\",\"salir\",\"aqu\\u00ed\",\"caminar\",\"cosas\",\"etc\",\"fuera\",\"hospedarme\",\"is\",\"condesa\",\"hospedaje\",\"atenciones\",\"privacidad\",\"quedarse\",\"tuve\",\"justo\",\"ha\",\"cada\",\"instalaciones\",\"regresar\",\"mexico\",\"calidad\",\"hora\",\"recomendaciones\",\"altamente\",\"comodidad\",\"hacen\",\"r\\u00e1pida\",\"tan\",\"hizo\",\"antes\",\"sitio\",\"2\",\"encanto\",\"comida\",\"piso\",\"personal\",\"ambiente\",\"ubicada\",\"ellos\",\"coyoac\\u00e1n\",\"nuestro\",\"p\\u00fablico\",\"grande\",\"camas\",\"condiciones\",\"necesitas\",\"he\",\"varios\",\"polanco\",\"espacioso\",\"regresar\\u00eda\",\"poder\",\"caliente\",\"incluso\",\"carlos\",\"5\",\"alguna\",\"10\",\"privado\",\"hu\\u00e9spedes\",\"sido\",\"sea\",\"disfrutar\",\"c\\u00e9ntrica\",\"expectativas\",\"respuesta\",\"estuvimos\",\"espero\",\"moderno\",\"luz\",\"disponible\",\"colonia\",\"luis\",\"tienen\",\"les\",\"dentro\",\"hermosa\",\"c\\u00f3modas\",\"reforma\",\"loft\",\"servicial\",\"problemas\",\"estuvieron\",\"terraza\",\"ni\",\"dormir\",\"ordenado\",\"df\",\"pasos\",\"hist\\u00f3rico\",\"inter\\u00e9s\",\"horas\",\"sent\\u00ed\",\"cercano\",\"amplia\",\"quedarme\",\"comodidades\",\"pues\",\"3\",\"pasamos\",\"roma\",\"da\",\"pesar\",\"cuadra\",\"tomar\",\"falta\",\"mismo\",\"sentimos\",\"visita\",\"ayuda\",\"vas\",\"hab\\u00eda\",\"volver\\u00e9\",\"dio\",\"muestra\",\"estacionamiento\",\"metrobus\",\"very\",\"sitios\",\"estado\",\"zonas\",\"ayudar\",\"internet\",\"ning\\u00fan\",\"i\",\"salida\",\"decorado\",\"juan\",\"entrada\",\"semana\",\"puntos\",\"otra\",\"recibi\\u00f3\",\"volveremos\",\"cosa\",\"habitaciones\",\"tus\",\"lado\",\"trabajo\",\"espacios\",\"comerciales\",\"embargo\",\"veces\",\"check\",\"primer\",\"recomendamos\",\"espectacular\",\"quedar\",\"jorge\",\"was\",\"anfitrion\",\"atencion\",\"gente\",\"gust\\u00f3\",\"otros\",\"volver\\u00edamos\",\"opciones\",\"encontrar\",\"\\u00e9l\",\"otro\",\"ofrece\",\"dem\\u00e1s\",\"s\\u00f3lo\",\"llegamos\",\"noches\",\"hubo\",\"central\",\"ademas\",\"despu\\u00e9s\",\"parque\",\"maravillosa\",\"segunda\",\"disposici\\u00f3n\",\"acogedora\",\"quien\",\"caf\\u00e9\",\"contacto\",\"fin\",\"plaza\",\"hogar\",\"c\\u00f3modos\",\"tarde\",\"depto\",\"\\u00e1rea\",\"cuanto\",\"amenidades\",\"of\",\"necesita\",\"ayud\\u00f3\",\"hicieron\",\"mil\",\"ana\",\"uber\",\"varias\",\"quedamos\",\"wifi\",\"manera\",\"algunos\",\"chapultepec\",\"mensajes\",\"sumamente\",\"centros\",\"mercado\",\"completo\",\"24\",\"hospedar\",\"comercial\",\"exactamente\",\"nuevamente\",\"supermercado\",\"4\",\"alrededor\",\"relaci\\u00f3n\",\"tur\\u00edsticos\",\"it\",\"tranquilidad\",\"comoda\",\"fotograf\\u00edas\",\"tipo\",\"pareja\",\"-\",\"alrededores\",\"ten\\u00eda\",\"cercanos\",\"pudimos\",\"nunca\",\"q\",\"necesites\",\"agradables\",\"menos\",\"casi\",\"estuve\",\"centrico\",\"place\",\"cuidado\",\"oportunidad\",\"perfectamente\",\"increible\",\"negocios\",\"regreso\",\"dudarlo\",\"pie\",\"sientes\",\"flexible\",\"responde\",\"necesitar\",\"toallas\",\"placentera\",\"alejandro\",\"se\\u00f1ora\",\"agusto\",\"quieres\",\"cumple\",\"descripci\\u00f3n\",\"ver\",\"hugo\",\"museos\",\"mar\\u00eda\",\"ricardo\",\"exelente\",\"desayuno\",\"esperaba\",\"punto\",\"onda\",\"you\",\"padre\",\"amigos\",\"orden\",\"haber\",\"respuestas\",\"caf\\u00e9s\",\"z\\u00f3calo\",\"all\\u00ed\",\"miguel\",\"wtc\",\"coraz\\u00f3n\",\"great\",\"caso\",\"principales\",\"tv\",\"inconveniente\",\"a\\u00fan\",\"supermercados\",\"esperamos\",\"calles\",\"pr\\u00f3xima\",\"pude\",\"c\\u00f3mo\",\"1\",\"puerta\",\"confianza\",\"dispuesto\",\"for\",\"sur\",\"c\\u00e1lido\",\"apto\",\"maravilloso\",\"informaci\\u00f3n\",\"sol\",\"pena\",\"with\",\"vuelo\",\"importante\",\"much\\u00edsimo\",\"localizaci\\u00f3n\",\"entre\",\"funcional\",\"frente\",\"par\",\"bellas\",\"sala\",\"especial\",\"completamente\",\"lleno\",\"min\",\"apartment\",\"equipada\",\"saludos\",\"vale\",\"francisco\",\"ese\",\"lujo\",\"dispuesta\",\"jos\\u00e9\",\"grandes\",\"pendientes\",\"moverse\",\"siente\",\"esposo\",\"avenida\",\"atentas\",\"corta\",\"mano\",\"artes\",\"creo\",\"pr\\u00e1ctico\",\"ba\\u00f1os\",\"decir\",\"posible\",\"by\",\"silencioso\",\"hu\\u00e9sped\",\"vuelvo\",\"sencillo\",\"conveniente\",\"coyoacan\",\"van\",\"precioso\",\"describe\",\"esto\",\"llaves\",\"oxxo\",\"dejar\",\"we\",\"hospedarnos\",\"--\",\"alojarse\",\"pueden\",\"cordial\",\"placer\",\"\\u00e1ngel\",\"habitacion\",\"locaci\\u00f3n\",\"hacia\",\"eduardo\",\"entrar\",\"qu\\u00e9\",\"simplemente\",\"vecinos\",\"estaciones\",\"mejorar\",\"vigilancia\",\"vecindario\",\"cocinar\",\"hotel\",\"anuncio\",\"distancia\",\"rodrigo\",\"amigable\",\"subir\",\"respondi\\u00f3\",\"peque\\u00f1a\",\"``\",\"resolver\",\"vida\",\"parques\",\"pocos\",\"nuestros\",\"estadia\",\"plus\",\"pablo\",\"inmediata\",\"hosts\",\"''\",\"necesidad\",\"regresaremos\",\"santa\",\"tambien\",\"hidden\",\"tres\",\"esquina\",\"disfrutamos\",\"stay\",\"llegas\",\"otras\",\"\\u00e1reas\",\"incre\\u00edbles\",\"alg\\u00fan\",\"viajes\",\"comunicacion\",\"limpias\",\"necesarios\",\"esposa\",\"familiar\",\"comprar\",\"demasiado\",\"iluminado\",\"pocas\",\"r\\u00e1pidas\",\"cuartos\",\"aparte\",\"regresar\\u00e9\",\"recomendar\\u00eda\",\"maletas\",\"volveria\",\"location\",\"necesitaba\",\"temprano\",\"metros\",\"dan\",\"daniel\",\"ropa\",\"estaban\",\"estoy\",\"comunes\",\"ahi\",\"escaleras\",\"s\\u00ed\",\"rosa\",\"bus\",\"mam\\u00e1\",\"ma\\u00f1ana\",\"principal\",\"elevador\",\"fernando\",\"suficiente\",\"preguntas\",\"palacio\",\"grata\",\"parece\",\"quedo\",\"medio\",\"situado\",\"quedarnos\",\"maravilla\",\"gabriela\",\"maria\",\"permite\",\"luminoso\",\"encuentras\",\"algunas\",\"excepcional\",\"regadera\",\"david\",\"podr\\u00eda\",\"vacaciones\",\"dieron\",\"paseo\",\"forma\",\"r\\u00e1pidamente\",\"dise\\u00f1o\",\"facil\",\"reservar\",\"apoyo\",\"quienes\",\"fuimos\",\"esa\",\"hemos\",\"portero\",\"martha\",\"necesit\\u00e1bamos\",\"funciona\",\"diferentes\",\"tuvo\",\"estudio\",\"importantes\",\"moverte\",\"dispuestos\",\"usar\",\"out\",\"15\",\"area\",\"ducha\",\"hecho\",\"agradezco\",\"lindos\",\"sector\",\"pareci\\u00f3\",\"foro\",\"fe\",\"necesitamos\",\"tenido\",\"cercana\",\"c\\u00e1lida\",\"super\\u00f3\",\"anfitrionas\",\"tengo\",\"independiente\",\"medios\",\"ruidoso\",\"aparece\",\"serviciales\",\"alex\",\"bienvenida\",\"&\",\"recibieron\",\"sra\",\"calidez\",\"trabajar\",\"fr\\u00edo\",\"buscas\",\"gusta\",\"bello\",\"plazas\",\"city\",\"aspectos\",\"pueda\",\"claudia\",\"norma\",\"privada\",\"independencia\",\"consejos\",\"rico\",\"estancias\",\"conmigo\",\"facilidades\",\"recibirnos\",\"ser\\u00e1\",\"recomendada\",\"pasear\",\"almohadas\",\"manuel\",\"cercan\\u00eda\",\"siguiente\",\"ayudaron\",\"localizado\",\"tama\\u00f1o\",\"recepci\\u00f3n\",\"total\",\"llena\",\"puedo\",\"costo\",\"auto\",\"accesibles\",\"han\",\"media\",\"avenidas\",\"museo\",\"disponibilidad\",\"mal\",\"ayudarte\",\"taxi\",\"diego\",\"descanso\",\"pensarlo\",\"facilidad\",\"angel\",\"im\\u00e1genes\",\"principio\",\"propio\",\"uso\",\"'s\",\"vivir\",\"comunicado\",\"this\",\"alejandra\",\"ten\\u00edamos\",\"sentirse\",\"reserva\",\"va\",\"indicaciones\",\"\\u00fanica\",\"alguien\",\"inigualable\",\"atendi\\u00f3\",\"ayudo\",\"f\\u00e1cilmente\",\"b\\u00e1sico\",\"recibimiento\",\"dias\",\"limpios\",\"asi\",\"..\",\"estrellas\",\"buen\\u00edsima\",\"perfectas\",\"javier\",\"realidad\",\"vuelta\",\"at\",\"dia\",\"respetuoso\",\"peque\\u00f1os\",\"respecto\",\"ocasi\\u00f3n\",\"duden\",\"lavadora\",\"departamentos\",\"horarios\",\"my\",\"sentirte\",\"rec\\u00e1mara\",\"hospitalaria\",\"cenar\",\"cristina\",\"enfrente\",\"farmacias\",\"sergio\",\"privilegiada\",\"tips\",\"gustavo\",\"amplios\",\"compartir\",\"netflix\",\"estamos\",\"carmen\",\"rato\",\"lorena\",\"est\\u00e1s\",\"alberto\",\"seguramente\",\"comfortable\",\"disponibles\",\"h\\u00e9ctor\",\"v\\u00edas\",\"responder\",\"are\",\"escucha\",\"metrob\\u00fas\",\"omar\",\"mariana\",\"patricia\",\"constante\",\"paso\",\"estuviera\",\"laura\",\"quedar\\u00eda\",\"estupenda\",\"desayunar\",\"necesite\",\"6\",\"clean\",\"bonitos\",\"puedas\",\"absolutamente\",\"muebles\",\"situaci\\u00f3n\",\"fui\",\"\\u00faltimo\",\"norte\",\"extraordinaria\",\"viajeros\",\"website\",\"dej\\u00f3\",\"inmediato\",\"lejos\",\"extra\",\"viajar\",\"ni\\u00f1os\",\"actividades\",\"iluminaci\\u00f3n\",\"dar\",\"ser\\u00eda\",\"s\\u00e1banas\",\"jard\\u00edn\",\"elena\",\"lados\",\"alberca\",\"muestran\",\"reservaci\\u00f3n\",\"madrugada\",\"gerardo\",\"mascotas\",\"nice\",\"victor\",\"quieren\",\"comercios\",\"magn\\u00edfica\",\"enrique\",\"recorrer\",\"propia\",\"opcion\",\"contesta\",\"quedarte\",\"contentos\",\"publico\",\"claro\",\"locales\",\"ruidos\",\"dpto\",\"evento\",\"debido\",\"alojarme\",\"estas\",\"resto\",\"espaciosa\",\"dice\",\"mes\",\"m\\u00ed\",\"mario\",\"misma\",\"personalmente\",\"pudo\",\"interior\",\"sino\",\"cuidad\",\"hubiera\",\"preciosa\",\"ninguna\",\"amor\",\"d\",\"qued\\u00e9\",\"tienda\",\"restaurante\"],\"x\":{\"__ndarray__\":\"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\",\"dtype\":\"float32\",\"shape\":[1000]},\"y\":{\"__ndarray__\":\"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\",\"dtype\":\"float32\",\"shape\":[1000]}},\"selected\":{\"id\":\"1170\",\"type\":\"Selection\"},\"selection_policy\":{\"id\":\"1169\",\"type\":\"UnionRenderers\"}},\"id\":\"1112\",\"type\":\"ColumnDataSource\"},{\"attributes\":{},\"id\":\"1133\",\"type\":\"WheelZoomTool\"},{\"attributes\":{},\"id\":\"1132\",\"type\":\"PanTool\"},{\"attributes\":{\"callback\":null,\"renderers\":\"auto\",\"tooltips\":[[\"token\",\"@token\"]]},\"id\":\"1152\",\"type\":\"HoverTool\"},{\"attributes\":{},\"id\":\"1120\",\"type\":\"LinearScale\"},{\"attributes\":{},\"id\":\"1166\",\"type\":\"BasicTickFormatter\"},{\"attributes\":{\"fill_alpha\":{\"value\":0.1},\"fill_color\":{\"value\":\"#1f77b4\"},\"line_alpha\":{\"value\":0.1},\"line_color\":{\"value\":\"#1f77b4\"},\"size\":{\"units\":\"screen\",\"value\":10},\"x\":{\"field\":\"x\"},\"y\":{\"field\":\"y\"}},\"id\":\"1149\",\"type\":\"Scatter\"},{\"attributes\":{\"active_drag\":\"auto\",\"active_inspect\":\"auto\",\"active_multi\":null,\"active_scroll\":{\"id\":\"1133\",\"type\":\"WheelZoomTool\"},\"active_tap\":\"auto\",\"tools\":[{\"id\":\"1132\",\"type\":\"PanTool\"},{\"id\":\"1133\",\"type\":\"WheelZoomTool\"},{\"id\":\"1134\",\"type\":\"BoxZoomTool\"},{\"id\":\"1135\",\"type\":\"SaveTool\"},{\"id\":\"1136\",\"type\":\"ResetTool\"},{\"id\":\"1137\",\"type\":\"HelpTool\"},{\"id\":\"1152\",\"type\":\"HoverTool\"}]},\"id\":\"1138\",\"type\":\"Toolbar\"},{\"attributes\":{},\"id\":\"1118\",\"type\":\"LinearScale\"},{\"attributes\":{\"bottom_units\":\"screen\",\"fill_alpha\":{\"value\":0.5},\"fill_color\":{\"value\":\"lightgrey\"},\"left_units\":\"screen\",\"level\":\"overlay\",\"line_alpha\":{\"value\":1.0},\"line_color\":{\"value\":\"black\"},\"line_dash\":[4,4],\"line_width\":{\"value\":2},\"plot\":null,\"render_mode\":\"css\",\"right_units\":\"screen\",\"top_units\":\"screen\"},\"id\":\"1140\",\"type\":\"BoxAnnotation\"},{\"attributes\":{\"data_source\":{\"id\":\"1112\",\"type\":\"ColumnDataSource\"},\"glyph\":{\"id\":\"1148\",\"type\":\"Scatter\"},\"hover_glyph\":null,\"muted_glyph\":null,\"nonselection_glyph\":{\"id\":\"1149\",\"type\":\"Scatter\"},\"selection_glyph\":null,\"view\":{\"id\":\"1151\",\"type\":\"CDSView\"}},\"id\":\"1150\",\"type\":\"GlyphRenderer\"},{\"attributes\":{},\"id\":\"1170\",\"type\":\"Selection\"},{\"attributes\":{\"plot\":null,\"text\":\"\"},\"id\":\"1163\",\"type\":\"Title\"},{\"attributes\":{\"plot\":{\"id\":\"1113\",\"subtype\":\"Figure\",\"type\":\"Plot\"},\"ticker\":{\"id\":\"1123\",\"type\":\"BasicTicker\"}},\"id\":\"1126\",\"type\":\"Grid\"},{\"attributes\":{\"callback\":null},\"id\":\"1114\",\"type\":\"DataRange1d\"},{\"attributes\":{},\"id\":\"1168\",\"type\":\"BasicTickFormatter\"},{\"attributes\":{\"source\":{\"id\":\"1112\",\"type\":\"ColumnDataSource\"}},\"id\":\"1151\",\"type\":\"CDSView\"},{\"attributes\":{},\"id\":\"1128\",\"type\":\"BasicTicker\"},{\"attributes\":{\"formatter\":{\"id\":\"1168\",\"type\":\"BasicTickFormatter\"},\"plot\":{\"id\":\"1113\",\"subtype\":\"Figure\",\"type\":\"Plot\"},\"ticker\":{\"id\":\"1128\",\"type\":\"BasicTicker\"}},\"id\":\"1127\",\"type\":\"LinearAxis\"},{\"attributes\":{},\"id\":\"1137\",\"type\":\"HelpTool\"},{\"attributes\":{\"formatter\":{\"id\":\"1166\",\"type\":\"BasicTickFormatter\"},\"plot\":{\"id\":\"1113\",\"subtype\":\"Figure\",\"type\":\"Plot\"},\"ticker\":{\"id\":\"1123\",\"type\":\"BasicTicker\"}},\"id\":\"1122\",\"type\":\"LinearAxis\"},{\"attributes\":{},\"id\":\"1136\",\"type\":\"ResetTool\"},{\"attributes\":{\"dimension\":1,\"plot\":{\"id\":\"1113\",\"subtype\":\"Figure\",\"type\":\"Plot\"},\"ticker\":{\"id\":\"1128\",\"type\":\"BasicTicker\"}},\"id\":\"1131\",\"type\":\"Grid\"},{\"attributes\":{\"callback\":null},\"id\":\"1116\",\"type\":\"DataRange1d\"},{\"attributes\":{},\"id\":\"1135\",\"type\":\"SaveTool\"},{\"attributes\":{},\"id\":\"1169\",\"type\":\"UnionRenderers\"},{\"attributes\":{\"overlay\":{\"id\":\"1140\",\"type\":\"BoxAnnotation\"}},\"id\":\"1134\",\"type\":\"BoxZoomTool\"},{\"attributes\":{},\"id\":\"1123\",\"type\":\"BasicTicker\"},{\"attributes\":{\"fill_alpha\":{\"value\":0.25},\"fill_color\":{\"field\":\"color\"},\"line_alpha\":{\"value\":0.25},\"line_color\":{\"field\":\"color\"},\"size\":{\"units\":\"screen\",\"value\":10},\"x\":{\"field\":\"x\"},\"y\":{\"field\":\"y\"}},\"id\":\"1148\",\"type\":\"Scatter\"}],\"root_ids\":[\"1113\"]},\"title\":\"Bokeh Application\",\"version\":\"1.0.0\"}};\n",
              "  var render_items = [{\"docid\":\"0b685cea-a570-4616-8ed1-def9d23eb857\",\"roots\":{\"1113\":\"6a8c53dd-bf6d-4114-83a4-befd36c1d023\"}}];\n",
              "  root.Bokeh.embed.embed_items_notebook(docs_json, render_items);\n",
              "\n",
              "  }\n",
              "  if (root.Bokeh !== undefined) {\n",
              "    embed_document(root);\n",
              "  } else {\n",
              "    var attempts = 0;\n",
              "    var timer = setInterval(function(root) {\n",
              "      if (root.Bokeh !== undefined) {\n",
              "        embed_document(root);\n",
              "        clearInterval(timer);\n",
              "      }\n",
              "      attempts++;\n",
              "      if (attempts > 100) {\n",
              "        console.log(\"Bokeh: ERROR: Unable to run BokehJS code because BokehJS library is missing\");\n",
              "        clearInterval(timer);\n",
              "      }\n",
              "    }, 10, root)\n",
              "  }\n",
              "})(window);"
            ],
            "application/vnd.bokehjs_exec.v0+json": ""
          },
          "metadata": {
            "tags": [],
            "application/vnd.bokehjs_exec.v0+json": {
              "id": "1113"
            }
          }
        },
        {
          "output_type": "execute_result",
          "data": {
            "text/html": [
              "<div style=\"display: table;\"><div style=\"display: table-row;\"><div style=\"display: table-cell;\"><b title=\"bokeh.plotting.figure.Figure\">Figure</b>(</div><div style=\"display: table-cell;\">id&nbsp;=&nbsp;'1113', <span id=\"1227\" style=\"cursor: pointer;\">&hellip;)</span></div></div><div class=\"1226\" style=\"display: none;\"><div style=\"display: table-cell;\"></div><div style=\"display: table-cell;\">above&nbsp;=&nbsp;[],</div></div><div class=\"1226\" style=\"display: none;\"><div style=\"display: table-cell;\"></div><div style=\"display: table-cell;\">aspect_scale&nbsp;=&nbsp;1,</div></div><div class=\"1226\" style=\"display: none;\"><div style=\"display: table-cell;\"></div><div style=\"display: table-cell;\">background_fill_alpha&nbsp;=&nbsp;{'value': 1.0},</div></div><div class=\"1226\" style=\"display: none;\"><div style=\"display: table-cell;\"></div><div style=\"display: table-cell;\">background_fill_color&nbsp;=&nbsp;{'value': '#ffffff'},</div></div><div class=\"1226\" style=\"display: none;\"><div style=\"display: table-cell;\"></div><div style=\"display: table-cell;\">below&nbsp;=&nbsp;[LinearAxis(id='1122', ...)],</div></div><div class=\"1226\" style=\"display: none;\"><div style=\"display: table-cell;\"></div><div style=\"display: table-cell;\">border_fill_alpha&nbsp;=&nbsp;{'value': 1.0},</div></div><div class=\"1226\" style=\"display: none;\"><div style=\"display: table-cell;\"></div><div style=\"display: table-cell;\">border_fill_color&nbsp;=&nbsp;{'value': '#ffffff'},</div></div><div class=\"1226\" style=\"display: none;\"><div style=\"display: table-cell;\"></div><div style=\"display: table-cell;\">css_classes&nbsp;=&nbsp;[],</div></div><div class=\"1226\" style=\"display: none;\"><div style=\"display: table-cell;\"></div><div style=\"display: table-cell;\">disabled&nbsp;=&nbsp;False,</div></div><div class=\"1226\" style=\"display: none;\"><div style=\"display: table-cell;\"></div><div style=\"display: table-cell;\">extra_x_ranges&nbsp;=&nbsp;{},</div></div><div class=\"1226\" style=\"display: none;\"><div style=\"display: table-cell;\"></div><div style=\"display: table-cell;\">extra_y_ranges&nbsp;=&nbsp;{},</div></div><div class=\"1226\" style=\"display: none;\"><div style=\"display: table-cell;\"></div><div style=\"display: table-cell;\">h_symmetry&nbsp;=&nbsp;True,</div></div><div class=\"1226\" style=\"display: none;\"><div style=\"display: table-cell;\"></div><div style=\"display: table-cell;\">height&nbsp;=&nbsp;None,</div></div><div class=\"1226\" style=\"display: none;\"><div style=\"display: table-cell;\"></div><div style=\"display: table-cell;\">hidpi&nbsp;=&nbsp;True,</div></div><div class=\"1226\" style=\"display: none;\"><div style=\"display: table-cell;\"></div><div style=\"display: table-cell;\">js_event_callbacks&nbsp;=&nbsp;{},</div></div><div class=\"1226\" style=\"display: none;\"><div style=\"display: table-cell;\"></div><div style=\"display: table-cell;\">js_property_callbacks&nbsp;=&nbsp;{},</div></div><div class=\"1226\" style=\"display: none;\"><div style=\"display: table-cell;\"></div><div style=\"display: table-cell;\">left&nbsp;=&nbsp;[LinearAxis(id='1127', ...)],</div></div><div class=\"1226\" style=\"display: none;\"><div style=\"display: table-cell;\"></div><div style=\"display: table-cell;\">lod_factor&nbsp;=&nbsp;10,</div></div><div class=\"1226\" style=\"display: none;\"><div style=\"display: table-cell;\"></div><div style=\"display: table-cell;\">lod_interval&nbsp;=&nbsp;300,</div></div><div class=\"1226\" style=\"display: none;\"><div style=\"display: table-cell;\"></div><div style=\"display: table-cell;\">lod_threshold&nbsp;=&nbsp;2000,</div></div><div class=\"1226\" style=\"display: none;\"><div style=\"display: table-cell;\"></div><div style=\"display: table-cell;\">lod_timeout&nbsp;=&nbsp;500,</div></div><div class=\"1226\" style=\"display: none;\"><div style=\"display: table-cell;\"></div><div style=\"display: table-cell;\">match_aspect&nbsp;=&nbsp;False,</div></div><div class=\"1226\" style=\"display: none;\"><div style=\"display: table-cell;\"></div><div style=\"display: table-cell;\">min_border&nbsp;=&nbsp;5,</div></div><div class=\"1226\" style=\"display: none;\"><div style=\"display: table-cell;\"></div><div style=\"display: table-cell;\">min_border_bottom&nbsp;=&nbsp;None,</div></div><div class=\"1226\" style=\"display: none;\"><div style=\"display: table-cell;\"></div><div style=\"display: table-cell;\">min_border_left&nbsp;=&nbsp;None,</div></div><div class=\"1226\" style=\"display: none;\"><div style=\"display: table-cell;\"></div><div style=\"display: table-cell;\">min_border_right&nbsp;=&nbsp;None,</div></div><div class=\"1226\" style=\"display: none;\"><div style=\"display: table-cell;\"></div><div style=\"display: table-cell;\">min_border_top&nbsp;=&nbsp;None,</div></div><div class=\"1226\" style=\"display: none;\"><div style=\"display: table-cell;\"></div><div style=\"display: table-cell;\">name&nbsp;=&nbsp;None,</div></div><div class=\"1226\" style=\"display: none;\"><div style=\"display: table-cell;\"></div><div style=\"display: table-cell;\">outline_line_alpha&nbsp;=&nbsp;{'value': 1.0},</div></div><div class=\"1226\" style=\"display: none;\"><div style=\"display: table-cell;\"></div><div style=\"display: table-cell;\">outline_line_cap&nbsp;=&nbsp;'butt',</div></div><div class=\"1226\" style=\"display: none;\"><div style=\"display: table-cell;\"></div><div style=\"display: table-cell;\">outline_line_color&nbsp;=&nbsp;{'value': '#e5e5e5'},</div></div><div class=\"1226\" style=\"display: none;\"><div style=\"display: table-cell;\"></div><div style=\"display: table-cell;\">outline_line_dash&nbsp;=&nbsp;[],</div></div><div class=\"1226\" style=\"display: none;\"><div style=\"display: table-cell;\"></div><div style=\"display: table-cell;\">outline_line_dash_offset&nbsp;=&nbsp;0,</div></div><div class=\"1226\" style=\"display: none;\"><div style=\"display: table-cell;\"></div><div style=\"display: table-cell;\">outline_line_join&nbsp;=&nbsp;'bevel',</div></div><div class=\"1226\" style=\"display: none;\"><div style=\"display: table-cell;\"></div><div style=\"display: table-cell;\">outline_line_width&nbsp;=&nbsp;{'value': 1},</div></div><div class=\"1226\" style=\"display: none;\"><div style=\"display: table-cell;\"></div><div style=\"display: table-cell;\">output_backend&nbsp;=&nbsp;'canvas',</div></div><div class=\"1226\" style=\"display: none;\"><div style=\"display: table-cell;\"></div><div style=\"display: table-cell;\">plot_height&nbsp;=&nbsp;400,</div></div><div class=\"1226\" style=\"display: none;\"><div style=\"display: table-cell;\"></div><div style=\"display: table-cell;\">plot_width&nbsp;=&nbsp;600,</div></div><div class=\"1226\" style=\"display: none;\"><div style=\"display: table-cell;\"></div><div style=\"display: table-cell;\">renderers&nbsp;=&nbsp;[LinearAxis(id='1122', ...), Grid(id='1126', ...), LinearAxis(id='1127', ...), Grid(id='1131', ...), BoxAnnotation(id='1140', ...), GlyphRenderer(id='1150', ...)],</div></div><div class=\"1226\" style=\"display: none;\"><div style=\"display: table-cell;\"></div><div style=\"display: table-cell;\">right&nbsp;=&nbsp;[],</div></div><div class=\"1226\" style=\"display: none;\"><div style=\"display: table-cell;\"></div><div style=\"display: table-cell;\">sizing_mode&nbsp;=&nbsp;'fixed',</div></div><div class=\"1226\" style=\"display: none;\"><div style=\"display: table-cell;\"></div><div style=\"display: table-cell;\">subscribed_events&nbsp;=&nbsp;[],</div></div><div class=\"1226\" style=\"display: none;\"><div style=\"display: table-cell;\"></div><div style=\"display: table-cell;\">tags&nbsp;=&nbsp;[],</div></div><div class=\"1226\" style=\"display: none;\"><div style=\"display: table-cell;\"></div><div style=\"display: table-cell;\">title&nbsp;=&nbsp;Title(id='1163', ...),</div></div><div class=\"1226\" style=\"display: none;\"><div style=\"display: table-cell;\"></div><div style=\"display: table-cell;\">title_location&nbsp;=&nbsp;'above',</div></div><div class=\"1226\" style=\"display: none;\"><div style=\"display: table-cell;\"></div><div style=\"display: table-cell;\">toolbar&nbsp;=&nbsp;Toolbar(id='1138', ...),</div></div><div class=\"1226\" style=\"display: none;\"><div style=\"display: table-cell;\"></div><div style=\"display: table-cell;\">toolbar_location&nbsp;=&nbsp;'right',</div></div><div class=\"1226\" style=\"display: none;\"><div style=\"display: table-cell;\"></div><div style=\"display: table-cell;\">toolbar_sticky&nbsp;=&nbsp;True,</div></div><div class=\"1226\" style=\"display: none;\"><div style=\"display: table-cell;\"></div><div style=\"display: table-cell;\">v_symmetry&nbsp;=&nbsp;False,</div></div><div class=\"1226\" style=\"display: none;\"><div style=\"display: table-cell;\"></div><div style=\"display: table-cell;\">width&nbsp;=&nbsp;None,</div></div><div class=\"1226\" style=\"display: none;\"><div style=\"display: table-cell;\"></div><div style=\"display: table-cell;\">x_range&nbsp;=&nbsp;DataRange1d(id='1114', ...),</div></div><div class=\"1226\" style=\"display: none;\"><div style=\"display: table-cell;\"></div><div style=\"display: table-cell;\">x_scale&nbsp;=&nbsp;LinearScale(id='1118', ...),</div></div><div class=\"1226\" style=\"display: none;\"><div style=\"display: table-cell;\"></div><div style=\"display: table-cell;\">y_range&nbsp;=&nbsp;DataRange1d(id='1116', ...),</div></div><div class=\"1226\" style=\"display: none;\"><div style=\"display: table-cell;\"></div><div style=\"display: table-cell;\">y_scale&nbsp;=&nbsp;LinearScale(id='1120', ...))</div></div></div>\n",
              "<script>\n",
              "(function() {\n",
              "  var expanded = false;\n",
              "  var ellipsis = document.getElementById(\"1227\");\n",
              "  ellipsis.addEventListener(\"click\", function() {\n",
              "    var rows = document.getElementsByClassName(\"1226\");\n",
              "    for (var i = 0; i < rows.length; i++) {\n",
              "      var el = rows[i];\n",
              "      el.style.display = expanded ? \"none\" : \"table-row\";\n",
              "    }\n",
              "    ellipsis.innerHTML = expanded ? \"&hellip;)\" : \"&lsaquo;&lsaquo;&lsaquo;\";\n",
              "    expanded = !expanded;\n",
              "  });\n",
              "})();\n",
              "</script>\n"
            ],
            "text/plain": [
              "Figure(id='1113', ...)"
            ]
          },
          "metadata": {
            "tags": []
          },
          "execution_count": 403
        }
      ]
    },
    {
      "cell_type": "markdown",
      "metadata": {
        "id": "kVzMkO5N__0T",
        "colab_type": "text"
      },
      "source": [
        "## Case 3: Predicting categories with a self-trained model\n",
        "\n",
        "In this case we will use work from Upwork.com (from a recent research paper) to predict task-categories.\n",
        "Upwork https://www.upwork.com is a platform that connects freelancers with short term employers online. The dataset contains text, describing the task, as well as a category task. Unfortunately, not all task descriptions had these category labels. This is where we will use NLP + ML to create the misssing labels. \n",
        "\n",
        "Recent paper with Mareike Seifried and Tobias Kretschmer\n",
        "https://conference.druid.dk/acc_papers/48ox0g0vwmp0vvx8gj7lzwhbimflf0.pdf"
      ]
    },
    {
      "cell_type": "code",
      "metadata": {
        "id": "GasJVUnX__0U",
        "colab_type": "code",
        "colab": {}
      },
      "source": [
        "data = pd.read_csv('upwork_aom_300k.csv')"
      ],
      "execution_count": 0,
      "outputs": []
    },
    {
      "cell_type": "code",
      "metadata": {
        "id": "Shp5-NZR__0V",
        "colab_type": "code",
        "colab": {},
        "outputId": "a5584c78-5ecb-4b70-9391-90677fefdb2c"
      },
      "source": [
        "data.head()"
      ],
      "execution_count": 0,
      "outputs": [
        {
          "output_type": "execute_result",
          "data": {
            "text/html": [
              "<div>\n",
              "<style scoped>\n",
              "    .dataframe tbody tr th:only-of-type {\n",
              "        vertical-align: middle;\n",
              "    }\n",
              "\n",
              "    .dataframe tbody tr th {\n",
              "        vertical-align: top;\n",
              "    }\n",
              "\n",
              "    .dataframe thead th {\n",
              "        text-align: right;\n",
              "    }\n",
              "</style>\n",
              "<table border=\"1\" class=\"dataframe\">\n",
              "  <thead>\n",
              "    <tr style=\"text-align: right;\">\n",
              "      <th></th>\n",
              "      <th>Unnamed: 0</th>\n",
              "      <th>as_opening_title</th>\n",
              "      <th>main_category</th>\n",
              "      <th>sub_category</th>\n",
              "    </tr>\n",
              "  </thead>\n",
              "  <tbody>\n",
              "    <tr>\n",
              "      <th>0</th>\n",
              "      <td>968913</td>\n",
              "      <td>Mailchimp Marketing Assistant</td>\n",
              "      <td>NaN</td>\n",
              "      <td>NaN</td>\n",
              "    </tr>\n",
              "    <tr>\n",
              "      <th>1</th>\n",
              "      <td>1855958</td>\n",
              "      <td>Manually submit 2000 names to an online form</td>\n",
              "      <td>Admin Support</td>\n",
              "      <td>Data Entry</td>\n",
              "    </tr>\n",
              "    <tr>\n",
              "      <th>2</th>\n",
              "      <td>109271</td>\n",
              "      <td>Design</td>\n",
              "      <td>NaN</td>\n",
              "      <td>NaN</td>\n",
              "    </tr>\n",
              "    <tr>\n",
              "      <th>3</th>\n",
              "      <td>1349850</td>\n",
              "      <td>Cool and Fun Graphic Designer/Illustrator need...</td>\n",
              "      <td>Design &amp; Creative</td>\n",
              "      <td>Graphic Design</td>\n",
              "    </tr>\n",
              "    <tr>\n",
              "      <th>4</th>\n",
              "      <td>729567</td>\n",
              "      <td>Html/css/js</td>\n",
              "      <td>NaN</td>\n",
              "      <td>NaN</td>\n",
              "    </tr>\n",
              "  </tbody>\n",
              "</table>\n",
              "</div>"
            ],
            "text/plain": [
              "   Unnamed: 0                                   as_opening_title  \\\n",
              "0      968913                      Mailchimp Marketing Assistant   \n",
              "1     1855958       Manually submit 2000 names to an online form   \n",
              "2      109271                                             Design   \n",
              "3     1349850  Cool and Fun Graphic Designer/Illustrator need...   \n",
              "4      729567                                        Html/css/js   \n",
              "\n",
              "       main_category    sub_category  \n",
              "0                NaN             NaN  \n",
              "1      Admin Support      Data Entry  \n",
              "2                NaN             NaN  \n",
              "3  Design & Creative  Graphic Design  \n",
              "4                NaN             NaN  "
            ]
          },
          "metadata": {
            "tags": []
          },
          "execution_count": 405
        }
      ]
    },
    {
      "cell_type": "code",
      "metadata": {
        "id": "978rL5lG__0Y",
        "colab_type": "code",
        "colab": {},
        "outputId": "768f9ae9-afc9-4ac4-d153-b4fd5d056e42"
      },
      "source": [
        "data.info()"
      ],
      "execution_count": 0,
      "outputs": [
        {
          "output_type": "stream",
          "text": [
            "<class 'pandas.core.frame.DataFrame'>\n",
            "RangeIndex: 300000 entries, 0 to 299999\n",
            "Data columns (total 4 columns):\n",
            "Unnamed: 0          300000 non-null int64\n",
            "as_opening_title    299998 non-null object\n",
            "main_category       87967 non-null object\n",
            "sub_category        87967 non-null object\n",
            "dtypes: int64(1), object(3)\n",
            "memory usage: 9.2+ MB\n"
          ],
          "name": "stdout"
        }
      ]
    },
    {
      "cell_type": "code",
      "metadata": {
        "id": "bwbltJ0n__0b",
        "colab_type": "code",
        "colab": {}
      },
      "source": [
        "# selecting the empty ones\n",
        "\n",
        "data_subset_empty = data[data['main_category'].isnull()]"
      ],
      "execution_count": 0,
      "outputs": []
    },
    {
      "cell_type": "code",
      "metadata": {
        "id": "7ts8krXq__0d",
        "colab_type": "code",
        "colab": {}
      },
      "source": [
        "# selecting the complete ones\n",
        "\n",
        "data_full = data[~data['main_category'].isnull()]"
      ],
      "execution_count": 0,
      "outputs": []
    },
    {
      "cell_type": "code",
      "metadata": {
        "id": "MWDxFj2V__0g",
        "colab_type": "code",
        "colab": {},
        "outputId": "e10aee9b-27cd-42c5-df87-23ea78ce97a0"
      },
      "source": [
        "data_full.info()"
      ],
      "execution_count": 0,
      "outputs": [
        {
          "output_type": "stream",
          "text": [
            "<class 'pandas.core.frame.DataFrame'>\n",
            "Int64Index: 87967 entries, 1 to 299998\n",
            "Data columns (total 4 columns):\n",
            "Unnamed: 0          87967 non-null int64\n",
            "as_opening_title    87967 non-null object\n",
            "main_category       87967 non-null object\n",
            "sub_category        87967 non-null object\n",
            "dtypes: int64(1), object(3)\n",
            "memory usage: 3.4+ MB\n"
          ],
          "name": "stdout"
        }
      ]
    },
    {
      "cell_type": "code",
      "metadata": {
        "id": "m8WKesSr__0i",
        "colab_type": "code",
        "colab": {},
        "outputId": "5bd2b6ad-f66a-4caf-d8d8-94e2e2086d15"
      },
      "source": [
        "# Print out the different categories of tasks\n",
        "\n",
        "for i in data_full['main_category'].unique():\n",
        "    print(i)"
      ],
      "execution_count": 0,
      "outputs": [
        {
          "output_type": "stream",
          "text": [
            "Admin Support\n",
            "Design & Creative\n",
            "Sales & Marketing\n",
            "Writing\n",
            "Web, Mobile & Software Dev\n",
            "Accounting & Consulting\n",
            "Data Science & Analytics\n",
            "IT & Networking\n",
            "Translation\n",
            "Engineering & Architecture\n",
            "Customer Service\n",
            "Legal\n",
            "Web & Mobile Development\n"
          ],
          "name": "stdout"
        }
      ]
    },
    {
      "cell_type": "code",
      "metadata": {
        "id": "bJ6vFtDC__0j",
        "colab_type": "code",
        "colab": {}
      },
      "source": [
        "# import encoders for the dependant variable\n",
        "\n",
        "from sklearn.preprocessing import LabelEncoder\n",
        "from sklearn.preprocessing import OneHotEncoder"
      ],
      "execution_count": 0,
      "outputs": []
    },
    {
      "cell_type": "code",
      "metadata": {
        "id": "lpSvckSB__0l",
        "colab_type": "code",
        "colab": {}
      },
      "source": [
        "# encode the dependant into dummy variables\n",
        "\n",
        "encoder = LabelEncoder()\n",
        "onehot = OneHotEncoder()\n",
        "\n",
        "encoded = encoder.fit_transform(data_full['main_category'])\n",
        "y = onehot.fit_transform(encoded.reshape(-1,1))"
      ],
      "execution_count": 0,
      "outputs": []
    },
    {
      "cell_type": "markdown",
      "metadata": {
        "id": "EuoOMUHn__0m",
        "colab_type": "text"
      },
      "source": [
        "We will be using spacy: https://spacy.io\n",
        "It is a moden and fast NLP library that allows to do NLP tasks without engaging too much with linguistics and low-level tasks"
      ]
    },
    {
      "cell_type": "code",
      "metadata": {
        "id": "ZYh_G7XA__0n",
        "colab_type": "code",
        "colab": {}
      },
      "source": [
        "# import spacy \n",
        "import spacy"
      ],
      "execution_count": 0,
      "outputs": []
    },
    {
      "cell_type": "code",
      "metadata": {
        "id": "LOusSZc-__0o",
        "colab_type": "code",
        "colab": {}
      },
      "source": [
        "# load up a pretrained (there are also spanish models available)\n",
        "nlp = spacy.load('en_core_web_lg')"
      ],
      "execution_count": 0,
      "outputs": []
    },
    {
      "cell_type": "markdown",
      "metadata": {
        "id": "emoR972J__0p",
        "colab_type": "text"
      },
      "source": [
        "In the next step we will use Spacy to work with the language data\n"
      ]
    },
    {
      "cell_type": "code",
      "metadata": {
        "id": "8dSXoSsl__0q",
        "colab_type": "code",
        "colab": {}
      },
      "source": [
        "# Vectorizing the text-data\n",
        "vector_list = []\n",
        "\n",
        "for doc in nlp.pipe(data_full['as_opening_title'], n_threads=4, batch_size=10000):\n",
        "    vector_list.append(doc.vector)"
      ],
      "execution_count": 0,
      "outputs": []
    },
    {
      "cell_type": "code",
      "metadata": {
        "id": "a8BLdtB___0r",
        "colab_type": "code",
        "colab": {}
      },
      "source": [
        "X = np.vstack(vector_list)"
      ],
      "execution_count": 0,
      "outputs": []
    },
    {
      "cell_type": "code",
      "metadata": {
        "id": "sv2xTASW__0t",
        "colab_type": "code",
        "colab": {}
      },
      "source": [
        "X_train, X_test, y_train, y_test = train_test_split(X, encoded, test_size=0.2)"
      ],
      "execution_count": 0,
      "outputs": []
    },
    {
      "cell_type": "code",
      "metadata": {
        "id": "GNm68sVq__0u",
        "colab_type": "code",
        "colab": {}
      },
      "source": [
        "classifier = LogisticRegression(multi_class='multinomial',solver='lbfgs')"
      ],
      "execution_count": 0,
      "outputs": []
    },
    {
      "cell_type": "code",
      "metadata": {
        "id": "RaZ4_gMe__0v",
        "colab_type": "code",
        "colab": {},
        "outputId": "e255d861-d2d8-4913-dd7a-d316a3f504e1"
      },
      "source": [
        "classifier.fit(X_train, y_train)"
      ],
      "execution_count": 0,
      "outputs": [
        {
          "output_type": "execute_result",
          "data": {
            "text/plain": [
              "LogisticRegression(C=1.0, class_weight=None, dual=False, fit_intercept=True,\n",
              "          intercept_scaling=1, max_iter=100, multi_class='multinomial',\n",
              "          n_jobs=None, penalty='l2', random_state=None, solver='lbfgs',\n",
              "          tol=0.0001, verbose=0, warm_start=False)"
            ]
          },
          "metadata": {
            "tags": []
          },
          "execution_count": 418
        }
      ]
    },
    {
      "cell_type": "code",
      "metadata": {
        "id": "RPmC8T2K__0y",
        "colab_type": "code",
        "colab": {},
        "outputId": "d2a69388-4abc-452e-f37d-5184fa0a926d"
      },
      "source": [
        "from sklearn.metrics import classification_report\n",
        "\n",
        "labels = sorted(set([x[0] for x in y_true.tolist()]))\n",
        "targets = encoder.inverse_transform(labels)\n",
        "\n",
        "y_pred = classifier.predict(X_test)\n",
        "\n",
        "print(classification_report(y_test, y_pred, target_names = targets))"
      ],
      "execution_count": 0,
      "outputs": [
        {
          "output_type": "stream",
          "text": [
            "                            precision    recall  f1-score   support\n",
            "\n",
            "   Accounting & Consulting       0.70      0.42      0.52       274\n",
            "             Admin Support       0.64      0.71      0.67      2015\n",
            "          Customer Service       0.69      0.38      0.49       118\n",
            "  Data Science & Analytics       0.47      0.19      0.27       269\n",
            "         Design & Creative       0.83      0.86      0.85      3773\n",
            "Engineering & Architecture       0.73      0.53      0.61       318\n",
            "           IT & Networking       0.65      0.40      0.49       387\n",
            "                     Legal       0.72      0.43      0.54        60\n",
            "         Sales & Marketing       0.66      0.59      0.62      1256\n",
            "               Translation       0.85      0.84      0.85       817\n",
            "  Web & Mobile Development       0.00      0.00      0.00         1\n",
            "Web, Mobile & Software Dev       0.82      0.88      0.85      5486\n",
            "                   Writing       0.81      0.82      0.81      2820\n",
            "\n",
            "                 micro avg       0.78      0.78      0.78     17594\n",
            "                 macro avg       0.66      0.54      0.58     17594\n",
            "              weighted avg       0.78      0.78      0.78     17594\n",
            "\n"
          ],
          "name": "stdout"
        },
        {
          "output_type": "stream",
          "text": [
            "/Users/roman/anaconda3/lib/python3.6/site-packages/sklearn/metrics/classification.py:1143: UndefinedMetricWarning: Precision and F-score are ill-defined and being set to 0.0 in labels with no predicted samples.\n",
            "  'precision', 'predicted', average, warn_for)\n"
          ],
          "name": "stderr"
        }
      ]
    },
    {
      "cell_type": "code",
      "metadata": {
        "id": "npOuPnXP__01",
        "colab_type": "code",
        "colab": {}
      },
      "source": [
        "from sklearn.ensemble import RandomForestClassifier"
      ],
      "execution_count": 0,
      "outputs": []
    },
    {
      "cell_type": "code",
      "metadata": {
        "id": "nolc3tf1__04",
        "colab_type": "code",
        "colab": {}
      },
      "source": [
        "classifier = RandomForestClassifier(n_estimators=50)"
      ],
      "execution_count": 0,
      "outputs": []
    },
    {
      "cell_type": "code",
      "metadata": {
        "id": "Tiobaf1r__05",
        "colab_type": "code",
        "colab": {},
        "outputId": "d9925994-fab0-4b2f-fac3-7f66fadc298f"
      },
      "source": [
        "classifier.fit(X_train, y_train)"
      ],
      "execution_count": 0,
      "outputs": [
        {
          "output_type": "execute_result",
          "data": {
            "text/plain": [
              "RandomForestClassifier(bootstrap=True, class_weight=None, criterion='gini',\n",
              "            max_depth=None, max_features='auto', max_leaf_nodes=None,\n",
              "            min_impurity_decrease=0.0, min_impurity_split=None,\n",
              "            min_samples_leaf=1, min_samples_split=2,\n",
              "            min_weight_fraction_leaf=0.0, n_estimators=100, n_jobs=None,\n",
              "            oob_score=False, random_state=None, verbose=0,\n",
              "            warm_start=False)"
            ]
          },
          "metadata": {
            "tags": []
          },
          "execution_count": 164
        }
      ]
    },
    {
      "cell_type": "code",
      "metadata": {
        "id": "qKAtBue7__08",
        "colab_type": "code",
        "colab": {},
        "outputId": "2ab2d7ca-15c2-4638-972a-b4e226413cdd"
      },
      "source": [
        "from sklearn.metrics import classification_report\n",
        "\n",
        "labels = sorted(set([x[0] for x in y_true.tolist()]))\n",
        "targets = encoder.inverse_transform(labels)\n",
        "\n",
        "y_pred = classifier.predict(X_test)\n",
        "\n",
        "print(classification_report(y_test, y_pred, target_names = targets))"
      ],
      "execution_count": 0,
      "outputs": [
        {
          "output_type": "stream",
          "text": [
            "                            precision    recall  f1-score   support\n",
            "\n",
            "   Accounting & Consulting       0.85      0.31      0.46       274\n",
            "             Admin Support       0.66      0.66      0.66      2015\n",
            "          Customer Service       0.82      0.24      0.37       118\n",
            "  Data Science & Analytics       0.64      0.07      0.12       269\n",
            "         Design & Creative       0.78      0.87      0.82      3773\n",
            "Engineering & Architecture       0.79      0.14      0.24       318\n",
            "           IT & Networking       0.70      0.14      0.23       387\n",
            "                     Legal       0.00      0.00      0.00        60\n",
            "         Sales & Marketing       0.69      0.49      0.57      1256\n",
            "               Translation       0.85      0.83      0.84       817\n",
            "  Web & Mobile Development       0.00      0.00      0.00         1\n",
            "Web, Mobile & Software Dev       0.76      0.91      0.83      5486\n",
            "                   Writing       0.80      0.80      0.80      2820\n",
            "\n",
            "                 micro avg       0.76      0.76      0.76     17594\n",
            "                 macro avg       0.64      0.42      0.46     17594\n",
            "              weighted avg       0.75      0.76      0.74     17594\n",
            "\n"
          ],
          "name": "stdout"
        },
        {
          "output_type": "stream",
          "text": [
            "/Users/roman/anaconda3/lib/python3.6/site-packages/sklearn/metrics/classification.py:1143: UndefinedMetricWarning: Precision and F-score are ill-defined and being set to 0.0 in labels with no predicted samples.\n",
            "  'precision', 'predicted', average, warn_for)\n"
          ],
          "name": "stderr"
        }
      ]
    },
    {
      "cell_type": "code",
      "metadata": {
        "id": "H0E0kv6q__0_",
        "colab_type": "code",
        "colab": {}
      },
      "source": [
        "# Importing the keras library for deep learning\n",
        "\n",
        "import keras\n",
        "from keras.models import Sequential\n",
        "from keras.layers import Dense\n",
        "from keras.layers import Dropout"
      ],
      "execution_count": 0,
      "outputs": []
    },
    {
      "cell_type": "code",
      "metadata": {
        "id": "vblnvN-j__1D",
        "colab_type": "code",
        "colab": {}
      },
      "source": [
        "classifier = Sequential() \n",
        "\n",
        "#### RED ####\n",
        "classifier.add(Dense(units = 256, kernel_initializer='uniform', activation='relu', input_dim = 300))\n",
        "\n",
        "#### BLUE ####\n",
        "classifier.add(Dropout(rate = 0.3))\n",
        "classifier.add(Dense(units = 512, kernel_initializer='uniform', activation='relu'))\n",
        "classifier.add(Dropout(rate = 0.1))\n",
        "classifier.add(Dense(units = 64, kernel_initializer='uniform', activation='relu'))\n",
        "\n",
        "\n",
        "#### GREEN ####\n",
        "classifier.add(Dense(units = 13, kernel_initializer='uniform', activation='softmax'))\n",
        "\n",
        "\n",
        "#### COMPILE ####\n",
        "classifier.compile(optimizer=\"adam\", loss = 'categorical_crossentropy', metrics = ['accuracy'])"
      ],
      "execution_count": 0,
      "outputs": []
    },
    {
      "cell_type": "code",
      "metadata": {
        "id": "rNARZQ7Y__1F",
        "colab_type": "code",
        "colab": {},
        "outputId": "399e066d-6dea-4aed-8164-eed5efa22372"
      },
      "source": [
        "classifier.summary()"
      ],
      "execution_count": 0,
      "outputs": [
        {
          "output_type": "stream",
          "text": [
            "_________________________________________________________________\n",
            "Layer (type)                 Output Shape              Param #   \n",
            "=================================================================\n",
            "dense_1 (Dense)              (None, 256)               77056     \n",
            "_________________________________________________________________\n",
            "dropout_1 (Dropout)          (None, 256)               0         \n",
            "_________________________________________________________________\n",
            "dense_2 (Dense)              (None, 512)               131584    \n",
            "_________________________________________________________________\n",
            "dropout_2 (Dropout)          (None, 512)               0         \n",
            "_________________________________________________________________\n",
            "dense_3 (Dense)              (None, 64)                32832     \n",
            "_________________________________________________________________\n",
            "dense_4 (Dense)              (None, 13)                845       \n",
            "=================================================================\n",
            "Total params: 242,317\n",
            "Trainable params: 242,317\n",
            "Non-trainable params: 0\n",
            "_________________________________________________________________\n"
          ],
          "name": "stdout"
        }
      ]
    },
    {
      "cell_type": "code",
      "metadata": {
        "id": "XLC6X0g2__1G",
        "colab_type": "code",
        "colab": {}
      },
      "source": [
        "X_train, X_test, y_train, y_test = train_test_split(X, y, test_size=0.2)"
      ],
      "execution_count": 0,
      "outputs": []
    },
    {
      "cell_type": "code",
      "metadata": {
        "id": "r4VaQzdl__1H",
        "colab_type": "code",
        "colab": {},
        "outputId": "64de5b9b-9323-4abd-c0db-b44394417ec7"
      },
      "source": [
        "history = classifier.fit(X_train, y_train, batch_size= 500, epochs= 10, validation_data=(X_test, y_test))"
      ],
      "execution_count": 0,
      "outputs": [
        {
          "output_type": "stream",
          "text": [
            "Train on 70373 samples, validate on 17594 samples\n",
            "Epoch 1/10\n",
            "70373/70373 [==============================] - 6s 83us/step - loss: 0.6412 - acc: 0.8043 - val_loss: 0.6608 - val_acc: 0.7973\n",
            "Epoch 2/10\n",
            "70373/70373 [==============================] - 9s 127us/step - loss: 0.6250 - acc: 0.8105 - val_loss: 0.6497 - val_acc: 0.8038\n",
            "Epoch 3/10\n",
            "70373/70373 [==============================] - 7s 93us/step - loss: 0.6129 - acc: 0.8126 - val_loss: 0.6451 - val_acc: 0.8041\n",
            "Epoch 4/10\n",
            "70373/70373 [==============================] - 9s 133us/step - loss: 0.5979 - acc: 0.8168 - val_loss: 0.6449 - val_acc: 0.8030\n",
            "Epoch 5/10\n",
            "70373/70373 [==============================] - 9s 130us/step - loss: 0.5900 - acc: 0.8196 - val_loss: 0.6415 - val_acc: 0.8075\n",
            "Epoch 6/10\n",
            "70373/70373 [==============================] - 9s 126us/step - loss: 0.5775 - acc: 0.8235 - val_loss: 0.6416 - val_acc: 0.8068\n",
            "Epoch 7/10\n",
            "70373/70373 [==============================] - 8s 110us/step - loss: 0.5676 - acc: 0.8258 - val_loss: 0.6416 - val_acc: 0.8070\n",
            "Epoch 8/10\n",
            "70373/70373 [==============================] - 10s 138us/step - loss: 0.5573 - acc: 0.8282 - val_loss: 0.6368 - val_acc: 0.8057\n",
            "Epoch 9/10\n",
            "70373/70373 [==============================] - 10s 137us/step - loss: 0.5494 - acc: 0.8319 - val_loss: 0.6351 - val_acc: 0.8090\n",
            "Epoch 10/10\n",
            "70373/70373 [==============================] - 9s 133us/step - loss: 0.5394 - acc: 0.8342 - val_loss: 0.6416 - val_acc: 0.8085\n"
          ],
          "name": "stdout"
        }
      ]
    },
    {
      "cell_type": "code",
      "metadata": {
        "id": "lOp2vTcC__1J",
        "colab_type": "code",
        "colab": {},
        "outputId": "259c5176-60df-4d0c-81b5-a9e8d6a489e1"
      },
      "source": [
        "pd.DataFrame(history.history)[['acc','val_acc']].plot()"
      ],
      "execution_count": 0,
      "outputs": [
        {
          "output_type": "execute_result",
          "data": {
            "text/plain": [
              "<matplotlib.axes._subplots.AxesSubplot at 0x14cb257f0>"
            ]
          },
          "metadata": {
            "tags": []
          },
          "execution_count": 175
        },
        {
          "output_type": "display_data",
          "data": {
            "image/png": "[encoded data removed]",
            "text/plain": [
              "<Figure size 432x288 with 1 Axes>"
            ]
          },
          "metadata": {
            "tags": []
          }
        }
      ]
    },
    {
      "cell_type": "code",
      "metadata": {
        "id": "NQHV4aHG__1L",
        "colab_type": "code",
        "colab": {},
        "outputId": "1c3f035d-4acf-4fbe-dabb-d2ecf13f3280"
      },
      "source": [
        "from sklearn.metrics import classification_report\n",
        "\n",
        "labels = sorted(set([x[0] for x in y_true.tolist()]))\n",
        "targets = encoder.inverse_transform(labels)\n",
        "\n",
        "y_pred = classifier.predict_classes(X_test)\n",
        "y_true = np.argmax(y_test, axis=1)\n",
        "print(classification_report(y_true, y_pred, target_names=targets))"
      ],
      "execution_count": 0,
      "outputs": [
        {
          "output_type": "stream",
          "text": [
            "                            precision    recall  f1-score   support\n",
            "\n",
            "   Accounting & Consulting       0.72      0.53      0.61       286\n",
            "             Admin Support       0.69      0.73      0.71      2063\n",
            "          Customer Service       0.75      0.43      0.55       113\n",
            "  Data Science & Analytics       0.51      0.23      0.32       274\n",
            "         Design & Creative       0.89      0.84      0.87      3858\n",
            "Engineering & Architecture       0.71      0.69      0.70       328\n",
            "           IT & Networking       0.69      0.42      0.52       390\n",
            "                     Legal       0.67      0.38      0.48        58\n",
            "         Sales & Marketing       0.70      0.65      0.68      1211\n",
            "               Translation       0.86      0.92      0.89       825\n",
            "Web, Mobile & Software Dev       0.82      0.91      0.86      5387\n",
            "                   Writing       0.85      0.84      0.84      2801\n",
            "\n",
            "                 micro avg       0.81      0.81      0.81     17594\n",
            "                 macro avg       0.74      0.63      0.67     17594\n",
            "              weighted avg       0.81      0.81      0.80     17594\n",
            "\n"
          ],
          "name": "stdout"
        }
      ]
    },
    {
      "cell_type": "code",
      "metadata": {
        "id": "PwuUbsvL__1M",
        "colab_type": "code",
        "colab": {}
      },
      "source": [
        "new_data = data_subset_empty.sample(1000)['as_opening_title']"
      ],
      "execution_count": 0,
      "outputs": []
    },
    {
      "cell_type": "code",
      "metadata": {
        "id": "xEoLo5fm__1N",
        "colab_type": "code",
        "colab": {}
      },
      "source": [
        "new_data.index = range(len(new_data))"
      ],
      "execution_count": 0,
      "outputs": []
    },
    {
      "cell_type": "code",
      "metadata": {
        "id": "n4HQRsMN__1O",
        "colab_type": "code",
        "colab": {}
      },
      "source": [
        "new_X = []\n",
        "\n",
        "for doc in nlp.pipe(new_data, n_threads=4, batch_size=10000):\n",
        "    new_X.append(doc.vector)\n",
        "\n",
        "new_X = np.vstack(new_X)"
      ],
      "execution_count": 0,
      "outputs": []
    },
    {
      "cell_type": "code",
      "metadata": {
        "id": "HYC6DIG___1P",
        "colab_type": "code",
        "colab": {}
      },
      "source": [
        "predictions = classifier.predict_classes(new_X)"
      ],
      "execution_count": 0,
      "outputs": []
    },
    {
      "cell_type": "code",
      "metadata": {
        "id": "yCwbDqw1__1Q",
        "colab_type": "code",
        "colab": {}
      },
      "source": [
        "result = pd.concat([new_data, pd.Series(predictions.tolist())], axis=1)"
      ],
      "execution_count": 0,
      "outputs": []
    },
    {
      "cell_type": "code",
      "metadata": {
        "id": "2Yb1KIX0__1R",
        "colab_type": "code",
        "colab": {}
      },
      "source": [
        "result['category'] = encoder.inverse_transform(result[0])"
      ],
      "execution_count": 0,
      "outputs": []
    },
    {
      "cell_type": "code",
      "metadata": {
        "id": "fGZ67rS4__1S",
        "colab_type": "code",
        "colab": {},
        "outputId": "89610b84-6ef1-49e0-cdfc-38d4acd99722"
      },
      "source": [
        "result['category'].unique()"
      ],
      "execution_count": 0,
      "outputs": [
        {
          "output_type": "execute_result",
          "data": {
            "text/plain": [
              "array(['Admin Support', 'Writing', 'Design & Creative',\n",
              "       'Web, Mobile & Software Dev', 'Translation', 'Sales & Marketing',\n",
              "       'Legal', 'IT & Networking', 'Data Science & Analytics',\n",
              "       'Accounting & Consulting', 'Engineering & Architecture',\n",
              "       'Customer Service'], dtype=object)"
            ]
          },
          "metadata": {
            "tags": []
          },
          "execution_count": 236
        }
      ]
    },
    {
      "cell_type": "code",
      "metadata": {
        "id": "CPY8WRvp__1T",
        "colab_type": "code",
        "colab": {},
        "outputId": "e8987a06-1bc7-4ca9-ede5-ca77fef2bc76"
      },
      "source": [
        "result[result.category == 'Writing']"
      ],
      "execution_count": 0,
      "outputs": [
        {
          "output_type": "execute_result",
          "data": {
            "text/html": [
              "<div>\n",
              "<style scoped>\n",
              "    .dataframe tbody tr th:only-of-type {\n",
              "        vertical-align: middle;\n",
              "    }\n",
              "\n",
              "    .dataframe tbody tr th {\n",
              "        vertical-align: top;\n",
              "    }\n",
              "\n",
              "    .dataframe thead th {\n",
              "        text-align: right;\n",
              "    }\n",
              "</style>\n",
              "<table border=\"1\" class=\"dataframe\">\n",
              "  <thead>\n",
              "    <tr style=\"text-align: right;\">\n",
              "      <th></th>\n",
              "      <th>as_opening_title</th>\n",
              "      <th>0</th>\n",
              "      <th>category</th>\n",
              "    </tr>\n",
              "  </thead>\n",
              "  <tbody>\n",
              "    <tr>\n",
              "      <th>1</th>\n",
              "      <td>Retool an article</td>\n",
              "      <td>12</td>\n",
              "      <td>Writing</td>\n",
              "    </tr>\n",
              "    <tr>\n",
              "      <th>12</th>\n",
              "      <td>Do a Voiceover for a Fiverr sale script</td>\n",
              "      <td>12</td>\n",
              "      <td>Writing</td>\n",
              "    </tr>\n",
              "    <tr>\n",
              "      <th>28</th>\n",
              "      <td>Asian Cultural Studies and Identity</td>\n",
              "      <td>12</td>\n",
              "      <td>Writing</td>\n",
              "    </tr>\n",
              "    <tr>\n",
              "      <th>40</th>\n",
              "      <td>Writer for Unique Blog Posts</td>\n",
              "      <td>12</td>\n",
              "      <td>Writing</td>\n",
              "    </tr>\n",
              "    <tr>\n",
              "      <th>44</th>\n",
              "      <td>Short Descriptions</td>\n",
              "      <td>12</td>\n",
              "      <td>Writing</td>\n",
              "    </tr>\n",
              "    <tr>\n",
              "      <th>50</th>\n",
              "      <td>Engaging, Resourceful Content Writer - HEALTHCARE</td>\n",
              "      <td>12</td>\n",
              "      <td>Writing</td>\n",
              "    </tr>\n",
              "    <tr>\n",
              "      <th>59</th>\n",
              "      <td>Discussions on Labor in Philippines</td>\n",
              "      <td>12</td>\n",
              "      <td>Writing</td>\n",
              "    </tr>\n",
              "    <tr>\n",
              "      <th>85</th>\n",
              "      <td>Hotel &amp; Travel Articles - Native English - 5 S...</td>\n",
              "      <td>12</td>\n",
              "      <td>Writing</td>\n",
              "    </tr>\n",
              "    <tr>\n",
              "      <th>100</th>\n",
              "      <td>Editing Short Children Book</td>\n",
              "      <td>12</td>\n",
              "      <td>Writing</td>\n",
              "    </tr>\n",
              "    <tr>\n",
              "      <th>102</th>\n",
              "      <td>Quick Books Training</td>\n",
              "      <td>12</td>\n",
              "      <td>Writing</td>\n",
              "    </tr>\n",
              "    <tr>\n",
              "      <th>126</th>\n",
              "      <td>2 additional articles</td>\n",
              "      <td>12</td>\n",
              "      <td>Writing</td>\n",
              "    </tr>\n",
              "    <tr>\n",
              "      <th>134</th>\n",
              "      <td>Edit for amazon (ebook) (make it better for th...</td>\n",
              "      <td>12</td>\n",
              "      <td>Writing</td>\n",
              "    </tr>\n",
              "    <tr>\n",
              "      <th>154</th>\n",
              "      <td>Gestor de Recursos Humanos</td>\n",
              "      <td>12</td>\n",
              "      <td>Writing</td>\n",
              "    </tr>\n",
              "    <tr>\n",
              "      <th>160</th>\n",
              "      <td>App description copywriter required asap</td>\n",
              "      <td>12</td>\n",
              "      <td>Writing</td>\n",
              "    </tr>\n",
              "    <tr>\n",
              "      <th>163</th>\n",
              "      <td>Writer wanted to describe guest experience!</td>\n",
              "      <td>12</td>\n",
              "      <td>Writing</td>\n",
              "    </tr>\n",
              "    <tr>\n",
              "      <th>170</th>\n",
              "      <td>Ghost Write PPC Related Article</td>\n",
              "      <td>12</td>\n",
              "      <td>Writing</td>\n",
              "    </tr>\n",
              "    <tr>\n",
              "      <th>184</th>\n",
              "      <td>Wedding and Jewelry Blog Writer</td>\n",
              "      <td>12</td>\n",
              "      <td>Writing</td>\n",
              "    </tr>\n",
              "    <tr>\n",
              "      <th>197</th>\n",
              "      <td>German writing job for David</td>\n",
              "      <td>12</td>\n",
              "      <td>Writing</td>\n",
              "    </tr>\n",
              "    <tr>\n",
              "      <th>208</th>\n",
              "      <td>a professional website editor , blogger, and w...</td>\n",
              "      <td>12</td>\n",
              "      <td>Writing</td>\n",
              "    </tr>\n",
              "    <tr>\n",
              "      <th>211</th>\n",
              "      <td>Talented Writer/Editor</td>\n",
              "      <td>12</td>\n",
              "      <td>Writing</td>\n",
              "    </tr>\n",
              "    <tr>\n",
              "      <th>217</th>\n",
              "      <td>300 Word Articles Needed - Set of 3</td>\n",
              "      <td>12</td>\n",
              "      <td>Writing</td>\n",
              "    </tr>\n",
              "    <tr>\n",
              "      <th>221</th>\n",
              "      <td>Course writer</td>\n",
              "      <td>12</td>\n",
              "      <td>Writing</td>\n",
              "    </tr>\n",
              "    <tr>\n",
              "      <th>235</th>\n",
              "      <td>Copyedit &amp; Proofread 35K work manuscript</td>\n",
              "      <td>12</td>\n",
              "      <td>Writing</td>\n",
              "    </tr>\n",
              "    <tr>\n",
              "      <th>237</th>\n",
              "      <td>NDA english -serbian</td>\n",
              "      <td>12</td>\n",
              "      <td>Writing</td>\n",
              "    </tr>\n",
              "    <tr>\n",
              "      <th>249</th>\n",
              "      <td>Recipe Creator needed [November]</td>\n",
              "      <td>12</td>\n",
              "      <td>Writing</td>\n",
              "    </tr>\n",
              "    <tr>\n",
              "      <th>255</th>\n",
              "      <td>~500 word blog post on business topic (explain...</td>\n",
              "      <td>12</td>\n",
              "      <td>Writing</td>\n",
              "    </tr>\n",
              "    <tr>\n",
              "      <th>263</th>\n",
              "      <td>Chapter Book Editor</td>\n",
              "      <td>12</td>\n",
              "      <td>Writing</td>\n",
              "    </tr>\n",
              "    <tr>\n",
              "      <th>266</th>\n",
              "      <td>Content Writing for Engineering Company</td>\n",
              "      <td>12</td>\n",
              "      <td>Writing</td>\n",
              "    </tr>\n",
              "    <tr>\n",
              "      <th>271</th>\n",
              "      <td>article about sleep</td>\n",
              "      <td>12</td>\n",
              "      <td>Writing</td>\n",
              "    </tr>\n",
              "    <tr>\n",
              "      <th>280</th>\n",
              "      <td>Chapter 5</td>\n",
              "      <td>12</td>\n",
              "      <td>Writing</td>\n",
              "    </tr>\n",
              "    <tr>\n",
              "      <th>...</th>\n",
              "      <td>...</td>\n",
              "      <td>...</td>\n",
              "      <td>...</td>\n",
              "    </tr>\n",
              "    <tr>\n",
              "      <th>794</th>\n",
              "      <td>On-going Research and Copywriting of Brief Tec...</td>\n",
              "      <td>12</td>\n",
              "      <td>Writing</td>\n",
              "    </tr>\n",
              "    <tr>\n",
              "      <th>795</th>\n",
              "      <td>Need help to create original test questions - ...</td>\n",
              "      <td>12</td>\n",
              "      <td>Writing</td>\n",
              "    </tr>\n",
              "    <tr>\n",
              "      <th>804</th>\n",
              "      <td>Stockton town guide</td>\n",
              "      <td>12</td>\n",
              "      <td>Writing</td>\n",
              "    </tr>\n",
              "    <tr>\n",
              "      <th>812</th>\n",
              "      <td>Congres esthetique  + Sandwich et Snacking</td>\n",
              "      <td>12</td>\n",
              "      <td>Writing</td>\n",
              "    </tr>\n",
              "    <tr>\n",
              "      <th>814</th>\n",
              "      <td>Copywriting for Aviation clients</td>\n",
              "      <td>12</td>\n",
              "      <td>Writing</td>\n",
              "    </tr>\n",
              "    <tr>\n",
              "      <th>818</th>\n",
              "      <td>Minister birthday letter</td>\n",
              "      <td>12</td>\n",
              "      <td>Writing</td>\n",
              "    </tr>\n",
              "    <tr>\n",
              "      <th>819</th>\n",
              "      <td>Writers wanted</td>\n",
              "      <td>12</td>\n",
              "      <td>Writing</td>\n",
              "    </tr>\n",
              "    <tr>\n",
              "      <th>825</th>\n",
              "      <td>Instagram Content</td>\n",
              "      <td>12</td>\n",
              "      <td>Writing</td>\n",
              "    </tr>\n",
              "    <tr>\n",
              "      <th>841</th>\n",
              "      <td>Correct the unnatural English in transcripts f...</td>\n",
              "      <td>12</td>\n",
              "      <td>Writing</td>\n",
              "    </tr>\n",
              "    <tr>\n",
              "      <th>845</th>\n",
              "      <td>WANTED: Review Writers</td>\n",
              "      <td>12</td>\n",
              "      <td>Writing</td>\n",
              "    </tr>\n",
              "    <tr>\n",
              "      <th>852</th>\n",
              "      <td>10 Perfect English Articles required various t...</td>\n",
              "      <td>12</td>\n",
              "      <td>Writing</td>\n",
              "    </tr>\n",
              "    <tr>\n",
              "      <th>854</th>\n",
              "      <td>editing - job review</td>\n",
              "      <td>12</td>\n",
              "      <td>Writing</td>\n",
              "    </tr>\n",
              "    <tr>\n",
              "      <th>859</th>\n",
              "      <td>Writing Blog posts in your blog</td>\n",
              "      <td>12</td>\n",
              "      <td>Writing</td>\n",
              "    </tr>\n",
              "    <tr>\n",
              "      <th>861</th>\n",
              "      <td>4 emails</td>\n",
              "      <td>12</td>\n",
              "      <td>Writing</td>\n",
              "    </tr>\n",
              "    <tr>\n",
              "      <th>862</th>\n",
              "      <td>CeMAP Editing Piece</td>\n",
              "      <td>12</td>\n",
              "      <td>Writing</td>\n",
              "    </tr>\n",
              "    <tr>\n",
              "      <th>863</th>\n",
              "      <td>Article Writer</td>\n",
              "      <td>12</td>\n",
              "      <td>Writing</td>\n",
              "    </tr>\n",
              "    <tr>\n",
              "      <th>870</th>\n",
              "      <td>Online marketplace (e-Bay, Amazon, Aliexpress ...</td>\n",
              "      <td>12</td>\n",
              "      <td>Writing</td>\n",
              "    </tr>\n",
              "    <tr>\n",
              "      <th>884</th>\n",
              "      <td>20 Article Writers needed Urgent</td>\n",
              "      <td>12</td>\n",
              "      <td>Writing</td>\n",
              "    </tr>\n",
              "    <tr>\n",
              "      <th>885</th>\n",
              "      <td>Mandrill / Mixpanel Reporting</td>\n",
              "      <td>12</td>\n",
              "      <td>Writing</td>\n",
              "    </tr>\n",
              "    <tr>\n",
              "      <th>887</th>\n",
              "      <td>Looking For Original, Serious, Professional, W...</td>\n",
              "      <td>12</td>\n",
              "      <td>Writing</td>\n",
              "    </tr>\n",
              "    <tr>\n",
              "      <th>893</th>\n",
              "      <td>Article Writing</td>\n",
              "      <td>12</td>\n",
              "      <td>Writing</td>\n",
              "    </tr>\n",
              "    <tr>\n",
              "      <th>905</th>\n",
              "      <td>Article Writer</td>\n",
              "      <td>12</td>\n",
              "      <td>Writing</td>\n",
              "    </tr>\n",
              "    <tr>\n",
              "      <th>908</th>\n",
              "      <td>Cover for Two Futuristic Romance novels</td>\n",
              "      <td>12</td>\n",
              "      <td>Writing</td>\n",
              "    </tr>\n",
              "    <tr>\n",
              "      <th>915</th>\n",
              "      <td>JANUARY 2017 EDITION</td>\n",
              "      <td>12</td>\n",
              "      <td>Writing</td>\n",
              "    </tr>\n",
              "    <tr>\n",
              "      <th>923</th>\n",
              "      <td>SEO Article Writer</td>\n",
              "      <td>12</td>\n",
              "      <td>Writing</td>\n",
              "    </tr>\n",
              "    <tr>\n",
              "      <th>942</th>\n",
              "      <td>Experienced Copywriter Needed For Sales Letter...</td>\n",
              "      <td>12</td>\n",
              "      <td>Writing</td>\n",
              "    </tr>\n",
              "    <tr>\n",
              "      <th>944</th>\n",
              "      <td>ORIGINAL Recipes Needed</td>\n",
              "      <td>12</td>\n",
              "      <td>Writing</td>\n",
              "    </tr>\n",
              "    <tr>\n",
              "      <th>952</th>\n",
              "      <td>Re-formatting Business Plans</td>\n",
              "      <td>12</td>\n",
              "      <td>Writing</td>\n",
              "    </tr>\n",
              "    <tr>\n",
              "      <th>957</th>\n",
              "      <td>Start Up Site Content</td>\n",
              "      <td>12</td>\n",
              "      <td>Writing</td>\n",
              "    </tr>\n",
              "    <tr>\n",
              "      <th>976</th>\n",
              "      <td>Nursing</td>\n",
              "      <td>12</td>\n",
              "      <td>Writing</td>\n",
              "    </tr>\n",
              "  </tbody>\n",
              "</table>\n",
              "<p>146 rows × 3 columns</p>\n",
              "</div>"
            ],
            "text/plain": [
              "                                      as_opening_title   0 category\n",
              "1                                    Retool an article  12  Writing\n",
              "12             Do a Voiceover for a Fiverr sale script  12  Writing\n",
              "28                 Asian Cultural Studies and Identity  12  Writing\n",
              "40                        Writer for Unique Blog Posts  12  Writing\n",
              "44                                  Short Descriptions  12  Writing\n",
              "50   Engaging, Resourceful Content Writer - HEALTHCARE  12  Writing\n",
              "59                 Discussions on Labor in Philippines  12  Writing\n",
              "85   Hotel & Travel Articles - Native English - 5 S...  12  Writing\n",
              "100                        Editing Short Children Book  12  Writing\n",
              "102                               Quick Books Training  12  Writing\n",
              "126                              2 additional articles  12  Writing\n",
              "134  Edit for amazon (ebook) (make it better for th...  12  Writing\n",
              "154                         Gestor de Recursos Humanos  12  Writing\n",
              "160           App description copywriter required asap  12  Writing\n",
              "163        Writer wanted to describe guest experience!  12  Writing\n",
              "170                    Ghost Write PPC Related Article  12  Writing\n",
              "184                    Wedding and Jewelry Blog Writer  12  Writing\n",
              "197                       German writing job for David  12  Writing\n",
              "208  a professional website editor , blogger, and w...  12  Writing\n",
              "211                             Talented Writer/Editor  12  Writing\n",
              "217                300 Word Articles Needed - Set of 3  12  Writing\n",
              "221                                      Course writer  12  Writing\n",
              "235           Copyedit & Proofread 35K work manuscript  12  Writing\n",
              "237                               NDA english -serbian  12  Writing\n",
              "249                   Recipe Creator needed [November]  12  Writing\n",
              "255  ~500 word blog post on business topic (explain...  12  Writing\n",
              "263                                Chapter Book Editor  12  Writing\n",
              "266            Content Writing for Engineering Company  12  Writing\n",
              "271                                article about sleep  12  Writing\n",
              "280                                          Chapter 5  12  Writing\n",
              "..                                                 ...  ..      ...\n",
              "794  On-going Research and Copywriting of Brief Tec...  12  Writing\n",
              "795  Need help to create original test questions - ...  12  Writing\n",
              "804                                Stockton town guide  12  Writing\n",
              "812         Congres esthetique  + Sandwich et Snacking  12  Writing\n",
              "814                   Copywriting for Aviation clients  12  Writing\n",
              "818                           Minister birthday letter  12  Writing\n",
              "819                                     Writers wanted  12  Writing\n",
              "825                                  Instagram Content  12  Writing\n",
              "841  Correct the unnatural English in transcripts f...  12  Writing\n",
              "845                             WANTED: Review Writers  12  Writing\n",
              "852  10 Perfect English Articles required various t...  12  Writing\n",
              "854                               editing - job review  12  Writing\n",
              "859                    Writing Blog posts in your blog  12  Writing\n",
              "861                                           4 emails  12  Writing\n",
              "862                                CeMAP Editing Piece  12  Writing\n",
              "863                                     Article Writer  12  Writing\n",
              "870  Online marketplace (e-Bay, Amazon, Aliexpress ...  12  Writing\n",
              "884                   20 Article Writers needed Urgent  12  Writing\n",
              "885                      Mandrill / Mixpanel Reporting  12  Writing\n",
              "887  Looking For Original, Serious, Professional, W...  12  Writing\n",
              "893                                    Article Writing  12  Writing\n",
              "905                                     Article Writer  12  Writing\n",
              "908            Cover for Two Futuristic Romance novels  12  Writing\n",
              "915                               JANUARY 2017 EDITION  12  Writing\n",
              "923                                 SEO Article Writer  12  Writing\n",
              "942  Experienced Copywriter Needed For Sales Letter...  12  Writing\n",
              "944                            ORIGINAL Recipes Needed  12  Writing\n",
              "952                       Re-formatting Business Plans  12  Writing\n",
              "957                              Start Up Site Content  12  Writing\n",
              "976                                            Nursing  12  Writing\n",
              "\n",
              "[146 rows x 3 columns]"
            ]
          },
          "metadata": {
            "tags": []
          },
          "execution_count": 239
        }
      ]
    }
  ]
}